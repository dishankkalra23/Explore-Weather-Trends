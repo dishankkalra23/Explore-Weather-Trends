{
  "nbformat": 4,
  "nbformat_minor": 0,
  "metadata": {
    "colab": {
      "name": "Explore Weather Trends.ipynb",
      "provenance": [],
      "collapsed_sections": [
        "zwwEMFGQwOj_",
        "M13jX2fiw0xJ",
        "av4ODRo6pRZv"
      ],
      "mount_file_id": "1rcMPu3GJSANGPH8jB8Kr19pZPRZcamiR",
      "authorship_tag": "ABX9TyPsVBcUCGRzLJfe35fEc5Ds",
      "include_colab_link": true
    },
    "kernelspec": {
      "name": "python3",
      "display_name": "Python 3"
    },
    "language_info": {
      "name": "python"
    }
  },
  "cells": [
    {
      "cell_type": "markdown",
      "metadata": {
        "id": "view-in-github",
        "colab_type": "text"
      },
      "source": [
        "<a href=\"https://colab.research.google.com/github/dishankkalra23/Explore-Weather-Trends/blob/main/Explore_Weather_Trends.ipynb\" target=\"_parent\"><img src=\"https://colab.research.google.com/assets/colab-badge.svg\" alt=\"Open In Colab\"/></a>"
      ]
    },
    {
      "cell_type": "code",
      "metadata": {
        "id": "uR2qhjptgfnr"
      },
      "source": [
        "import pandas as pd\n",
        "import numpy as np\n",
        "import seaborn as sns\n",
        "import matplotlib.pyplot as plt\n",
        "import matplotlib.patches as mpatches"
      ],
      "execution_count": 52,
      "outputs": []
    },
    {
      "cell_type": "code",
      "metadata": {
        "colab": {
          "base_uri": "https://localhost:8080/"
        },
        "id": "V2L5akR4I8uA",
        "outputId": "06d85df6-ec1a-4a4f-bbda-c36b46d60377"
      },
      "source": [
        "city_data = pd.read_csv(\"/content/drive/MyDrive/Explore Weather Trends/1. city_data.csv\")\n",
        "city_data.shape"
      ],
      "execution_count": 2,
      "outputs": [
        {
          "output_type": "execute_result",
          "data": {
            "text/plain": [
              "(70792, 4)"
            ]
          },
          "metadata": {
            "tags": []
          },
          "execution_count": 2
        }
      ]
    },
    {
      "cell_type": "markdown",
      "metadata": {
        "id": "zwwEMFGQwOj_"
      },
      "source": [
        "# List of Cities in India"
      ]
    },
    {
      "cell_type": "code",
      "metadata": {
        "colab": {
          "base_uri": "https://localhost:8080/"
        },
        "id": "XS8GaFr9vXIH",
        "outputId": "bef120e0-9598-4b74-c7a0-55832b3691a9"
      },
      "source": [
        "Indian_cities = city_data[city_data['country']=='India']['city'].unique()\n",
        "Indian_cities"
      ],
      "execution_count": 3,
      "outputs": [
        {
          "output_type": "execute_result",
          "data": {
            "text/plain": [
              "array(['Agra', 'Ahmadabad', 'Allahabad', 'Amritsar', 'Bangalore',\n",
              "       'Bhopal', 'Delhi', 'Haora', 'Hyderabad', 'Indore', 'Jaipur',\n",
              "       'Kanpur', 'Ludhiana', 'Nagpur', 'New Delhi', 'Patna', 'Pune',\n",
              "       'Rajkot', 'Ranchi', 'Surat', 'Vadodara', 'Varanasi'], dtype=object)"
            ]
          },
          "metadata": {
            "tags": []
          },
          "execution_count": 3
        }
      ]
    },
    {
      "cell_type": "markdown",
      "metadata": {
        "id": "EmjuDPsbwuBp"
      },
      "source": [
        "## Number of Indian Cities"
      ]
    },
    {
      "cell_type": "code",
      "metadata": {
        "colab": {
          "base_uri": "https://localhost:8080/"
        },
        "id": "-Dx6hy8mwqWL",
        "outputId": "599b0f93-9b1f-47ac-dcbb-10dab0674234"
      },
      "source": [
        "len(Indian_cities)"
      ],
      "execution_count": 4,
      "outputs": [
        {
          "output_type": "execute_result",
          "data": {
            "text/plain": [
              "22"
            ]
          },
          "metadata": {
            "tags": []
          },
          "execution_count": 4
        }
      ]
    },
    {
      "cell_type": "markdown",
      "metadata": {
        "id": "M13jX2fiw0xJ"
      },
      "source": [
        "# Indian city chosen: Hyderabad\n",
        "\n"
      ]
    },
    {
      "cell_type": "markdown",
      "metadata": {
        "id": "4yHW-SVsxBQf"
      },
      "source": [
        "## Number of rows in Hyderabad's data\n",
        "Note - There are two cities with name as Hyderabad, one in India and other in Pakistan "
      ]
    },
    {
      "cell_type": "code",
      "metadata": {
        "colab": {
          "base_uri": "https://localhost:8080/"
        },
        "id": "7sEHBaufvxc-",
        "outputId": "8eee5445-6743-4118-bd83-e7b1ab9295b4"
      },
      "source": [
        "data_hyderabad = city_data[(city_data['country']=='India') & (city_data['city']=='Hyderabad')]\n",
        "data_hyderabad.shape[0]"
      ],
      "execution_count": 5,
      "outputs": [
        {
          "output_type": "execute_result",
          "data": {
            "text/plain": [
              "218"
            ]
          },
          "metadata": {
            "tags": []
          },
          "execution_count": 5
        }
      ]
    },
    {
      "cell_type": "markdown",
      "metadata": {
        "id": "FMrPHYbvLlaf"
      },
      "source": [
        "# Handling Missing values"
      ]
    },
    {
      "cell_type": "code",
      "metadata": {
        "id": "wW0LLsHvxc97",
        "colab": {
          "base_uri": "https://localhost:8080/",
          "height": 419
        },
        "outputId": "cb6afae9-5a96-4ea4-fe03-ed0fa07c2937"
      },
      "source": [
        "data_hyderabad"
      ],
      "execution_count": 6,
      "outputs": [
        {
          "output_type": "execute_result",
          "data": {
            "text/html": [
              "<div>\n",
              "<style scoped>\n",
              "    .dataframe tbody tr th:only-of-type {\n",
              "        vertical-align: middle;\n",
              "    }\n",
              "\n",
              "    .dataframe tbody tr th {\n",
              "        vertical-align: top;\n",
              "    }\n",
              "\n",
              "    .dataframe thead th {\n",
              "        text-align: right;\n",
              "    }\n",
              "</style>\n",
              "<table border=\"1\" class=\"dataframe\">\n",
              "  <thead>\n",
              "    <tr style=\"text-align: right;\">\n",
              "      <th></th>\n",
              "      <th>year</th>\n",
              "      <th>city</th>\n",
              "      <th>country</th>\n",
              "      <th>avg_temp</th>\n",
              "    </tr>\n",
              "  </thead>\n",
              "  <tbody>\n",
              "    <tr>\n",
              "      <th>26146</th>\n",
              "      <td>1796</td>\n",
              "      <td>Hyderabad</td>\n",
              "      <td>India</td>\n",
              "      <td>26.53</td>\n",
              "    </tr>\n",
              "    <tr>\n",
              "      <th>26147</th>\n",
              "      <td>1797</td>\n",
              "      <td>Hyderabad</td>\n",
              "      <td>India</td>\n",
              "      <td>27.48</td>\n",
              "    </tr>\n",
              "    <tr>\n",
              "      <th>26148</th>\n",
              "      <td>1798</td>\n",
              "      <td>Hyderabad</td>\n",
              "      <td>India</td>\n",
              "      <td>26.20</td>\n",
              "    </tr>\n",
              "    <tr>\n",
              "      <th>26149</th>\n",
              "      <td>1799</td>\n",
              "      <td>Hyderabad</td>\n",
              "      <td>India</td>\n",
              "      <td>26.84</td>\n",
              "    </tr>\n",
              "    <tr>\n",
              "      <th>26150</th>\n",
              "      <td>1800</td>\n",
              "      <td>Hyderabad</td>\n",
              "      <td>India</td>\n",
              "      <td>26.88</td>\n",
              "    </tr>\n",
              "    <tr>\n",
              "      <th>...</th>\n",
              "      <td>...</td>\n",
              "      <td>...</td>\n",
              "      <td>...</td>\n",
              "      <td>...</td>\n",
              "    </tr>\n",
              "    <tr>\n",
              "      <th>26359</th>\n",
              "      <td>2009</td>\n",
              "      <td>Hyderabad</td>\n",
              "      <td>India</td>\n",
              "      <td>28.03</td>\n",
              "    </tr>\n",
              "    <tr>\n",
              "      <th>26360</th>\n",
              "      <td>2010</td>\n",
              "      <td>Hyderabad</td>\n",
              "      <td>India</td>\n",
              "      <td>27.69</td>\n",
              "    </tr>\n",
              "    <tr>\n",
              "      <th>26361</th>\n",
              "      <td>2011</td>\n",
              "      <td>Hyderabad</td>\n",
              "      <td>India</td>\n",
              "      <td>27.41</td>\n",
              "    </tr>\n",
              "    <tr>\n",
              "      <th>26362</th>\n",
              "      <td>2012</td>\n",
              "      <td>Hyderabad</td>\n",
              "      <td>India</td>\n",
              "      <td>28.02</td>\n",
              "    </tr>\n",
              "    <tr>\n",
              "      <th>26363</th>\n",
              "      <td>2013</td>\n",
              "      <td>Hyderabad</td>\n",
              "      <td>India</td>\n",
              "      <td>28.85</td>\n",
              "    </tr>\n",
              "  </tbody>\n",
              "</table>\n",
              "<p>218 rows × 4 columns</p>\n",
              "</div>"
            ],
            "text/plain": [
              "       year       city country  avg_temp\n",
              "26146  1796  Hyderabad   India     26.53\n",
              "26147  1797  Hyderabad   India     27.48\n",
              "26148  1798  Hyderabad   India     26.20\n",
              "26149  1799  Hyderabad   India     26.84\n",
              "26150  1800  Hyderabad   India     26.88\n",
              "...     ...        ...     ...       ...\n",
              "26359  2009  Hyderabad   India     28.03\n",
              "26360  2010  Hyderabad   India     27.69\n",
              "26361  2011  Hyderabad   India     27.41\n",
              "26362  2012  Hyderabad   India     28.02\n",
              "26363  2013  Hyderabad   India     28.85\n",
              "\n",
              "[218 rows x 4 columns]"
            ]
          },
          "metadata": {
            "tags": []
          },
          "execution_count": 6
        }
      ]
    },
    {
      "cell_type": "markdown",
      "metadata": {
        "id": "0I1y-aDuW9Vr"
      },
      "source": [
        "## Note: Only column-4(avg_temp) has null values"
      ]
    },
    {
      "cell_type": "code",
      "metadata": {
        "colab": {
          "base_uri": "https://localhost:8080/"
        },
        "id": "vr5AE9aTWzg4",
        "outputId": "49ded0bb-51cb-4213-f177-1f0848651814"
      },
      "source": [
        "data_hyderabad.isnull().sum()"
      ],
      "execution_count": 7,
      "outputs": [
        {
          "output_type": "execute_result",
          "data": {
            "text/plain": [
              "year        0\n",
              "city        0\n",
              "country     0\n",
              "avg_temp    7\n",
              "dtype: int64"
            ]
          },
          "metadata": {
            "tags": []
          },
          "execution_count": 7
        }
      ]
    },
    {
      "cell_type": "code",
      "metadata": {
        "colab": {
          "base_uri": "https://localhost:8080/",
          "height": 280
        },
        "id": "NLwrPGNRHMg4",
        "outputId": "83d169fa-7eee-4f60-fc7f-312b94ead21d"
      },
      "source": [
        "x_data = data_hyderabad['year']\n",
        "y_data = data_hyderabad['avg_temp']\n",
        "\n",
        "sns.lineplot(x=x_data,y=y_data,data=data_hyderabad)\n",
        "plt.show()"
      ],
      "execution_count": 8,
      "outputs": [
        {
          "output_type": "display_data",
          "data": {
            "image/png": "[encoded data removed]",
            "text/plain": [
              "<Figure size 432x288 with 1 Axes>"
            ]
          },
          "metadata": {
            "tags": [],
            "needs_background": "light"
          }
        }
      ]
    },
    {
      "cell_type": "markdown",
      "metadata": {
        "id": "dOTvlgsUUtEM"
      },
      "source": [
        "## Filling missing values with mean value of column(avg_temp)"
      ]
    },
    {
      "cell_type": "code",
      "metadata": {
        "colab": {
          "base_uri": "https://localhost:8080/"
        },
        "id": "nVK7tKBxSNii",
        "outputId": "533730c2-23be-4482-f313-285779f27a5d"
      },
      "source": [
        "mean_val = data_hyderabad['avg_temp'].mean(axis=0,skipna=True)\n",
        "mean_val"
      ],
      "execution_count": 9,
      "outputs": [
        {
          "output_type": "execute_result",
          "data": {
            "text/plain": [
              "26.861563981042668"
            ]
          },
          "metadata": {
            "tags": []
          },
          "execution_count": 9
        }
      ]
    },
    {
      "cell_type": "code",
      "metadata": {
        "id": "UVF54LFMSaDJ"
      },
      "source": [
        "data_hyderabad_with_mean = data_hyderabad.fillna(mean_val)"
      ],
      "execution_count": 10,
      "outputs": []
    },
    {
      "cell_type": "code",
      "metadata": {
        "colab": {
          "base_uri": "https://localhost:8080/",
          "height": 280
        },
        "id": "uYTHJffiUeyT",
        "outputId": "4f06ab13-8509-4346-a3a2-299581b2447b"
      },
      "source": [
        "x_data_2 = data_hyderabad_with_mean['year']\n",
        "y_data_2 = data_hyderabad_with_mean['avg_temp']\n",
        "\n",
        "sns.lineplot(x=x_data_2,y=y_data_2,data=data_hyderabad_with_mean)\n",
        "plt.show()"
      ],
      "execution_count": 11,
      "outputs": [
        {
          "output_type": "display_data",
          "data": {
            "image/png": "[encoded data removed]",
            "text/plain": [
              "<Figure size 432x288 with 1 Axes>"
            ]
          },
          "metadata": {
            "tags": [],
            "needs_background": "light"
          }
        }
      ]
    },
    {
      "cell_type": "markdown",
      "metadata": {
        "id": "LYaA_9i3U7fq"
      },
      "source": [
        "## Filling missing values with interpolation method"
      ]
    },
    {
      "cell_type": "code",
      "metadata": {
        "colab": {
          "base_uri": "https://localhost:8080/",
          "height": 385
        },
        "id": "jzHCzZ_mUpR9",
        "outputId": "cb8c9181-236d-46d8-93c7-081f76d34dd6"
      },
      "source": [
        "sns.lineplot(x=x_data,y=y_data,data=data_hyderabad.interpolate(inplace=True))\n",
        "plt.show()"
      ],
      "execution_count": 12,
      "outputs": [
        {
          "output_type": "stream",
          "text": [
            "/usr/local/lib/python3.7/dist-packages/ipykernel_launcher.py:1: SettingWithCopyWarning: \n",
            "A value is trying to be set on a copy of a slice from a DataFrame\n",
            "\n",
            "See the caveats in the documentation: https://pandas.pydata.org/pandas-docs/stable/user_guide/indexing.html#returning-a-view-versus-a-copy\n",
            "  \"\"\"Entry point for launching an IPython kernel.\n"
          ],
          "name": "stderr"
        },
        {
          "output_type": "display_data",
          "data": {
            "image/png": "[encoded data removed]",
            "text/plain": [
              "<Figure size 432x288 with 1 Axes>"
            ]
          },
          "metadata": {
            "tags": [],
            "needs_background": "light"
          }
        }
      ]
    },
    {
      "cell_type": "markdown",
      "metadata": {
        "id": "mkcObSpmaldU"
      },
      "source": [
        "# Moving Averages of Hyderabad's yearly\n"
      ]
    },
    {
      "cell_type": "markdown",
      "metadata": {
        "id": "bw7AIPlkdljw"
      },
      "source": [
        "## Checking if there is any missing values( filled missing values using interpolate )"
      ]
    },
    {
      "cell_type": "code",
      "metadata": {
        "id": "E7heesLjaq8B",
        "colab": {
          "base_uri": "https://localhost:8080/"
        },
        "outputId": "2bbfcdcc-5b3e-4d21-f172-9a909909776a"
      },
      "source": [
        "data_hyderabad.isnull().sum()"
      ],
      "execution_count": 13,
      "outputs": [
        {
          "output_type": "execute_result",
          "data": {
            "text/plain": [
              "year        0\n",
              "city        0\n",
              "country     0\n",
              "avg_temp    0\n",
              "dtype: int64"
            ]
          },
          "metadata": {
            "tags": []
          },
          "execution_count": 13
        }
      ]
    },
    {
      "cell_type": "markdown",
      "metadata": {
        "id": "o96ZHDFMDcEB"
      },
      "source": [
        "## Function to find moving averages of yearly temperature in Hyderabad"
      ]
    },
    {
      "cell_type": "markdown",
      "metadata": {
        "id": "FfL55zd0D8dF"
      },
      "source": [
        "### Making a new column 'moving_avg'"
      ]
    },
    {
      "cell_type": "code",
      "metadata": {
        "colab": {
          "base_uri": "https://localhost:8080/",
          "height": 419
        },
        "id": "TU-OHG1Pdum0",
        "outputId": "28c230dc-12ed-483f-c742-92877493ed0a"
      },
      "source": [
        "check_data = data_hyderabad.copy()\n",
        "check_data['moving_avg'] = np.nan\n",
        "check_data"
      ],
      "execution_count": 14,
      "outputs": [
        {
          "output_type": "execute_result",
          "data": {
            "text/html": [
              "<div>\n",
              "<style scoped>\n",
              "    .dataframe tbody tr th:only-of-type {\n",
              "        vertical-align: middle;\n",
              "    }\n",
              "\n",
              "    .dataframe tbody tr th {\n",
              "        vertical-align: top;\n",
              "    }\n",
              "\n",
              "    .dataframe thead th {\n",
              "        text-align: right;\n",
              "    }\n",
              "</style>\n",
              "<table border=\"1\" class=\"dataframe\">\n",
              "  <thead>\n",
              "    <tr style=\"text-align: right;\">\n",
              "      <th></th>\n",
              "      <th>year</th>\n",
              "      <th>city</th>\n",
              "      <th>country</th>\n",
              "      <th>avg_temp</th>\n",
              "      <th>moving_avg</th>\n",
              "    </tr>\n",
              "  </thead>\n",
              "  <tbody>\n",
              "    <tr>\n",
              "      <th>26146</th>\n",
              "      <td>1796</td>\n",
              "      <td>Hyderabad</td>\n",
              "      <td>India</td>\n",
              "      <td>26.53</td>\n",
              "      <td>NaN</td>\n",
              "    </tr>\n",
              "    <tr>\n",
              "      <th>26147</th>\n",
              "      <td>1797</td>\n",
              "      <td>Hyderabad</td>\n",
              "      <td>India</td>\n",
              "      <td>27.48</td>\n",
              "      <td>NaN</td>\n",
              "    </tr>\n",
              "    <tr>\n",
              "      <th>26148</th>\n",
              "      <td>1798</td>\n",
              "      <td>Hyderabad</td>\n",
              "      <td>India</td>\n",
              "      <td>26.20</td>\n",
              "      <td>NaN</td>\n",
              "    </tr>\n",
              "    <tr>\n",
              "      <th>26149</th>\n",
              "      <td>1799</td>\n",
              "      <td>Hyderabad</td>\n",
              "      <td>India</td>\n",
              "      <td>26.84</td>\n",
              "      <td>NaN</td>\n",
              "    </tr>\n",
              "    <tr>\n",
              "      <th>26150</th>\n",
              "      <td>1800</td>\n",
              "      <td>Hyderabad</td>\n",
              "      <td>India</td>\n",
              "      <td>26.88</td>\n",
              "      <td>NaN</td>\n",
              "    </tr>\n",
              "    <tr>\n",
              "      <th>...</th>\n",
              "      <td>...</td>\n",
              "      <td>...</td>\n",
              "      <td>...</td>\n",
              "      <td>...</td>\n",
              "      <td>...</td>\n",
              "    </tr>\n",
              "    <tr>\n",
              "      <th>26359</th>\n",
              "      <td>2009</td>\n",
              "      <td>Hyderabad</td>\n",
              "      <td>India</td>\n",
              "      <td>28.03</td>\n",
              "      <td>NaN</td>\n",
              "    </tr>\n",
              "    <tr>\n",
              "      <th>26360</th>\n",
              "      <td>2010</td>\n",
              "      <td>Hyderabad</td>\n",
              "      <td>India</td>\n",
              "      <td>27.69</td>\n",
              "      <td>NaN</td>\n",
              "    </tr>\n",
              "    <tr>\n",
              "      <th>26361</th>\n",
              "      <td>2011</td>\n",
              "      <td>Hyderabad</td>\n",
              "      <td>India</td>\n",
              "      <td>27.41</td>\n",
              "      <td>NaN</td>\n",
              "    </tr>\n",
              "    <tr>\n",
              "      <th>26362</th>\n",
              "      <td>2012</td>\n",
              "      <td>Hyderabad</td>\n",
              "      <td>India</td>\n",
              "      <td>28.02</td>\n",
              "      <td>NaN</td>\n",
              "    </tr>\n",
              "    <tr>\n",
              "      <th>26363</th>\n",
              "      <td>2013</td>\n",
              "      <td>Hyderabad</td>\n",
              "      <td>India</td>\n",
              "      <td>28.85</td>\n",
              "      <td>NaN</td>\n",
              "    </tr>\n",
              "  </tbody>\n",
              "</table>\n",
              "<p>218 rows × 5 columns</p>\n",
              "</div>"
            ],
            "text/plain": [
              "       year       city country  avg_temp  moving_avg\n",
              "26146  1796  Hyderabad   India     26.53         NaN\n",
              "26147  1797  Hyderabad   India     27.48         NaN\n",
              "26148  1798  Hyderabad   India     26.20         NaN\n",
              "26149  1799  Hyderabad   India     26.84         NaN\n",
              "26150  1800  Hyderabad   India     26.88         NaN\n",
              "...     ...        ...     ...       ...         ...\n",
              "26359  2009  Hyderabad   India     28.03         NaN\n",
              "26360  2010  Hyderabad   India     27.69         NaN\n",
              "26361  2011  Hyderabad   India     27.41         NaN\n",
              "26362  2012  Hyderabad   India     28.02         NaN\n",
              "26363  2013  Hyderabad   India     28.85         NaN\n",
              "\n",
              "[218 rows x 5 columns]"
            ]
          },
          "metadata": {
            "tags": []
          },
          "execution_count": 14
        }
      ]
    },
    {
      "cell_type": "markdown",
      "metadata": {
        "id": "SeuUiTLsEegF"
      },
      "source": [
        "### Function: Running_a(window_size,rows,prev,new) \n",
        "\n",
        "\n",
        "\n"
      ]
    },
    {
      "cell_type": "code",
      "metadata": {
        "id": "EYHi6e5ZjiZB"
      },
      "source": [
        "def running_avg(window_size,rows,prev,new):\n",
        "  for i in range(rows - window_size + 1):\n",
        "    calc_running_avg = 0\n",
        "    for j in range(i, i + window_size):\n",
        "      calc_running_avg += prev.iloc[j]\n",
        "    new.iloc[i + window_size - 1] = calc_running_avg/window_size\n",
        "  return check_data"
      ],
      "execution_count": 15,
      "outputs": []
    },
    {
      "cell_type": "code",
      "metadata": {
        "colab": {
          "base_uri": "https://localhost:8080/"
        },
        "id": "4uk4fklcE6pb",
        "outputId": "f1c0cc44-b254-4485-c08f-ec43befd58ab"
      },
      "source": [
        "new = check_data['moving_avg']\n",
        "prev = check_data['avg_temp']\n",
        "rows = check_data.shape[0]\n",
        "window_size = 25\n",
        "\n",
        "result = running_avg(window_size,rows,prev,new)\n",
        "print(result)"
      ],
      "execution_count": 16,
      "outputs": [
        {
          "output_type": "stream",
          "text": [
            "       year       city country  avg_temp  moving_avg\n",
            "26146  1796  Hyderabad   India     26.53         NaN\n",
            "26147  1797  Hyderabad   India     27.48         NaN\n",
            "26148  1798  Hyderabad   India     26.20         NaN\n",
            "26149  1799  Hyderabad   India     26.84         NaN\n",
            "26150  1800  Hyderabad   India     26.88         NaN\n",
            "...     ...        ...     ...       ...         ...\n",
            "26359  2009  Hyderabad   India     28.03     27.4312\n",
            "26360  2010  Hyderabad   India     27.69     27.4384\n",
            "26361  2011  Hyderabad   India     27.41     27.4264\n",
            "26362  2012  Hyderabad   India     28.02     27.4456\n",
            "26363  2013  Hyderabad   India     28.85     27.5020\n",
            "\n",
            "[218 rows x 5 columns]\n"
          ],
          "name": "stdout"
        },
        {
          "output_type": "stream",
          "text": [
            "/usr/local/lib/python3.7/dist-packages/pandas/core/indexing.py:670: SettingWithCopyWarning: \n",
            "A value is trying to be set on a copy of a slice from a DataFrame\n",
            "\n",
            "See the caveats in the documentation: https://pandas.pydata.org/pandas-docs/stable/user_guide/indexing.html#returning-a-view-versus-a-copy\n",
            "  iloc._setitem_with_indexer(indexer, value)\n"
          ],
          "name": "stderr"
        }
      ]
    },
    {
      "cell_type": "code",
      "metadata": {
        "colab": {
          "base_uri": "https://localhost:8080/",
          "height": 279
        },
        "id": "vJjq-sgeuKc8",
        "outputId": "67be9f93-9006-40a1-e460-195cd24f2989"
      },
      "source": [
        "x_data_3 = check_data['year']\n",
        "y_data_3 = check_data['moving_avg']\n",
        "\n",
        "ax = sns.lineplot(x=x_data_3,y=y_data_3,data=check_data)\n",
        "ax.set(xlabel='Years',ylabel='MA of yearly temp')\n",
        "plt.show()"
      ],
      "execution_count": 17,
      "outputs": [
        {
          "output_type": "display_data",
          "data": {
            "image/png": "[encoded data removed]",
            "text/plain": [
              "<Figure size 432x288 with 1 Axes>"
            ]
          },
          "metadata": {
            "tags": [],
            "needs_background": "light"
          }
        }
      ]
    },
    {
      "cell_type": "markdown",
      "metadata": {
        "id": "PtLs5twgHkeY"
      },
      "source": [
        "## Using **rolling** method to find moving averages"
      ]
    },
    {
      "cell_type": "code",
      "metadata": {
        "colab": {
          "base_uri": "https://localhost:8080/",
          "height": 979
        },
        "id": "J9xsGXAUwKSL",
        "outputId": "ac411b08-3b4f-4ecc-8100-59668b89b977"
      },
      "source": [
        "check_data['MA_window_size'] = check_data['avg_temp'].rolling(window=50).mean()\n",
        "check_data.head(30)"
      ],
      "execution_count": 18,
      "outputs": [
        {
          "output_type": "execute_result",
          "data": {
            "text/html": [
              "<div>\n",
              "<style scoped>\n",
              "    .dataframe tbody tr th:only-of-type {\n",
              "        vertical-align: middle;\n",
              "    }\n",
              "\n",
              "    .dataframe tbody tr th {\n",
              "        vertical-align: top;\n",
              "    }\n",
              "\n",
              "    .dataframe thead th {\n",
              "        text-align: right;\n",
              "    }\n",
              "</style>\n",
              "<table border=\"1\" class=\"dataframe\">\n",
              "  <thead>\n",
              "    <tr style=\"text-align: right;\">\n",
              "      <th></th>\n",
              "      <th>year</th>\n",
              "      <th>city</th>\n",
              "      <th>country</th>\n",
              "      <th>avg_temp</th>\n",
              "      <th>moving_avg</th>\n",
              "      <th>MA_window_size</th>\n",
              "    </tr>\n",
              "  </thead>\n",
              "  <tbody>\n",
              "    <tr>\n",
              "      <th>26146</th>\n",
              "      <td>1796</td>\n",
              "      <td>Hyderabad</td>\n",
              "      <td>India</td>\n",
              "      <td>26.530000</td>\n",
              "      <td>NaN</td>\n",
              "      <td>NaN</td>\n",
              "    </tr>\n",
              "    <tr>\n",
              "      <th>26147</th>\n",
              "      <td>1797</td>\n",
              "      <td>Hyderabad</td>\n",
              "      <td>India</td>\n",
              "      <td>27.480000</td>\n",
              "      <td>NaN</td>\n",
              "      <td>NaN</td>\n",
              "    </tr>\n",
              "    <tr>\n",
              "      <th>26148</th>\n",
              "      <td>1798</td>\n",
              "      <td>Hyderabad</td>\n",
              "      <td>India</td>\n",
              "      <td>26.200000</td>\n",
              "      <td>NaN</td>\n",
              "      <td>NaN</td>\n",
              "    </tr>\n",
              "    <tr>\n",
              "      <th>26149</th>\n",
              "      <td>1799</td>\n",
              "      <td>Hyderabad</td>\n",
              "      <td>India</td>\n",
              "      <td>26.840000</td>\n",
              "      <td>NaN</td>\n",
              "      <td>NaN</td>\n",
              "    </tr>\n",
              "    <tr>\n",
              "      <th>26150</th>\n",
              "      <td>1800</td>\n",
              "      <td>Hyderabad</td>\n",
              "      <td>India</td>\n",
              "      <td>26.880000</td>\n",
              "      <td>NaN</td>\n",
              "      <td>NaN</td>\n",
              "    </tr>\n",
              "    <tr>\n",
              "      <th>26151</th>\n",
              "      <td>1801</td>\n",
              "      <td>Hyderabad</td>\n",
              "      <td>India</td>\n",
              "      <td>26.050000</td>\n",
              "      <td>NaN</td>\n",
              "      <td>NaN</td>\n",
              "    </tr>\n",
              "    <tr>\n",
              "      <th>26152</th>\n",
              "      <td>1802</td>\n",
              "      <td>Hyderabad</td>\n",
              "      <td>India</td>\n",
              "      <td>27.440000</td>\n",
              "      <td>NaN</td>\n",
              "      <td>NaN</td>\n",
              "    </tr>\n",
              "    <tr>\n",
              "      <th>26153</th>\n",
              "      <td>1803</td>\n",
              "      <td>Hyderabad</td>\n",
              "      <td>India</td>\n",
              "      <td>27.220000</td>\n",
              "      <td>NaN</td>\n",
              "      <td>NaN</td>\n",
              "    </tr>\n",
              "    <tr>\n",
              "      <th>26154</th>\n",
              "      <td>1804</td>\n",
              "      <td>Hyderabad</td>\n",
              "      <td>India</td>\n",
              "      <td>27.650000</td>\n",
              "      <td>NaN</td>\n",
              "      <td>NaN</td>\n",
              "    </tr>\n",
              "    <tr>\n",
              "      <th>26155</th>\n",
              "      <td>1805</td>\n",
              "      <td>Hyderabad</td>\n",
              "      <td>India</td>\n",
              "      <td>27.020000</td>\n",
              "      <td>NaN</td>\n",
              "      <td>NaN</td>\n",
              "    </tr>\n",
              "    <tr>\n",
              "      <th>26156</th>\n",
              "      <td>1806</td>\n",
              "      <td>Hyderabad</td>\n",
              "      <td>India</td>\n",
              "      <td>26.890000</td>\n",
              "      <td>NaN</td>\n",
              "      <td>NaN</td>\n",
              "    </tr>\n",
              "    <tr>\n",
              "      <th>26157</th>\n",
              "      <td>1807</td>\n",
              "      <td>Hyderabad</td>\n",
              "      <td>India</td>\n",
              "      <td>26.150000</td>\n",
              "      <td>NaN</td>\n",
              "      <td>NaN</td>\n",
              "    </tr>\n",
              "    <tr>\n",
              "      <th>26158</th>\n",
              "      <td>1808</td>\n",
              "      <td>Hyderabad</td>\n",
              "      <td>India</td>\n",
              "      <td>26.166667</td>\n",
              "      <td>NaN</td>\n",
              "      <td>NaN</td>\n",
              "    </tr>\n",
              "    <tr>\n",
              "      <th>26159</th>\n",
              "      <td>1809</td>\n",
              "      <td>Hyderabad</td>\n",
              "      <td>India</td>\n",
              "      <td>26.183333</td>\n",
              "      <td>NaN</td>\n",
              "      <td>NaN</td>\n",
              "    </tr>\n",
              "    <tr>\n",
              "      <th>26160</th>\n",
              "      <td>1810</td>\n",
              "      <td>Hyderabad</td>\n",
              "      <td>India</td>\n",
              "      <td>26.200000</td>\n",
              "      <td>NaN</td>\n",
              "      <td>NaN</td>\n",
              "    </tr>\n",
              "    <tr>\n",
              "      <th>26161</th>\n",
              "      <td>1811</td>\n",
              "      <td>Hyderabad</td>\n",
              "      <td>India</td>\n",
              "      <td>26.216667</td>\n",
              "      <td>NaN</td>\n",
              "      <td>NaN</td>\n",
              "    </tr>\n",
              "    <tr>\n",
              "      <th>26162</th>\n",
              "      <td>1812</td>\n",
              "      <td>Hyderabad</td>\n",
              "      <td>India</td>\n",
              "      <td>26.233333</td>\n",
              "      <td>NaN</td>\n",
              "      <td>NaN</td>\n",
              "    </tr>\n",
              "    <tr>\n",
              "      <th>26163</th>\n",
              "      <td>1813</td>\n",
              "      <td>Hyderabad</td>\n",
              "      <td>India</td>\n",
              "      <td>26.250000</td>\n",
              "      <td>NaN</td>\n",
              "      <td>NaN</td>\n",
              "    </tr>\n",
              "    <tr>\n",
              "      <th>26164</th>\n",
              "      <td>1814</td>\n",
              "      <td>Hyderabad</td>\n",
              "      <td>India</td>\n",
              "      <td>25.650000</td>\n",
              "      <td>NaN</td>\n",
              "      <td>NaN</td>\n",
              "    </tr>\n",
              "    <tr>\n",
              "      <th>26165</th>\n",
              "      <td>1815</td>\n",
              "      <td>Hyderabad</td>\n",
              "      <td>India</td>\n",
              "      <td>25.800000</td>\n",
              "      <td>NaN</td>\n",
              "      <td>NaN</td>\n",
              "    </tr>\n",
              "    <tr>\n",
              "      <th>26166</th>\n",
              "      <td>1816</td>\n",
              "      <td>Hyderabad</td>\n",
              "      <td>India</td>\n",
              "      <td>25.380000</td>\n",
              "      <td>NaN</td>\n",
              "      <td>NaN</td>\n",
              "    </tr>\n",
              "    <tr>\n",
              "      <th>26167</th>\n",
              "      <td>1817</td>\n",
              "      <td>Hyderabad</td>\n",
              "      <td>India</td>\n",
              "      <td>25.610000</td>\n",
              "      <td>NaN</td>\n",
              "      <td>NaN</td>\n",
              "    </tr>\n",
              "    <tr>\n",
              "      <th>26168</th>\n",
              "      <td>1818</td>\n",
              "      <td>Hyderabad</td>\n",
              "      <td>India</td>\n",
              "      <td>25.830000</td>\n",
              "      <td>NaN</td>\n",
              "      <td>NaN</td>\n",
              "    </tr>\n",
              "    <tr>\n",
              "      <th>26169</th>\n",
              "      <td>1819</td>\n",
              "      <td>Hyderabad</td>\n",
              "      <td>India</td>\n",
              "      <td>25.780000</td>\n",
              "      <td>NaN</td>\n",
              "      <td>NaN</td>\n",
              "    </tr>\n",
              "    <tr>\n",
              "      <th>26170</th>\n",
              "      <td>1820</td>\n",
              "      <td>Hyderabad</td>\n",
              "      <td>India</td>\n",
              "      <td>25.880000</td>\n",
              "      <td>26.3812</td>\n",
              "      <td>NaN</td>\n",
              "    </tr>\n",
              "    <tr>\n",
              "      <th>26171</th>\n",
              "      <td>1821</td>\n",
              "      <td>Hyderabad</td>\n",
              "      <td>India</td>\n",
              "      <td>26.450000</td>\n",
              "      <td>26.3780</td>\n",
              "      <td>NaN</td>\n",
              "    </tr>\n",
              "    <tr>\n",
              "      <th>26172</th>\n",
              "      <td>1822</td>\n",
              "      <td>Hyderabad</td>\n",
              "      <td>India</td>\n",
              "      <td>26.430000</td>\n",
              "      <td>26.3360</td>\n",
              "      <td>NaN</td>\n",
              "    </tr>\n",
              "    <tr>\n",
              "      <th>26173</th>\n",
              "      <td>1823</td>\n",
              "      <td>Hyderabad</td>\n",
              "      <td>India</td>\n",
              "      <td>26.650000</td>\n",
              "      <td>26.3540</td>\n",
              "      <td>NaN</td>\n",
              "    </tr>\n",
              "    <tr>\n",
              "      <th>26174</th>\n",
              "      <td>1824</td>\n",
              "      <td>Hyderabad</td>\n",
              "      <td>India</td>\n",
              "      <td>27.100000</td>\n",
              "      <td>26.3644</td>\n",
              "      <td>NaN</td>\n",
              "    </tr>\n",
              "    <tr>\n",
              "      <th>26175</th>\n",
              "      <td>1825</td>\n",
              "      <td>Hyderabad</td>\n",
              "      <td>India</td>\n",
              "      <td>26.720000</td>\n",
              "      <td>26.3580</td>\n",
              "      <td>NaN</td>\n",
              "    </tr>\n",
              "  </tbody>\n",
              "</table>\n",
              "</div>"
            ],
            "text/plain": [
              "       year       city country   avg_temp  moving_avg  MA_window_size\n",
              "26146  1796  Hyderabad   India  26.530000         NaN             NaN\n",
              "26147  1797  Hyderabad   India  27.480000         NaN             NaN\n",
              "26148  1798  Hyderabad   India  26.200000         NaN             NaN\n",
              "26149  1799  Hyderabad   India  26.840000         NaN             NaN\n",
              "26150  1800  Hyderabad   India  26.880000         NaN             NaN\n",
              "26151  1801  Hyderabad   India  26.050000         NaN             NaN\n",
              "26152  1802  Hyderabad   India  27.440000         NaN             NaN\n",
              "26153  1803  Hyderabad   India  27.220000         NaN             NaN\n",
              "26154  1804  Hyderabad   India  27.650000         NaN             NaN\n",
              "26155  1805  Hyderabad   India  27.020000         NaN             NaN\n",
              "26156  1806  Hyderabad   India  26.890000         NaN             NaN\n",
              "26157  1807  Hyderabad   India  26.150000         NaN             NaN\n",
              "26158  1808  Hyderabad   India  26.166667         NaN             NaN\n",
              "26159  1809  Hyderabad   India  26.183333         NaN             NaN\n",
              "26160  1810  Hyderabad   India  26.200000         NaN             NaN\n",
              "26161  1811  Hyderabad   India  26.216667         NaN             NaN\n",
              "26162  1812  Hyderabad   India  26.233333         NaN             NaN\n",
              "26163  1813  Hyderabad   India  26.250000         NaN             NaN\n",
              "26164  1814  Hyderabad   India  25.650000         NaN             NaN\n",
              "26165  1815  Hyderabad   India  25.800000         NaN             NaN\n",
              "26166  1816  Hyderabad   India  25.380000         NaN             NaN\n",
              "26167  1817  Hyderabad   India  25.610000         NaN             NaN\n",
              "26168  1818  Hyderabad   India  25.830000         NaN             NaN\n",
              "26169  1819  Hyderabad   India  25.780000         NaN             NaN\n",
              "26170  1820  Hyderabad   India  25.880000     26.3812             NaN\n",
              "26171  1821  Hyderabad   India  26.450000     26.3780             NaN\n",
              "26172  1822  Hyderabad   India  26.430000     26.3360             NaN\n",
              "26173  1823  Hyderabad   India  26.650000     26.3540             NaN\n",
              "26174  1824  Hyderabad   India  27.100000     26.3644             NaN\n",
              "26175  1825  Hyderabad   India  26.720000     26.3580             NaN"
            ]
          },
          "metadata": {
            "tags": []
          },
          "execution_count": 18
        }
      ]
    },
    {
      "cell_type": "code",
      "metadata": {
        "colab": {
          "base_uri": "https://localhost:8080/",
          "height": 279
        },
        "id": "1s1Nw6GT1s-L",
        "outputId": "71354317-9677-4870-a823-2b7c56687cf0"
      },
      "source": [
        "# x_data_3 = check_data['year']\n",
        "# y_data_3 = check_data['MA_window_size']\n",
        "\n",
        "ax = sns.lineplot(x='year',y='MA_window_size',data=check_data)\n",
        "ax.set(xlabel='Years',ylabel='MA of yearly temp')\n",
        "plt.show()"
      ],
      "execution_count": 19,
      "outputs": [
        {
          "output_type": "display_data",
          "data": {
            "image/png": "[encoded data removed]",
            "text/plain": [
              "<Figure size 432x288 with 1 Axes>"
            ]
          },
          "metadata": {
            "tags": [],
            "needs_background": "light"
          }
        }
      ]
    },
    {
      "cell_type": "markdown",
      "metadata": {
        "id": "av4ODRo6pRZv"
      },
      "source": [
        "# Global Data"
      ]
    },
    {
      "cell_type": "code",
      "metadata": {
        "colab": {
          "base_uri": "https://localhost:8080/"
        },
        "id": "TWzrgSJ_pUeX",
        "outputId": "9a0351f5-d9de-465a-8f53-3a593fb0800b"
      },
      "source": [
        "global_data = pd.read_csv(\"/content/drive/MyDrive/Explore Weather Trends/2. global_data.csv\")\n",
        "global_data.shape"
      ],
      "execution_count": 20,
      "outputs": [
        {
          "output_type": "execute_result",
          "data": {
            "text/plain": [
              "(266, 2)"
            ]
          },
          "metadata": {
            "tags": []
          },
          "execution_count": 20
        }
      ]
    },
    {
      "cell_type": "code",
      "metadata": {
        "colab": {
          "base_uri": "https://localhost:8080/"
        },
        "id": "iW-YUyJ1pb5J",
        "outputId": "d4aa4978-db1f-4b83-adf0-5621354a6e86"
      },
      "source": [
        "global_data.isnull().sum()"
      ],
      "execution_count": 21,
      "outputs": [
        {
          "output_type": "execute_result",
          "data": {
            "text/plain": [
              "year        0\n",
              "avg_temp    0\n",
              "dtype: int64"
            ]
          },
          "metadata": {
            "tags": []
          },
          "execution_count": 21
        }
      ]
    },
    {
      "cell_type": "code",
      "metadata": {
        "colab": {
          "base_uri": "https://localhost:8080/",
          "height": 0
        },
        "id": "sBRqN9BHy4zR",
        "outputId": "7f294146-6ed6-43c4-816a-24c3cab3cc52"
      },
      "source": [
        "global_data.head(10)"
      ],
      "execution_count": 22,
      "outputs": [
        {
          "output_type": "execute_result",
          "data": {
            "text/html": [
              "<div>\n",
              "<style scoped>\n",
              "    .dataframe tbody tr th:only-of-type {\n",
              "        vertical-align: middle;\n",
              "    }\n",
              "\n",
              "    .dataframe tbody tr th {\n",
              "        vertical-align: top;\n",
              "    }\n",
              "\n",
              "    .dataframe thead th {\n",
              "        text-align: right;\n",
              "    }\n",
              "</style>\n",
              "<table border=\"1\" class=\"dataframe\">\n",
              "  <thead>\n",
              "    <tr style=\"text-align: right;\">\n",
              "      <th></th>\n",
              "      <th>year</th>\n",
              "      <th>avg_temp</th>\n",
              "    </tr>\n",
              "  </thead>\n",
              "  <tbody>\n",
              "    <tr>\n",
              "      <th>0</th>\n",
              "      <td>1750</td>\n",
              "      <td>8.72</td>\n",
              "    </tr>\n",
              "    <tr>\n",
              "      <th>1</th>\n",
              "      <td>1751</td>\n",
              "      <td>7.98</td>\n",
              "    </tr>\n",
              "    <tr>\n",
              "      <th>2</th>\n",
              "      <td>1752</td>\n",
              "      <td>5.78</td>\n",
              "    </tr>\n",
              "    <tr>\n",
              "      <th>3</th>\n",
              "      <td>1753</td>\n",
              "      <td>8.39</td>\n",
              "    </tr>\n",
              "    <tr>\n",
              "      <th>4</th>\n",
              "      <td>1754</td>\n",
              "      <td>8.47</td>\n",
              "    </tr>\n",
              "    <tr>\n",
              "      <th>5</th>\n",
              "      <td>1755</td>\n",
              "      <td>8.36</td>\n",
              "    </tr>\n",
              "    <tr>\n",
              "      <th>6</th>\n",
              "      <td>1756</td>\n",
              "      <td>8.85</td>\n",
              "    </tr>\n",
              "    <tr>\n",
              "      <th>7</th>\n",
              "      <td>1757</td>\n",
              "      <td>9.02</td>\n",
              "    </tr>\n",
              "    <tr>\n",
              "      <th>8</th>\n",
              "      <td>1758</td>\n",
              "      <td>6.74</td>\n",
              "    </tr>\n",
              "    <tr>\n",
              "      <th>9</th>\n",
              "      <td>1759</td>\n",
              "      <td>7.99</td>\n",
              "    </tr>\n",
              "  </tbody>\n",
              "</table>\n",
              "</div>"
            ],
            "text/plain": [
              "   year  avg_temp\n",
              "0  1750      8.72\n",
              "1  1751      7.98\n",
              "2  1752      5.78\n",
              "3  1753      8.39\n",
              "4  1754      8.47\n",
              "5  1755      8.36\n",
              "6  1756      8.85\n",
              "7  1757      9.02\n",
              "8  1758      6.74\n",
              "9  1759      7.99"
            ]
          },
          "metadata": {
            "tags": []
          },
          "execution_count": 22
        }
      ]
    },
    {
      "cell_type": "markdown",
      "metadata": {
        "id": "mt-e9YBJzRqK"
      },
      "source": [
        "## Line chart of global avg. temp."
      ]
    },
    {
      "cell_type": "code",
      "metadata": {
        "id": "6my2NG5dzRQS",
        "colab": {
          "base_uri": "https://localhost:8080/",
          "height": 0
        },
        "outputId": "93090152-b252-4997-86ad-b39daaa6b741"
      },
      "source": [
        "x_data_4 = global_data['year']\n",
        "y_data_4 = global_data['avg_temp']\n",
        "\n",
        "ax = sns.lineplot(x=x_data_4,y=y_data_4,data=global_data)\n",
        "ax.set(xlabel='Years',ylabel='Average Temp.')\n",
        "plt.show()"
      ],
      "execution_count": 23,
      "outputs": [
        {
          "output_type": "display_data",
          "data": {
            "image/png": "[encoded data removed]",
            "text/plain": [
              "<Figure size 432x288 with 1 Axes>"
            ]
          },
          "metadata": {
            "tags": [],
            "needs_background": "light"
          }
        }
      ]
    },
    {
      "cell_type": "markdown",
      "metadata": {
        "id": "aD3Hr7cMKNIb"
      },
      "source": [
        "# Comparing Local(Hyderabad) and Global Temperature"
      ]
    },
    {
      "cell_type": "markdown",
      "metadata": {
        "id": "eJCjmIHmn1mK"
      },
      "source": [
        "## Importing local-global data to compare trends"
      ]
    },
    {
      "cell_type": "code",
      "metadata": {
        "colab": {
          "base_uri": "https://localhost:8080/"
        },
        "id": "EwcCzOEmKThb",
        "outputId": "4e1dd26e-7787-4093-e540-4f498e91b819"
      },
      "source": [
        "df_trends = pd.read_csv(\"/content/drive/MyDrive/Explore Weather Trends/5. global_city_data.csv\")\n",
        "df_trends.shape"
      ],
      "execution_count": 24,
      "outputs": [
        {
          "output_type": "execute_result",
          "data": {
            "text/plain": [
              "(218, 3)"
            ]
          },
          "metadata": {
            "tags": []
          },
          "execution_count": 24
        }
      ]
    },
    {
      "cell_type": "markdown",
      "metadata": {
        "id": "RY--O6B9n_6K"
      },
      "source": [
        "## Checking for missing values"
      ]
    },
    {
      "cell_type": "code",
      "metadata": {
        "colab": {
          "base_uri": "https://localhost:8080/"
        },
        "id": "ByPF-tI2KzrN",
        "outputId": "d1c405c3-9909-437a-c5af-1361273d83d5"
      },
      "source": [
        "df_trends.isnull().sum()"
      ],
      "execution_count": 25,
      "outputs": [
        {
          "output_type": "execute_result",
          "data": {
            "text/plain": [
              "year           0\n",
              "city_temp      7\n",
              "global_temp    0\n",
              "dtype: int64"
            ]
          },
          "metadata": {
            "tags": []
          },
          "execution_count": 25
        }
      ]
    },
    {
      "cell_type": "code",
      "metadata": {
        "colab": {
          "base_uri": "https://localhost:8080/",
          "height": 266
        },
        "id": "t2inr_JXLbmE",
        "outputId": "9ec16497-563a-473c-b768-a424f4a7ba6c"
      },
      "source": [
        "df_trends[df_trends.isnull().any(axis=1)]"
      ],
      "execution_count": 26,
      "outputs": [
        {
          "output_type": "execute_result",
          "data": {
            "text/html": [
              "<div>\n",
              "<style scoped>\n",
              "    .dataframe tbody tr th:only-of-type {\n",
              "        vertical-align: middle;\n",
              "    }\n",
              "\n",
              "    .dataframe tbody tr th {\n",
              "        vertical-align: top;\n",
              "    }\n",
              "\n",
              "    .dataframe thead th {\n",
              "        text-align: right;\n",
              "    }\n",
              "</style>\n",
              "<table border=\"1\" class=\"dataframe\">\n",
              "  <thead>\n",
              "    <tr style=\"text-align: right;\">\n",
              "      <th></th>\n",
              "      <th>year</th>\n",
              "      <th>city_temp</th>\n",
              "      <th>global_temp</th>\n",
              "    </tr>\n",
              "  </thead>\n",
              "  <tbody>\n",
              "    <tr>\n",
              "      <th>12</th>\n",
              "      <td>1808</td>\n",
              "      <td>NaN</td>\n",
              "      <td>7.63</td>\n",
              "    </tr>\n",
              "    <tr>\n",
              "      <th>13</th>\n",
              "      <td>1809</td>\n",
              "      <td>NaN</td>\n",
              "      <td>7.08</td>\n",
              "    </tr>\n",
              "    <tr>\n",
              "      <th>14</th>\n",
              "      <td>1810</td>\n",
              "      <td>NaN</td>\n",
              "      <td>6.92</td>\n",
              "    </tr>\n",
              "    <tr>\n",
              "      <th>15</th>\n",
              "      <td>1811</td>\n",
              "      <td>NaN</td>\n",
              "      <td>6.86</td>\n",
              "    </tr>\n",
              "    <tr>\n",
              "      <th>16</th>\n",
              "      <td>1812</td>\n",
              "      <td>NaN</td>\n",
              "      <td>7.05</td>\n",
              "    </tr>\n",
              "    <tr>\n",
              "      <th>67</th>\n",
              "      <td>1863</td>\n",
              "      <td>NaN</td>\n",
              "      <td>8.11</td>\n",
              "    </tr>\n",
              "    <tr>\n",
              "      <th>68</th>\n",
              "      <td>1864</td>\n",
              "      <td>NaN</td>\n",
              "      <td>7.98</td>\n",
              "    </tr>\n",
              "  </tbody>\n",
              "</table>\n",
              "</div>"
            ],
            "text/plain": [
              "    year  city_temp  global_temp\n",
              "12  1808        NaN         7.63\n",
              "13  1809        NaN         7.08\n",
              "14  1810        NaN         6.92\n",
              "15  1811        NaN         6.86\n",
              "16  1812        NaN         7.05\n",
              "67  1863        NaN         8.11\n",
              "68  1864        NaN         7.98"
            ]
          },
          "metadata": {
            "tags": []
          },
          "execution_count": 26
        }
      ]
    },
    {
      "cell_type": "markdown",
      "metadata": {
        "id": "zd8UfY3BoIvW"
      },
      "source": [
        "### Index of missing values"
      ]
    },
    {
      "cell_type": "code",
      "metadata": {
        "colab": {
          "base_uri": "https://localhost:8080/"
        },
        "id": "6r1iS0hGRPYn",
        "outputId": "9520c7e2-8da8-4a80-e812-b87cd1ad6402"
      },
      "source": [
        "missing_values = df_trends[df_trends.isnull().any(axis=1)].index.values.tolist()\n",
        "missing_values"
      ],
      "execution_count": 27,
      "outputs": [
        {
          "output_type": "execute_result",
          "data": {
            "text/plain": [
              "[12, 13, 14, 15, 16, 67, 68]"
            ]
          },
          "metadata": {
            "tags": []
          },
          "execution_count": 27
        }
      ]
    },
    {
      "cell_type": "markdown",
      "metadata": {
        "id": "s7A7UIqqoPOB"
      },
      "source": [
        "## Filling missing values"
      ]
    },
    {
      "cell_type": "code",
      "metadata": {
        "id": "j0TP2Z1ANsA3"
      },
      "source": [
        "df_trends.interpolate(inplace=True)"
      ],
      "execution_count": 28,
      "outputs": []
    },
    {
      "cell_type": "code",
      "metadata": {
        "colab": {
          "base_uri": "https://localhost:8080/"
        },
        "id": "sg9ffxRPK4k2",
        "outputId": "d23f6031-445f-4586-80e3-d4f25da045d0"
      },
      "source": [
        "for i in missing_values:\n",
        "  print(df_trends.iloc[i],\"\\n\")\n"
      ],
      "execution_count": 29,
      "outputs": [
        {
          "output_type": "stream",
          "text": [
            "year           1808.000000\n",
            "city_temp        26.166667\n",
            "global_temp       7.630000\n",
            "Name: 12, dtype: float64 \n",
            "\n",
            "year           1809.000000\n",
            "city_temp        26.183333\n",
            "global_temp       7.080000\n",
            "Name: 13, dtype: float64 \n",
            "\n",
            "year           1810.00\n",
            "city_temp        26.20\n",
            "global_temp       6.92\n",
            "Name: 14, dtype: float64 \n",
            "\n",
            "year           1811.000000\n",
            "city_temp        26.216667\n",
            "global_temp       6.860000\n",
            "Name: 15, dtype: float64 \n",
            "\n",
            "year           1812.000000\n",
            "city_temp        26.233333\n",
            "global_temp       7.050000\n",
            "Name: 16, dtype: float64 \n",
            "\n",
            "year           1863.00\n",
            "city_temp        25.24\n",
            "global_temp       8.11\n",
            "Name: 67, dtype: float64 \n",
            "\n",
            "year           1864.00\n",
            "city_temp        26.10\n",
            "global_temp       7.98\n",
            "Name: 68, dtype: float64 \n",
            "\n"
          ],
          "name": "stdout"
        }
      ]
    },
    {
      "cell_type": "markdown",
      "metadata": {
        "id": "V1IUZYR1osOD"
      },
      "source": [
        "## Finding Moving Averages of local(Hyderabad) and global data"
      ]
    },
    {
      "cell_type": "code",
      "metadata": {
        "id": "OTBxWdyrSi4o",
        "colab": {
          "base_uri": "https://localhost:8080/",
          "height": 359
        },
        "outputId": "bb1256c1-e2f8-4756-bc3a-61635752b91b"
      },
      "source": [
        "window_size = 7\n",
        "df_trends['MA_city_temp'] = df_trends['city_temp'].rolling(window=window_size).mean()\n",
        "df_trends['MA_global_temp'] = df_trends['global_temp'].rolling(window=window_size).mean()\n",
        "\n",
        "df_trends.head(10)"
      ],
      "execution_count": 65,
      "outputs": [
        {
          "output_type": "execute_result",
          "data": {
            "text/html": [
              "<div>\n",
              "<style scoped>\n",
              "    .dataframe tbody tr th:only-of-type {\n",
              "        vertical-align: middle;\n",
              "    }\n",
              "\n",
              "    .dataframe tbody tr th {\n",
              "        vertical-align: top;\n",
              "    }\n",
              "\n",
              "    .dataframe thead th {\n",
              "        text-align: right;\n",
              "    }\n",
              "</style>\n",
              "<table border=\"1\" class=\"dataframe\">\n",
              "  <thead>\n",
              "    <tr style=\"text-align: right;\">\n",
              "      <th></th>\n",
              "      <th>year</th>\n",
              "      <th>city_temp</th>\n",
              "      <th>global_temp</th>\n",
              "      <th>MA_city_temp</th>\n",
              "      <th>MA_global_temp</th>\n",
              "    </tr>\n",
              "  </thead>\n",
              "  <tbody>\n",
              "    <tr>\n",
              "      <th>0</th>\n",
              "      <td>1796</td>\n",
              "      <td>26.53</td>\n",
              "      <td>8.27</td>\n",
              "      <td>NaN</td>\n",
              "      <td>NaN</td>\n",
              "    </tr>\n",
              "    <tr>\n",
              "      <th>1</th>\n",
              "      <td>1797</td>\n",
              "      <td>27.48</td>\n",
              "      <td>8.51</td>\n",
              "      <td>NaN</td>\n",
              "      <td>NaN</td>\n",
              "    </tr>\n",
              "    <tr>\n",
              "      <th>2</th>\n",
              "      <td>1798</td>\n",
              "      <td>26.20</td>\n",
              "      <td>8.67</td>\n",
              "      <td>NaN</td>\n",
              "      <td>NaN</td>\n",
              "    </tr>\n",
              "    <tr>\n",
              "      <th>3</th>\n",
              "      <td>1799</td>\n",
              "      <td>26.84</td>\n",
              "      <td>8.51</td>\n",
              "      <td>NaN</td>\n",
              "      <td>NaN</td>\n",
              "    </tr>\n",
              "    <tr>\n",
              "      <th>4</th>\n",
              "      <td>1800</td>\n",
              "      <td>26.88</td>\n",
              "      <td>8.48</td>\n",
              "      <td>NaN</td>\n",
              "      <td>NaN</td>\n",
              "    </tr>\n",
              "    <tr>\n",
              "      <th>5</th>\n",
              "      <td>1801</td>\n",
              "      <td>26.05</td>\n",
              "      <td>8.59</td>\n",
              "      <td>NaN</td>\n",
              "      <td>NaN</td>\n",
              "    </tr>\n",
              "    <tr>\n",
              "      <th>6</th>\n",
              "      <td>1802</td>\n",
              "      <td>27.44</td>\n",
              "      <td>8.58</td>\n",
              "      <td>26.774286</td>\n",
              "      <td>8.515714</td>\n",
              "    </tr>\n",
              "    <tr>\n",
              "      <th>7</th>\n",
              "      <td>1803</td>\n",
              "      <td>27.22</td>\n",
              "      <td>8.50</td>\n",
              "      <td>26.872857</td>\n",
              "      <td>8.548571</td>\n",
              "    </tr>\n",
              "    <tr>\n",
              "      <th>8</th>\n",
              "      <td>1804</td>\n",
              "      <td>27.65</td>\n",
              "      <td>8.84</td>\n",
              "      <td>26.897143</td>\n",
              "      <td>8.595714</td>\n",
              "    </tr>\n",
              "    <tr>\n",
              "      <th>9</th>\n",
              "      <td>1805</td>\n",
              "      <td>27.02</td>\n",
              "      <td>8.56</td>\n",
              "      <td>27.014286</td>\n",
              "      <td>8.580000</td>\n",
              "    </tr>\n",
              "  </tbody>\n",
              "</table>\n",
              "</div>"
            ],
            "text/plain": [
              "   year  city_temp  global_temp  MA_city_temp  MA_global_temp\n",
              "0  1796      26.53         8.27           NaN             NaN\n",
              "1  1797      27.48         8.51           NaN             NaN\n",
              "2  1798      26.20         8.67           NaN             NaN\n",
              "3  1799      26.84         8.51           NaN             NaN\n",
              "4  1800      26.88         8.48           NaN             NaN\n",
              "5  1801      26.05         8.59           NaN             NaN\n",
              "6  1802      27.44         8.58     26.774286        8.515714\n",
              "7  1803      27.22         8.50     26.872857        8.548571\n",
              "8  1804      27.65         8.84     26.897143        8.595714\n",
              "9  1805      27.02         8.56     27.014286        8.580000"
            ]
          },
          "metadata": {
            "tags": []
          },
          "execution_count": 65
        }
      ]
    },
    {
      "cell_type": "code",
      "metadata": {
        "id": "JHurZuW3pnQK",
        "colab": {
          "base_uri": "https://localhost:8080/",
          "height": 334
        },
        "outputId": "5af162de-feab-4335-b465-19570789e13d"
      },
      "source": [
        "\n",
        "plt.plot(df_trends['year'],df_trends['MA_city_temp'],color='red')\n",
        "plt.plot(df_trends['year'],df_trends['MA_global_temp'],color='green')\n",
        "\n",
        "plt.title('Temperature trends b/w global & local')\n",
        "plt.xlabel('Years')\n",
        "plt.ylabel('Average Temp')\n",
        "\n",
        "red_patch = mpatches.Patch(color='red',label='City Temp')\n",
        "green_patch = mpatches.Patch(color='green',label='Global Temp')\n",
        "plt.legend(handles=[red_patch,green_patch],bbox_to_anchor =(0.84, 1.25), ncol = 2)\n",
        "plt.show()"
      ],
      "execution_count": 81,
      "outputs": [
        {
          "output_type": "display_data",
          "data": {
            "image/png": "[encoded data removed]",
            "text/plain": [
              "<Figure size 432x288 with 1 Axes>"
            ]
          },
          "metadata": {
            "tags": []
          }
        }
      ]
    }
  ]
}