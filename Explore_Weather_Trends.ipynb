{
  "nbformat": 4,
  "nbformat_minor": 0,
  "metadata": {
    "accelerator": "GPU",
    "colab": {
      "name": "Explore Weather Trends.ipynb",
      "provenance": [],
      "collapsed_sections": [],
      "toc_visible": true,
      "mount_file_id": "1rcMPu3GJSANGPH8jB8Kr19pZPRZcamiR",
      "authorship_tag": "ABX9TyMxcku5LcJ+IGpZm8lgpAUf",
      "include_colab_link": true
    },
    "kernelspec": {
      "display_name": "Python 3",
      "name": "python3"
    },
    "language_info": {
      "name": "python"
    }
  },
  "cells": [
    {
      "cell_type": "markdown",
      "metadata": {
        "id": "view-in-github",
        "colab_type": "text"
      },
      "source": [
        "<a href=\"https://colab.research.google.com/github/dishankkalra23/Explore-Weather-Trends/blob/main/Explore_Weather_Trends.ipynb\" target=\"_parent\"><img src=\"https://colab.research.google.com/assets/colab-badge.svg\" alt=\"Open In Colab\"/></a>"
      ]
    },
    {
      "cell_type": "code",
      "metadata": {
        "id": "uR2qhjptgfnr"
      },
      "source": [
        "import pandas as pd\n",
        "import numpy as np\n",
        "import seaborn as sns\n",
        "import matplotlib.pyplot as plt\n",
        "import matplotlib.patches as mpatches"
      ],
      "execution_count": 102,
      "outputs": []
    },
    {
      "cell_type": "code",
      "metadata": {
        "id": "V2L5akR4I8uA"
      },
      "source": [
        "city_data = pd.read_csv(\"/content/drive/MyDrive/Explore Weather Trends/1. city_data.csv\")"
      ],
      "execution_count": 103,
      "outputs": []
    },
    {
      "cell_type": "code",
      "metadata": {
        "colab": {
          "base_uri": "https://localhost:8080/"
        },
        "id": "pLa2it7V7njo",
        "outputId": "66ace6a5-e02f-4ddb-e63d-35c7f167371f"
      },
      "source": [
        "city_data.shape"
      ],
      "execution_count": 104,
      "outputs": [
        {
          "output_type": "execute_result",
          "data": {
            "text/plain": [
              "(70792, 4)"
            ]
          },
          "metadata": {
            "tags": []
          },
          "execution_count": 104
        }
      ]
    },
    {
      "cell_type": "code",
      "metadata": {
        "colab": {
          "base_uri": "https://localhost:8080/",
          "height": 359
        },
        "id": "_VqVvMwo7t6P",
        "outputId": "1f8c9049-69bb-4a50-c7bc-ab8664d38960"
      },
      "source": [
        "city_data.sample(10)"
      ],
      "execution_count": 105,
      "outputs": [
        {
          "output_type": "execute_result",
          "data": {
            "text/html": [
              "<div>\n",
              "<style scoped>\n",
              "    .dataframe tbody tr th:only-of-type {\n",
              "        vertical-align: middle;\n",
              "    }\n",
              "\n",
              "    .dataframe tbody tr th {\n",
              "        vertical-align: top;\n",
              "    }\n",
              "\n",
              "    .dataframe thead th {\n",
              "        text-align: right;\n",
              "    }\n",
              "</style>\n",
              "<table border=\"1\" class=\"dataframe\">\n",
              "  <thead>\n",
              "    <tr style=\"text-align: right;\">\n",
              "      <th></th>\n",
              "      <th>year</th>\n",
              "      <th>city</th>\n",
              "      <th>country</th>\n",
              "      <th>avg_temp</th>\n",
              "    </tr>\n",
              "  </thead>\n",
              "  <tbody>\n",
              "    <tr>\n",
              "      <th>69776</th>\n",
              "      <td>1844</td>\n",
              "      <td>Xuzhou</td>\n",
              "      <td>China</td>\n",
              "      <td>13.83</td>\n",
              "    </tr>\n",
              "    <tr>\n",
              "      <th>1123</th>\n",
              "      <td>1864</td>\n",
              "      <td>Agra</td>\n",
              "      <td>India</td>\n",
              "      <td>NaN</td>\n",
              "    </tr>\n",
              "    <tr>\n",
              "      <th>13398</th>\n",
              "      <td>1894</td>\n",
              "      <td>Caracas</td>\n",
              "      <td>Venezuela</td>\n",
              "      <td>24.25</td>\n",
              "    </tr>\n",
              "    <tr>\n",
              "      <th>43158</th>\n",
              "      <td>1820</td>\n",
              "      <td>Montreal</td>\n",
              "      <td>Canada</td>\n",
              "      <td>3.88</td>\n",
              "    </tr>\n",
              "    <tr>\n",
              "      <th>28695</th>\n",
              "      <td>1866</td>\n",
              "      <td>Jakarta</td>\n",
              "      <td>Indonesia</td>\n",
              "      <td>25.96</td>\n",
              "    </tr>\n",
              "    <tr>\n",
              "      <th>56491</th>\n",
              "      <td>1854</td>\n",
              "      <td>San Antonio</td>\n",
              "      <td>United States</td>\n",
              "      <td>19.53</td>\n",
              "    </tr>\n",
              "    <tr>\n",
              "      <th>5346</th>\n",
              "      <td>1824</td>\n",
              "      <td>Baghdad</td>\n",
              "      <td>Iraq</td>\n",
              "      <td>22.96</td>\n",
              "    </tr>\n",
              "    <tr>\n",
              "      <th>9748</th>\n",
              "      <td>2012</td>\n",
              "      <td>Bhopal</td>\n",
              "      <td>India</td>\n",
              "      <td>25.82</td>\n",
              "    </tr>\n",
              "    <tr>\n",
              "      <th>68940</th>\n",
              "      <td>1878</td>\n",
              "      <td>Wichita</td>\n",
              "      <td>United States</td>\n",
              "      <td>13.66</td>\n",
              "    </tr>\n",
              "    <tr>\n",
              "      <th>57868</th>\n",
              "      <td>1874</td>\n",
              "      <td>Santiago</td>\n",
              "      <td>Philippines</td>\n",
              "      <td>25.70</td>\n",
              "    </tr>\n",
              "  </tbody>\n",
              "</table>\n",
              "</div>"
            ],
            "text/plain": [
              "       year         city        country  avg_temp\n",
              "69776  1844       Xuzhou          China     13.83\n",
              "1123   1864         Agra          India       NaN\n",
              "13398  1894      Caracas      Venezuela     24.25\n",
              "43158  1820     Montreal         Canada      3.88\n",
              "28695  1866      Jakarta      Indonesia     25.96\n",
              "56491  1854  San Antonio  United States     19.53\n",
              "5346   1824      Baghdad           Iraq     22.96\n",
              "9748   2012       Bhopal          India     25.82\n",
              "68940  1878      Wichita  United States     13.66\n",
              "57868  1874     Santiago    Philippines     25.70"
            ]
          },
          "metadata": {
            "tags": []
          },
          "execution_count": 105
        }
      ]
    },
    {
      "cell_type": "markdown",
      "metadata": {
        "id": "zwwEMFGQwOj_"
      },
      "source": [
        "# List of Cities in India"
      ]
    },
    {
      "cell_type": "code",
      "metadata": {
        "colab": {
          "base_uri": "https://localhost:8080/"
        },
        "id": "XS8GaFr9vXIH",
        "outputId": "a77bf803-e74f-4173-fcd5-90efd8689221"
      },
      "source": [
        "Indian_cities = city_data[city_data['country']=='India']['city'].unique()\n",
        "Indian_cities"
      ],
      "execution_count": 106,
      "outputs": [
        {
          "output_type": "execute_result",
          "data": {
            "text/plain": [
              "array(['Agra', 'Ahmadabad', 'Allahabad', 'Amritsar', 'Bangalore',\n",
              "       'Bhopal', 'Delhi', 'Haora', 'Hyderabad', 'Indore', 'Jaipur',\n",
              "       'Kanpur', 'Ludhiana', 'Nagpur', 'New Delhi', 'Patna', 'Pune',\n",
              "       'Rajkot', 'Ranchi', 'Surat', 'Vadodara', 'Varanasi'], dtype=object)"
            ]
          },
          "metadata": {
            "tags": []
          },
          "execution_count": 106
        }
      ]
    },
    {
      "cell_type": "markdown",
      "metadata": {
        "id": "EmjuDPsbwuBp"
      },
      "source": [
        "## Number of Indian Cities"
      ]
    },
    {
      "cell_type": "code",
      "metadata": {
        "colab": {
          "base_uri": "https://localhost:8080/"
        },
        "id": "-Dx6hy8mwqWL",
        "outputId": "0ec28534-a6f0-4f38-c7b4-83787836ef44"
      },
      "source": [
        "len(Indian_cities)"
      ],
      "execution_count": 107,
      "outputs": [
        {
          "output_type": "execute_result",
          "data": {
            "text/plain": [
              "22"
            ]
          },
          "metadata": {
            "tags": []
          },
          "execution_count": 107
        }
      ]
    },
    {
      "cell_type": "markdown",
      "metadata": {
        "id": "M13jX2fiw0xJ"
      },
      "source": [
        "# Indian city chosen: Hyderabad\n",
        "\n"
      ]
    },
    {
      "cell_type": "markdown",
      "metadata": {
        "id": "4yHW-SVsxBQf"
      },
      "source": [
        "## Number of rows in Hyderabad's data\n",
        "Note - There are two cities with name as Hyderabad, one in India and other in Pakistan "
      ]
    },
    {
      "cell_type": "code",
      "metadata": {
        "colab": {
          "base_uri": "https://localhost:8080/"
        },
        "id": "7sEHBaufvxc-",
        "outputId": "b0b59ec7-810e-4c95-af64-02f1bd382c3e"
      },
      "source": [
        "data_hyderabad = city_data[(city_data['country']=='India') & (city_data['city']=='Hyderabad')]\n",
        "data_hyderabad.shape[0]"
      ],
      "execution_count": 108,
      "outputs": [
        {
          "output_type": "execute_result",
          "data": {
            "text/plain": [
              "218"
            ]
          },
          "metadata": {
            "tags": []
          },
          "execution_count": 108
        }
      ]
    },
    {
      "cell_type": "markdown",
      "metadata": {
        "id": "FMrPHYbvLlaf"
      },
      "source": [
        "# Handling Missing values"
      ]
    },
    {
      "cell_type": "code",
      "metadata": {
        "colab": {
          "base_uri": "https://localhost:8080/",
          "height": 419
        },
        "id": "wW0LLsHvxc97",
        "outputId": "53dbd0c0-e7c1-4a38-fa07-31ea34326b82"
      },
      "source": [
        "data_hyderabad"
      ],
      "execution_count": 109,
      "outputs": [
        {
          "output_type": "execute_result",
          "data": {
            "text/html": [
              "<div>\n",
              "<style scoped>\n",
              "    .dataframe tbody tr th:only-of-type {\n",
              "        vertical-align: middle;\n",
              "    }\n",
              "\n",
              "    .dataframe tbody tr th {\n",
              "        vertical-align: top;\n",
              "    }\n",
              "\n",
              "    .dataframe thead th {\n",
              "        text-align: right;\n",
              "    }\n",
              "</style>\n",
              "<table border=\"1\" class=\"dataframe\">\n",
              "  <thead>\n",
              "    <tr style=\"text-align: right;\">\n",
              "      <th></th>\n",
              "      <th>year</th>\n",
              "      <th>city</th>\n",
              "      <th>country</th>\n",
              "      <th>avg_temp</th>\n",
              "    </tr>\n",
              "  </thead>\n",
              "  <tbody>\n",
              "    <tr>\n",
              "      <th>26146</th>\n",
              "      <td>1796</td>\n",
              "      <td>Hyderabad</td>\n",
              "      <td>India</td>\n",
              "      <td>26.53</td>\n",
              "    </tr>\n",
              "    <tr>\n",
              "      <th>26147</th>\n",
              "      <td>1797</td>\n",
              "      <td>Hyderabad</td>\n",
              "      <td>India</td>\n",
              "      <td>27.48</td>\n",
              "    </tr>\n",
              "    <tr>\n",
              "      <th>26148</th>\n",
              "      <td>1798</td>\n",
              "      <td>Hyderabad</td>\n",
              "      <td>India</td>\n",
              "      <td>26.20</td>\n",
              "    </tr>\n",
              "    <tr>\n",
              "      <th>26149</th>\n",
              "      <td>1799</td>\n",
              "      <td>Hyderabad</td>\n",
              "      <td>India</td>\n",
              "      <td>26.84</td>\n",
              "    </tr>\n",
              "    <tr>\n",
              "      <th>26150</th>\n",
              "      <td>1800</td>\n",
              "      <td>Hyderabad</td>\n",
              "      <td>India</td>\n",
              "      <td>26.88</td>\n",
              "    </tr>\n",
              "    <tr>\n",
              "      <th>...</th>\n",
              "      <td>...</td>\n",
              "      <td>...</td>\n",
              "      <td>...</td>\n",
              "      <td>...</td>\n",
              "    </tr>\n",
              "    <tr>\n",
              "      <th>26359</th>\n",
              "      <td>2009</td>\n",
              "      <td>Hyderabad</td>\n",
              "      <td>India</td>\n",
              "      <td>28.03</td>\n",
              "    </tr>\n",
              "    <tr>\n",
              "      <th>26360</th>\n",
              "      <td>2010</td>\n",
              "      <td>Hyderabad</td>\n",
              "      <td>India</td>\n",
              "      <td>27.69</td>\n",
              "    </tr>\n",
              "    <tr>\n",
              "      <th>26361</th>\n",
              "      <td>2011</td>\n",
              "      <td>Hyderabad</td>\n",
              "      <td>India</td>\n",
              "      <td>27.41</td>\n",
              "    </tr>\n",
              "    <tr>\n",
              "      <th>26362</th>\n",
              "      <td>2012</td>\n",
              "      <td>Hyderabad</td>\n",
              "      <td>India</td>\n",
              "      <td>28.02</td>\n",
              "    </tr>\n",
              "    <tr>\n",
              "      <th>26363</th>\n",
              "      <td>2013</td>\n",
              "      <td>Hyderabad</td>\n",
              "      <td>India</td>\n",
              "      <td>28.85</td>\n",
              "    </tr>\n",
              "  </tbody>\n",
              "</table>\n",
              "<p>218 rows × 4 columns</p>\n",
              "</div>"
            ],
            "text/plain": [
              "       year       city country  avg_temp\n",
              "26146  1796  Hyderabad   India     26.53\n",
              "26147  1797  Hyderabad   India     27.48\n",
              "26148  1798  Hyderabad   India     26.20\n",
              "26149  1799  Hyderabad   India     26.84\n",
              "26150  1800  Hyderabad   India     26.88\n",
              "...     ...        ...     ...       ...\n",
              "26359  2009  Hyderabad   India     28.03\n",
              "26360  2010  Hyderabad   India     27.69\n",
              "26361  2011  Hyderabad   India     27.41\n",
              "26362  2012  Hyderabad   India     28.02\n",
              "26363  2013  Hyderabad   India     28.85\n",
              "\n",
              "[218 rows x 4 columns]"
            ]
          },
          "metadata": {
            "tags": []
          },
          "execution_count": 109
        }
      ]
    },
    {
      "cell_type": "markdown",
      "metadata": {
        "id": "0I1y-aDuW9Vr"
      },
      "source": [
        "## Note: Only column-4(avg_temp) has null values"
      ]
    },
    {
      "cell_type": "code",
      "metadata": {
        "colab": {
          "base_uri": "https://localhost:8080/"
        },
        "id": "vr5AE9aTWzg4",
        "outputId": "a4ffe26c-6bf6-4b6c-dda7-ac7a10030e55"
      },
      "source": [
        "data_hyderabad.isnull().sum()"
      ],
      "execution_count": 110,
      "outputs": [
        {
          "output_type": "execute_result",
          "data": {
            "text/plain": [
              "year        0\n",
              "city        0\n",
              "country     0\n",
              "avg_temp    7\n",
              "dtype: int64"
            ]
          },
          "metadata": {
            "tags": []
          },
          "execution_count": 110
        }
      ]
    },
    {
      "cell_type": "code",
      "metadata": {
        "colab": {
          "base_uri": "https://localhost:8080/",
          "height": 313
        },
        "id": "NLwrPGNRHMg4",
        "outputId": "5cc0ed4e-852c-4389-fb85-2fdd687ab112"
      },
      "source": [
        "x_data = data_hyderabad['year']\n",
        "y_data = data_hyderabad['avg_temp']\n",
        "\n",
        "sns.lineplot(x=x_data,y=y_data,data=data_hyderabad)\n",
        "plt.xlabel('Years',size=12)\n",
        "plt.ylabel('Temperature in Celsius',size=12)\n",
        "plt.title(\"Hyderabad's Average Temperature\",size=12)\n",
        "plt.xticks(rotation=45)\n",
        "plt.grid(True)\n",
        "plt.show()"
      ],
      "execution_count": 111,
      "outputs": [
        {
          "output_type": "display_data",
          "data": {
            "image/png": "[encoded data removed]",
            "text/plain": [
              "<Figure size 432x288 with 1 Axes>"
            ]
          },
          "metadata": {
            "tags": [],
            "needs_background": "light"
          }
        }
      ]
    },
    {
      "cell_type": "markdown",
      "metadata": {
        "id": "dOTvlgsUUtEM"
      },
      "source": [
        "## Filling missing values with mean value of column(avg_temp)"
      ]
    },
    {
      "cell_type": "code",
      "metadata": {
        "colab": {
          "base_uri": "https://localhost:8080/"
        },
        "id": "nVK7tKBxSNii",
        "outputId": "1d51ee12-c9ff-4833-ce1f-7104ebb171b2"
      },
      "source": [
        "mean_val = data_hyderabad['avg_temp'].mean(axis=0,skipna=True)\n",
        "mean_val"
      ],
      "execution_count": 112,
      "outputs": [
        {
          "output_type": "execute_result",
          "data": {
            "text/plain": [
              "26.861563981042668"
            ]
          },
          "metadata": {
            "tags": []
          },
          "execution_count": 112
        }
      ]
    },
    {
      "cell_type": "code",
      "metadata": {
        "id": "UVF54LFMSaDJ"
      },
      "source": [
        "data_hyderabad_with_mean = data_hyderabad.fillna(mean_val)"
      ],
      "execution_count": 113,
      "outputs": []
    },
    {
      "cell_type": "code",
      "metadata": {
        "colab": {
          "base_uri": "https://localhost:8080/",
          "height": 311
        },
        "id": "uYTHJffiUeyT",
        "outputId": "8682ffcc-f362-4625-cd22-653669bb5a99"
      },
      "source": [
        "x_data_2 = data_hyderabad_with_mean['year']\n",
        "y_data_2 = data_hyderabad_with_mean['avg_temp']\n",
        "\n",
        "sns.lineplot(x=x_data_2,y=y_data_2,data=data_hyderabad_with_mean)\n",
        "plt.xlabel('Years',size=12)\n",
        "plt.ylabel('Temperature in Celsius',size=12)\n",
        "plt.title(\"Hyderabad's Average Temperature after filling missing values\",size=10)\n",
        "plt.xticks(rotation=45)\n",
        "plt.grid(True)\n",
        "plt.show()"
      ],
      "execution_count": 114,
      "outputs": [
        {
          "output_type": "display_data",
          "data": {
            "image/png": "[encoded data removed]",
            "text/plain": [
              "<Figure size 432x288 with 1 Axes>"
            ]
          },
          "metadata": {
            "tags": [],
            "needs_background": "light"
          }
        }
      ]
    },
    {
      "cell_type": "markdown",
      "metadata": {
        "id": "LYaA_9i3U7fq"
      },
      "source": [
        "## Filling missing values with interpolation method"
      ]
    },
    {
      "cell_type": "code",
      "metadata": {
        "colab": {
          "base_uri": "https://localhost:8080/",
          "height": 416
        },
        "id": "jzHCzZ_mUpR9",
        "outputId": "1e01e6b6-bfb0-4434-a522-5ce2d671967f"
      },
      "source": [
        "sns.lineplot(x=x_data,y=y_data,data=data_hyderabad.interpolate(inplace=True))\n",
        "plt.xlabel('Years',size=12)\n",
        "plt.ylabel('Temperature in Celsius',size=12)\n",
        "plt.title(\"Hyderabad's Average Temperature after filling missing values\",size=10)\n",
        "plt.xticks(rotation=45)\n",
        "plt.grid(True)\n",
        "plt.show()"
      ],
      "execution_count": 115,
      "outputs": [
        {
          "output_type": "stream",
          "text": [
            "/usr/local/lib/python3.7/dist-packages/ipykernel_launcher.py:1: SettingWithCopyWarning: \n",
            "A value is trying to be set on a copy of a slice from a DataFrame\n",
            "\n",
            "See the caveats in the documentation: https://pandas.pydata.org/pandas-docs/stable/user_guide/indexing.html#returning-a-view-versus-a-copy\n",
            "  \"\"\"Entry point for launching an IPython kernel.\n"
          ],
          "name": "stderr"
        },
        {
          "output_type": "display_data",
          "data": {
            "image/png": "[encoded data removed]",
            "text/plain": [
              "<Figure size 432x288 with 1 Axes>"
            ]
          },
          "metadata": {
            "tags": [],
            "needs_background": "light"
          }
        }
      ]
    },
    {
      "cell_type": "code",
      "metadata": {
        "colab": {
          "base_uri": "https://localhost:8080/",
          "height": 204
        },
        "id": "RbQoE5HcUVIZ",
        "outputId": "01d00914-b989-452e-a675-5b8fcb14c488"
      },
      "source": [
        "data_hyderabad.head()"
      ],
      "execution_count": 116,
      "outputs": [
        {
          "output_type": "execute_result",
          "data": {
            "text/html": [
              "<div>\n",
              "<style scoped>\n",
              "    .dataframe tbody tr th:only-of-type {\n",
              "        vertical-align: middle;\n",
              "    }\n",
              "\n",
              "    .dataframe tbody tr th {\n",
              "        vertical-align: top;\n",
              "    }\n",
              "\n",
              "    .dataframe thead th {\n",
              "        text-align: right;\n",
              "    }\n",
              "</style>\n",
              "<table border=\"1\" class=\"dataframe\">\n",
              "  <thead>\n",
              "    <tr style=\"text-align: right;\">\n",
              "      <th></th>\n",
              "      <th>year</th>\n",
              "      <th>city</th>\n",
              "      <th>country</th>\n",
              "      <th>avg_temp</th>\n",
              "    </tr>\n",
              "  </thead>\n",
              "  <tbody>\n",
              "    <tr>\n",
              "      <th>26146</th>\n",
              "      <td>1796</td>\n",
              "      <td>Hyderabad</td>\n",
              "      <td>India</td>\n",
              "      <td>26.53</td>\n",
              "    </tr>\n",
              "    <tr>\n",
              "      <th>26147</th>\n",
              "      <td>1797</td>\n",
              "      <td>Hyderabad</td>\n",
              "      <td>India</td>\n",
              "      <td>27.48</td>\n",
              "    </tr>\n",
              "    <tr>\n",
              "      <th>26148</th>\n",
              "      <td>1798</td>\n",
              "      <td>Hyderabad</td>\n",
              "      <td>India</td>\n",
              "      <td>26.20</td>\n",
              "    </tr>\n",
              "    <tr>\n",
              "      <th>26149</th>\n",
              "      <td>1799</td>\n",
              "      <td>Hyderabad</td>\n",
              "      <td>India</td>\n",
              "      <td>26.84</td>\n",
              "    </tr>\n",
              "    <tr>\n",
              "      <th>26150</th>\n",
              "      <td>1800</td>\n",
              "      <td>Hyderabad</td>\n",
              "      <td>India</td>\n",
              "      <td>26.88</td>\n",
              "    </tr>\n",
              "  </tbody>\n",
              "</table>\n",
              "</div>"
            ],
            "text/plain": [
              "       year       city country  avg_temp\n",
              "26146  1796  Hyderabad   India     26.53\n",
              "26147  1797  Hyderabad   India     27.48\n",
              "26148  1798  Hyderabad   India     26.20\n",
              "26149  1799  Hyderabad   India     26.84\n",
              "26150  1800  Hyderabad   India     26.88"
            ]
          },
          "metadata": {
            "tags": []
          },
          "execution_count": 116
        }
      ]
    },
    {
      "cell_type": "code",
      "metadata": {
        "colab": {
          "base_uri": "https://localhost:8080/",
          "height": 204
        },
        "id": "JLkwYVpiU5NO",
        "outputId": "22f5fd35-ba15-4100-d7b0-e920347112fd"
      },
      "source": [
        "data_hyderabad.tail()"
      ],
      "execution_count": 117,
      "outputs": [
        {
          "output_type": "execute_result",
          "data": {
            "text/html": [
              "<div>\n",
              "<style scoped>\n",
              "    .dataframe tbody tr th:only-of-type {\n",
              "        vertical-align: middle;\n",
              "    }\n",
              "\n",
              "    .dataframe tbody tr th {\n",
              "        vertical-align: top;\n",
              "    }\n",
              "\n",
              "    .dataframe thead th {\n",
              "        text-align: right;\n",
              "    }\n",
              "</style>\n",
              "<table border=\"1\" class=\"dataframe\">\n",
              "  <thead>\n",
              "    <tr style=\"text-align: right;\">\n",
              "      <th></th>\n",
              "      <th>year</th>\n",
              "      <th>city</th>\n",
              "      <th>country</th>\n",
              "      <th>avg_temp</th>\n",
              "    </tr>\n",
              "  </thead>\n",
              "  <tbody>\n",
              "    <tr>\n",
              "      <th>26359</th>\n",
              "      <td>2009</td>\n",
              "      <td>Hyderabad</td>\n",
              "      <td>India</td>\n",
              "      <td>28.03</td>\n",
              "    </tr>\n",
              "    <tr>\n",
              "      <th>26360</th>\n",
              "      <td>2010</td>\n",
              "      <td>Hyderabad</td>\n",
              "      <td>India</td>\n",
              "      <td>27.69</td>\n",
              "    </tr>\n",
              "    <tr>\n",
              "      <th>26361</th>\n",
              "      <td>2011</td>\n",
              "      <td>Hyderabad</td>\n",
              "      <td>India</td>\n",
              "      <td>27.41</td>\n",
              "    </tr>\n",
              "    <tr>\n",
              "      <th>26362</th>\n",
              "      <td>2012</td>\n",
              "      <td>Hyderabad</td>\n",
              "      <td>India</td>\n",
              "      <td>28.02</td>\n",
              "    </tr>\n",
              "    <tr>\n",
              "      <th>26363</th>\n",
              "      <td>2013</td>\n",
              "      <td>Hyderabad</td>\n",
              "      <td>India</td>\n",
              "      <td>28.85</td>\n",
              "    </tr>\n",
              "  </tbody>\n",
              "</table>\n",
              "</div>"
            ],
            "text/plain": [
              "       year       city country  avg_temp\n",
              "26359  2009  Hyderabad   India     28.03\n",
              "26360  2010  Hyderabad   India     27.69\n",
              "26361  2011  Hyderabad   India     27.41\n",
              "26362  2012  Hyderabad   India     28.02\n",
              "26363  2013  Hyderabad   India     28.85"
            ]
          },
          "metadata": {
            "tags": []
          },
          "execution_count": 117
        }
      ]
    },
    {
      "cell_type": "markdown",
      "metadata": {
        "id": "mkcObSpmaldU"
      },
      "source": [
        "# Moving Averages of Hyderabad's yearly\n"
      ]
    },
    {
      "cell_type": "markdown",
      "metadata": {
        "id": "bw7AIPlkdljw"
      },
      "source": [
        "## Checking if there is any missing values( filled missing values using interpolate )"
      ]
    },
    {
      "cell_type": "code",
      "metadata": {
        "colab": {
          "base_uri": "https://localhost:8080/"
        },
        "id": "E7heesLjaq8B",
        "outputId": "f5ef1cb3-bb5a-47e2-c4ec-d487e60929aa"
      },
      "source": [
        "data_hyderabad.isnull().sum()"
      ],
      "execution_count": 118,
      "outputs": [
        {
          "output_type": "execute_result",
          "data": {
            "text/plain": [
              "year        0\n",
              "city        0\n",
              "country     0\n",
              "avg_temp    0\n",
              "dtype: int64"
            ]
          },
          "metadata": {
            "tags": []
          },
          "execution_count": 118
        }
      ]
    },
    {
      "cell_type": "markdown",
      "metadata": {
        "id": "o96ZHDFMDcEB"
      },
      "source": [
        "## Function to find moving averages of yearly temperature in Hyderabad"
      ]
    },
    {
      "cell_type": "markdown",
      "metadata": {
        "id": "FfL55zd0D8dF"
      },
      "source": [
        "### Making a new column 'moving_avg'"
      ]
    },
    {
      "cell_type": "code",
      "metadata": {
        "colab": {
          "base_uri": "https://localhost:8080/",
          "height": 419
        },
        "id": "TU-OHG1Pdum0",
        "outputId": "06137ab2-a77e-40cd-d501-a9636f814a46"
      },
      "source": [
        "check_data = data_hyderabad.copy()\n",
        "check_data['moving_avg'] = np.nan\n",
        "check_data"
      ],
      "execution_count": 119,
      "outputs": [
        {
          "output_type": "execute_result",
          "data": {
            "text/html": [
              "<div>\n",
              "<style scoped>\n",
              "    .dataframe tbody tr th:only-of-type {\n",
              "        vertical-align: middle;\n",
              "    }\n",
              "\n",
              "    .dataframe tbody tr th {\n",
              "        vertical-align: top;\n",
              "    }\n",
              "\n",
              "    .dataframe thead th {\n",
              "        text-align: right;\n",
              "    }\n",
              "</style>\n",
              "<table border=\"1\" class=\"dataframe\">\n",
              "  <thead>\n",
              "    <tr style=\"text-align: right;\">\n",
              "      <th></th>\n",
              "      <th>year</th>\n",
              "      <th>city</th>\n",
              "      <th>country</th>\n",
              "      <th>avg_temp</th>\n",
              "      <th>moving_avg</th>\n",
              "    </tr>\n",
              "  </thead>\n",
              "  <tbody>\n",
              "    <tr>\n",
              "      <th>26146</th>\n",
              "      <td>1796</td>\n",
              "      <td>Hyderabad</td>\n",
              "      <td>India</td>\n",
              "      <td>26.53</td>\n",
              "      <td>NaN</td>\n",
              "    </tr>\n",
              "    <tr>\n",
              "      <th>26147</th>\n",
              "      <td>1797</td>\n",
              "      <td>Hyderabad</td>\n",
              "      <td>India</td>\n",
              "      <td>27.48</td>\n",
              "      <td>NaN</td>\n",
              "    </tr>\n",
              "    <tr>\n",
              "      <th>26148</th>\n",
              "      <td>1798</td>\n",
              "      <td>Hyderabad</td>\n",
              "      <td>India</td>\n",
              "      <td>26.20</td>\n",
              "      <td>NaN</td>\n",
              "    </tr>\n",
              "    <tr>\n",
              "      <th>26149</th>\n",
              "      <td>1799</td>\n",
              "      <td>Hyderabad</td>\n",
              "      <td>India</td>\n",
              "      <td>26.84</td>\n",
              "      <td>NaN</td>\n",
              "    </tr>\n",
              "    <tr>\n",
              "      <th>26150</th>\n",
              "      <td>1800</td>\n",
              "      <td>Hyderabad</td>\n",
              "      <td>India</td>\n",
              "      <td>26.88</td>\n",
              "      <td>NaN</td>\n",
              "    </tr>\n",
              "    <tr>\n",
              "      <th>...</th>\n",
              "      <td>...</td>\n",
              "      <td>...</td>\n",
              "      <td>...</td>\n",
              "      <td>...</td>\n",
              "      <td>...</td>\n",
              "    </tr>\n",
              "    <tr>\n",
              "      <th>26359</th>\n",
              "      <td>2009</td>\n",
              "      <td>Hyderabad</td>\n",
              "      <td>India</td>\n",
              "      <td>28.03</td>\n",
              "      <td>NaN</td>\n",
              "    </tr>\n",
              "    <tr>\n",
              "      <th>26360</th>\n",
              "      <td>2010</td>\n",
              "      <td>Hyderabad</td>\n",
              "      <td>India</td>\n",
              "      <td>27.69</td>\n",
              "      <td>NaN</td>\n",
              "    </tr>\n",
              "    <tr>\n",
              "      <th>26361</th>\n",
              "      <td>2011</td>\n",
              "      <td>Hyderabad</td>\n",
              "      <td>India</td>\n",
              "      <td>27.41</td>\n",
              "      <td>NaN</td>\n",
              "    </tr>\n",
              "    <tr>\n",
              "      <th>26362</th>\n",
              "      <td>2012</td>\n",
              "      <td>Hyderabad</td>\n",
              "      <td>India</td>\n",
              "      <td>28.02</td>\n",
              "      <td>NaN</td>\n",
              "    </tr>\n",
              "    <tr>\n",
              "      <th>26363</th>\n",
              "      <td>2013</td>\n",
              "      <td>Hyderabad</td>\n",
              "      <td>India</td>\n",
              "      <td>28.85</td>\n",
              "      <td>NaN</td>\n",
              "    </tr>\n",
              "  </tbody>\n",
              "</table>\n",
              "<p>218 rows × 5 columns</p>\n",
              "</div>"
            ],
            "text/plain": [
              "       year       city country  avg_temp  moving_avg\n",
              "26146  1796  Hyderabad   India     26.53         NaN\n",
              "26147  1797  Hyderabad   India     27.48         NaN\n",
              "26148  1798  Hyderabad   India     26.20         NaN\n",
              "26149  1799  Hyderabad   India     26.84         NaN\n",
              "26150  1800  Hyderabad   India     26.88         NaN\n",
              "...     ...        ...     ...       ...         ...\n",
              "26359  2009  Hyderabad   India     28.03         NaN\n",
              "26360  2010  Hyderabad   India     27.69         NaN\n",
              "26361  2011  Hyderabad   India     27.41         NaN\n",
              "26362  2012  Hyderabad   India     28.02         NaN\n",
              "26363  2013  Hyderabad   India     28.85         NaN\n",
              "\n",
              "[218 rows x 5 columns]"
            ]
          },
          "metadata": {
            "tags": []
          },
          "execution_count": 119
        }
      ]
    },
    {
      "cell_type": "markdown",
      "metadata": {
        "id": "SeuUiTLsEegF"
      },
      "source": [
        "### Function: running_avg(window_size,rows,prev,new) \n",
        "\n",
        "\n",
        "\n"
      ]
    },
    {
      "cell_type": "code",
      "metadata": {
        "id": "EYHi6e5ZjiZB"
      },
      "source": [
        "def running_avg(window_size,rows,prev,new):\n",
        "  for i in range(rows - window_size + 1):\n",
        "    calc_running_avg = 0\n",
        "    for j in range(i, i + window_size):\n",
        "      calc_running_avg += prev.iloc[j]\n",
        "    new.iloc[i + window_size - 1] = calc_running_avg/window_size\n",
        "  return check_data"
      ],
      "execution_count": 120,
      "outputs": []
    },
    {
      "cell_type": "code",
      "metadata": {
        "colab": {
          "base_uri": "https://localhost:8080/"
        },
        "id": "4uk4fklcE6pb",
        "outputId": "984e7754-f84e-4a6a-ff9d-eee6e2cc3d95"
      },
      "source": [
        "new = check_data['moving_avg']\n",
        "prev = check_data['avg_temp']\n",
        "rows = check_data.shape[0]\n",
        "window_size = 25\n",
        "\n",
        "result = running_avg(window_size,rows,prev,new)\n",
        "print(result)"
      ],
      "execution_count": 121,
      "outputs": [
        {
          "output_type": "stream",
          "text": [
            "       year       city country  avg_temp  moving_avg\n",
            "26146  1796  Hyderabad   India     26.53         NaN\n",
            "26147  1797  Hyderabad   India     27.48         NaN\n",
            "26148  1798  Hyderabad   India     26.20         NaN\n",
            "26149  1799  Hyderabad   India     26.84         NaN\n",
            "26150  1800  Hyderabad   India     26.88         NaN\n",
            "...     ...        ...     ...       ...         ...\n",
            "26359  2009  Hyderabad   India     28.03     27.4312\n",
            "26360  2010  Hyderabad   India     27.69     27.4384\n",
            "26361  2011  Hyderabad   India     27.41     27.4264\n",
            "26362  2012  Hyderabad   India     28.02     27.4456\n",
            "26363  2013  Hyderabad   India     28.85     27.5020\n",
            "\n",
            "[218 rows x 5 columns]\n"
          ],
          "name": "stdout"
        },
        {
          "output_type": "stream",
          "text": [
            "/usr/local/lib/python3.7/dist-packages/pandas/core/indexing.py:670: SettingWithCopyWarning: \n",
            "A value is trying to be set on a copy of a slice from a DataFrame\n",
            "\n",
            "See the caveats in the documentation: https://pandas.pydata.org/pandas-docs/stable/user_guide/indexing.html#returning-a-view-versus-a-copy\n",
            "  iloc._setitem_with_indexer(indexer, value)\n"
          ],
          "name": "stderr"
        }
      ]
    },
    {
      "cell_type": "code",
      "metadata": {
        "colab": {
          "base_uri": "https://localhost:8080/",
          "height": 308
        },
        "id": "vJjq-sgeuKc8",
        "outputId": "bfcd0f1d-6b65-4033-b041-b7424be0fe8d"
      },
      "source": [
        "ax = sns.lineplot(x='year',y='moving_avg',data=check_data)\n",
        "ax.set(xlabel='Years',ylabel='MA of yearly temp')\n",
        "plt.title(\"MA of Hyderabad's Avg. Temperature\",size=10)\n",
        "plt.xticks(rotation=45)\n",
        "plt.grid(True)\n",
        "plt.show()"
      ],
      "execution_count": 122,
      "outputs": [
        {
          "output_type": "display_data",
          "data": {
            "image/png": "[encoded data removed]",
            "text/plain": [
              "<Figure size 432x288 with 1 Axes>"
            ]
          },
          "metadata": {
            "tags": [],
            "needs_background": "light"
          }
        }
      ]
    },
    {
      "cell_type": "markdown",
      "metadata": {
        "id": "PtLs5twgHkeY"
      },
      "source": [
        "## Using **rolling** method to find moving averages"
      ]
    },
    {
      "cell_type": "code",
      "metadata": {
        "colab": {
          "base_uri": "https://localhost:8080/",
          "height": 979
        },
        "id": "J9xsGXAUwKSL",
        "outputId": "012e2f59-4ecd-4567-b6e3-cedb045cf8ba"
      },
      "source": [
        "check_data['MA_window_size'] = check_data['avg_temp'].rolling(window=50).mean()\n",
        "check_data.head(30)"
      ],
      "execution_count": 123,
      "outputs": [
        {
          "output_type": "execute_result",
          "data": {
            "text/html": [
              "<div>\n",
              "<style scoped>\n",
              "    .dataframe tbody tr th:only-of-type {\n",
              "        vertical-align: middle;\n",
              "    }\n",
              "\n",
              "    .dataframe tbody tr th {\n",
              "        vertical-align: top;\n",
              "    }\n",
              "\n",
              "    .dataframe thead th {\n",
              "        text-align: right;\n",
              "    }\n",
              "</style>\n",
              "<table border=\"1\" class=\"dataframe\">\n",
              "  <thead>\n",
              "    <tr style=\"text-align: right;\">\n",
              "      <th></th>\n",
              "      <th>year</th>\n",
              "      <th>city</th>\n",
              "      <th>country</th>\n",
              "      <th>avg_temp</th>\n",
              "      <th>moving_avg</th>\n",
              "      <th>MA_window_size</th>\n",
              "    </tr>\n",
              "  </thead>\n",
              "  <tbody>\n",
              "    <tr>\n",
              "      <th>26146</th>\n",
              "      <td>1796</td>\n",
              "      <td>Hyderabad</td>\n",
              "      <td>India</td>\n",
              "      <td>26.530000</td>\n",
              "      <td>NaN</td>\n",
              "      <td>NaN</td>\n",
              "    </tr>\n",
              "    <tr>\n",
              "      <th>26147</th>\n",
              "      <td>1797</td>\n",
              "      <td>Hyderabad</td>\n",
              "      <td>India</td>\n",
              "      <td>27.480000</td>\n",
              "      <td>NaN</td>\n",
              "      <td>NaN</td>\n",
              "    </tr>\n",
              "    <tr>\n",
              "      <th>26148</th>\n",
              "      <td>1798</td>\n",
              "      <td>Hyderabad</td>\n",
              "      <td>India</td>\n",
              "      <td>26.200000</td>\n",
              "      <td>NaN</td>\n",
              "      <td>NaN</td>\n",
              "    </tr>\n",
              "    <tr>\n",
              "      <th>26149</th>\n",
              "      <td>1799</td>\n",
              "      <td>Hyderabad</td>\n",
              "      <td>India</td>\n",
              "      <td>26.840000</td>\n",
              "      <td>NaN</td>\n",
              "      <td>NaN</td>\n",
              "    </tr>\n",
              "    <tr>\n",
              "      <th>26150</th>\n",
              "      <td>1800</td>\n",
              "      <td>Hyderabad</td>\n",
              "      <td>India</td>\n",
              "      <td>26.880000</td>\n",
              "      <td>NaN</td>\n",
              "      <td>NaN</td>\n",
              "    </tr>\n",
              "    <tr>\n",
              "      <th>26151</th>\n",
              "      <td>1801</td>\n",
              "      <td>Hyderabad</td>\n",
              "      <td>India</td>\n",
              "      <td>26.050000</td>\n",
              "      <td>NaN</td>\n",
              "      <td>NaN</td>\n",
              "    </tr>\n",
              "    <tr>\n",
              "      <th>26152</th>\n",
              "      <td>1802</td>\n",
              "      <td>Hyderabad</td>\n",
              "      <td>India</td>\n",
              "      <td>27.440000</td>\n",
              "      <td>NaN</td>\n",
              "      <td>NaN</td>\n",
              "    </tr>\n",
              "    <tr>\n",
              "      <th>26153</th>\n",
              "      <td>1803</td>\n",
              "      <td>Hyderabad</td>\n",
              "      <td>India</td>\n",
              "      <td>27.220000</td>\n",
              "      <td>NaN</td>\n",
              "      <td>NaN</td>\n",
              "    </tr>\n",
              "    <tr>\n",
              "      <th>26154</th>\n",
              "      <td>1804</td>\n",
              "      <td>Hyderabad</td>\n",
              "      <td>India</td>\n",
              "      <td>27.650000</td>\n",
              "      <td>NaN</td>\n",
              "      <td>NaN</td>\n",
              "    </tr>\n",
              "    <tr>\n",
              "      <th>26155</th>\n",
              "      <td>1805</td>\n",
              "      <td>Hyderabad</td>\n",
              "      <td>India</td>\n",
              "      <td>27.020000</td>\n",
              "      <td>NaN</td>\n",
              "      <td>NaN</td>\n",
              "    </tr>\n",
              "    <tr>\n",
              "      <th>26156</th>\n",
              "      <td>1806</td>\n",
              "      <td>Hyderabad</td>\n",
              "      <td>India</td>\n",
              "      <td>26.890000</td>\n",
              "      <td>NaN</td>\n",
              "      <td>NaN</td>\n",
              "    </tr>\n",
              "    <tr>\n",
              "      <th>26157</th>\n",
              "      <td>1807</td>\n",
              "      <td>Hyderabad</td>\n",
              "      <td>India</td>\n",
              "      <td>26.150000</td>\n",
              "      <td>NaN</td>\n",
              "      <td>NaN</td>\n",
              "    </tr>\n",
              "    <tr>\n",
              "      <th>26158</th>\n",
              "      <td>1808</td>\n",
              "      <td>Hyderabad</td>\n",
              "      <td>India</td>\n",
              "      <td>26.166667</td>\n",
              "      <td>NaN</td>\n",
              "      <td>NaN</td>\n",
              "    </tr>\n",
              "    <tr>\n",
              "      <th>26159</th>\n",
              "      <td>1809</td>\n",
              "      <td>Hyderabad</td>\n",
              "      <td>India</td>\n",
              "      <td>26.183333</td>\n",
              "      <td>NaN</td>\n",
              "      <td>NaN</td>\n",
              "    </tr>\n",
              "    <tr>\n",
              "      <th>26160</th>\n",
              "      <td>1810</td>\n",
              "      <td>Hyderabad</td>\n",
              "      <td>India</td>\n",
              "      <td>26.200000</td>\n",
              "      <td>NaN</td>\n",
              "      <td>NaN</td>\n",
              "    </tr>\n",
              "    <tr>\n",
              "      <th>26161</th>\n",
              "      <td>1811</td>\n",
              "      <td>Hyderabad</td>\n",
              "      <td>India</td>\n",
              "      <td>26.216667</td>\n",
              "      <td>NaN</td>\n",
              "      <td>NaN</td>\n",
              "    </tr>\n",
              "    <tr>\n",
              "      <th>26162</th>\n",
              "      <td>1812</td>\n",
              "      <td>Hyderabad</td>\n",
              "      <td>India</td>\n",
              "      <td>26.233333</td>\n",
              "      <td>NaN</td>\n",
              "      <td>NaN</td>\n",
              "    </tr>\n",
              "    <tr>\n",
              "      <th>26163</th>\n",
              "      <td>1813</td>\n",
              "      <td>Hyderabad</td>\n",
              "      <td>India</td>\n",
              "      <td>26.250000</td>\n",
              "      <td>NaN</td>\n",
              "      <td>NaN</td>\n",
              "    </tr>\n",
              "    <tr>\n",
              "      <th>26164</th>\n",
              "      <td>1814</td>\n",
              "      <td>Hyderabad</td>\n",
              "      <td>India</td>\n",
              "      <td>25.650000</td>\n",
              "      <td>NaN</td>\n",
              "      <td>NaN</td>\n",
              "    </tr>\n",
              "    <tr>\n",
              "      <th>26165</th>\n",
              "      <td>1815</td>\n",
              "      <td>Hyderabad</td>\n",
              "      <td>India</td>\n",
              "      <td>25.800000</td>\n",
              "      <td>NaN</td>\n",
              "      <td>NaN</td>\n",
              "    </tr>\n",
              "    <tr>\n",
              "      <th>26166</th>\n",
              "      <td>1816</td>\n",
              "      <td>Hyderabad</td>\n",
              "      <td>India</td>\n",
              "      <td>25.380000</td>\n",
              "      <td>NaN</td>\n",
              "      <td>NaN</td>\n",
              "    </tr>\n",
              "    <tr>\n",
              "      <th>26167</th>\n",
              "      <td>1817</td>\n",
              "      <td>Hyderabad</td>\n",
              "      <td>India</td>\n",
              "      <td>25.610000</td>\n",
              "      <td>NaN</td>\n",
              "      <td>NaN</td>\n",
              "    </tr>\n",
              "    <tr>\n",
              "      <th>26168</th>\n",
              "      <td>1818</td>\n",
              "      <td>Hyderabad</td>\n",
              "      <td>India</td>\n",
              "      <td>25.830000</td>\n",
              "      <td>NaN</td>\n",
              "      <td>NaN</td>\n",
              "    </tr>\n",
              "    <tr>\n",
              "      <th>26169</th>\n",
              "      <td>1819</td>\n",
              "      <td>Hyderabad</td>\n",
              "      <td>India</td>\n",
              "      <td>25.780000</td>\n",
              "      <td>NaN</td>\n",
              "      <td>NaN</td>\n",
              "    </tr>\n",
              "    <tr>\n",
              "      <th>26170</th>\n",
              "      <td>1820</td>\n",
              "      <td>Hyderabad</td>\n",
              "      <td>India</td>\n",
              "      <td>25.880000</td>\n",
              "      <td>26.3812</td>\n",
              "      <td>NaN</td>\n",
              "    </tr>\n",
              "    <tr>\n",
              "      <th>26171</th>\n",
              "      <td>1821</td>\n",
              "      <td>Hyderabad</td>\n",
              "      <td>India</td>\n",
              "      <td>26.450000</td>\n",
              "      <td>26.3780</td>\n",
              "      <td>NaN</td>\n",
              "    </tr>\n",
              "    <tr>\n",
              "      <th>26172</th>\n",
              "      <td>1822</td>\n",
              "      <td>Hyderabad</td>\n",
              "      <td>India</td>\n",
              "      <td>26.430000</td>\n",
              "      <td>26.3360</td>\n",
              "      <td>NaN</td>\n",
              "    </tr>\n",
              "    <tr>\n",
              "      <th>26173</th>\n",
              "      <td>1823</td>\n",
              "      <td>Hyderabad</td>\n",
              "      <td>India</td>\n",
              "      <td>26.650000</td>\n",
              "      <td>26.3540</td>\n",
              "      <td>NaN</td>\n",
              "    </tr>\n",
              "    <tr>\n",
              "      <th>26174</th>\n",
              "      <td>1824</td>\n",
              "      <td>Hyderabad</td>\n",
              "      <td>India</td>\n",
              "      <td>27.100000</td>\n",
              "      <td>26.3644</td>\n",
              "      <td>NaN</td>\n",
              "    </tr>\n",
              "    <tr>\n",
              "      <th>26175</th>\n",
              "      <td>1825</td>\n",
              "      <td>Hyderabad</td>\n",
              "      <td>India</td>\n",
              "      <td>26.720000</td>\n",
              "      <td>26.3580</td>\n",
              "      <td>NaN</td>\n",
              "    </tr>\n",
              "  </tbody>\n",
              "</table>\n",
              "</div>"
            ],
            "text/plain": [
              "       year       city country   avg_temp  moving_avg  MA_window_size\n",
              "26146  1796  Hyderabad   India  26.530000         NaN             NaN\n",
              "26147  1797  Hyderabad   India  27.480000         NaN             NaN\n",
              "26148  1798  Hyderabad   India  26.200000         NaN             NaN\n",
              "26149  1799  Hyderabad   India  26.840000         NaN             NaN\n",
              "26150  1800  Hyderabad   India  26.880000         NaN             NaN\n",
              "26151  1801  Hyderabad   India  26.050000         NaN             NaN\n",
              "26152  1802  Hyderabad   India  27.440000         NaN             NaN\n",
              "26153  1803  Hyderabad   India  27.220000         NaN             NaN\n",
              "26154  1804  Hyderabad   India  27.650000         NaN             NaN\n",
              "26155  1805  Hyderabad   India  27.020000         NaN             NaN\n",
              "26156  1806  Hyderabad   India  26.890000         NaN             NaN\n",
              "26157  1807  Hyderabad   India  26.150000         NaN             NaN\n",
              "26158  1808  Hyderabad   India  26.166667         NaN             NaN\n",
              "26159  1809  Hyderabad   India  26.183333         NaN             NaN\n",
              "26160  1810  Hyderabad   India  26.200000         NaN             NaN\n",
              "26161  1811  Hyderabad   India  26.216667         NaN             NaN\n",
              "26162  1812  Hyderabad   India  26.233333         NaN             NaN\n",
              "26163  1813  Hyderabad   India  26.250000         NaN             NaN\n",
              "26164  1814  Hyderabad   India  25.650000         NaN             NaN\n",
              "26165  1815  Hyderabad   India  25.800000         NaN             NaN\n",
              "26166  1816  Hyderabad   India  25.380000         NaN             NaN\n",
              "26167  1817  Hyderabad   India  25.610000         NaN             NaN\n",
              "26168  1818  Hyderabad   India  25.830000         NaN             NaN\n",
              "26169  1819  Hyderabad   India  25.780000         NaN             NaN\n",
              "26170  1820  Hyderabad   India  25.880000     26.3812             NaN\n",
              "26171  1821  Hyderabad   India  26.450000     26.3780             NaN\n",
              "26172  1822  Hyderabad   India  26.430000     26.3360             NaN\n",
              "26173  1823  Hyderabad   India  26.650000     26.3540             NaN\n",
              "26174  1824  Hyderabad   India  27.100000     26.3644             NaN\n",
              "26175  1825  Hyderabad   India  26.720000     26.3580             NaN"
            ]
          },
          "metadata": {
            "tags": []
          },
          "execution_count": 123
        }
      ]
    },
    {
      "cell_type": "code",
      "metadata": {
        "colab": {
          "base_uri": "https://localhost:8080/",
          "height": 310
        },
        "id": "1s1Nw6GT1s-L",
        "outputId": "158104e7-01d9-415e-d9b5-55e8ccfbdd15"
      },
      "source": [
        "ax = sns.lineplot(x='year',y='MA_window_size',data=check_data)\n",
        "ax.set(xlabel='Years',ylabel='MA of yearly temp')\n",
        "plt.title(\"MA of Hyderabad's Avg. Temperature\")\n",
        "plt.xticks(rotation=45)\n",
        "plt.grid(True)\n",
        "plt.show()"
      ],
      "execution_count": 124,
      "outputs": [
        {
          "output_type": "display_data",
          "data": {
            "image/png": "[encoded data removed]",
            "text/plain": [
              "<Figure size 432x288 with 1 Axes>"
            ]
          },
          "metadata": {
            "tags": [],
            "needs_background": "light"
          }
        }
      ]
    },
    {
      "cell_type": "markdown",
      "metadata": {
        "id": "av4ODRo6pRZv"
      },
      "source": [
        "# Global Data"
      ]
    },
    {
      "cell_type": "code",
      "metadata": {
        "id": "TWzrgSJ_pUeX"
      },
      "source": [
        "global_data = pd.read_csv(\"/content/drive/MyDrive/Explore Weather Trends/2. global_data.csv\")"
      ],
      "execution_count": 125,
      "outputs": []
    },
    {
      "cell_type": "code",
      "metadata": {
        "colab": {
          "base_uri": "https://localhost:8080/"
        },
        "id": "-Pk_FU9aXkL7",
        "outputId": "d3b71ab8-1dda-4a91-f8e1-05720bbae62a"
      },
      "source": [
        "global_data.shape"
      ],
      "execution_count": 126,
      "outputs": [
        {
          "output_type": "execute_result",
          "data": {
            "text/plain": [
              "(266, 2)"
            ]
          },
          "metadata": {
            "tags": []
          },
          "execution_count": 126
        }
      ]
    },
    {
      "cell_type": "code",
      "metadata": {
        "colab": {
          "base_uri": "https://localhost:8080/"
        },
        "id": "iW-YUyJ1pb5J",
        "outputId": "bddf77bc-465d-498a-acc8-bca5a2bd37a5"
      },
      "source": [
        "global_data.isnull().sum()"
      ],
      "execution_count": 127,
      "outputs": [
        {
          "output_type": "execute_result",
          "data": {
            "text/plain": [
              "year        0\n",
              "avg_temp    0\n",
              "dtype: int64"
            ]
          },
          "metadata": {
            "tags": []
          },
          "execution_count": 127
        }
      ]
    },
    {
      "cell_type": "code",
      "metadata": {
        "colab": {
          "base_uri": "https://localhost:8080/",
          "height": 359
        },
        "id": "sBRqN9BHy4zR",
        "outputId": "0291f038-3c62-44ee-c0a2-323838df1176"
      },
      "source": [
        "global_data[global_data['year']>1795].head(10)"
      ],
      "execution_count": 128,
      "outputs": [
        {
          "output_type": "execute_result",
          "data": {
            "text/html": [
              "<div>\n",
              "<style scoped>\n",
              "    .dataframe tbody tr th:only-of-type {\n",
              "        vertical-align: middle;\n",
              "    }\n",
              "\n",
              "    .dataframe tbody tr th {\n",
              "        vertical-align: top;\n",
              "    }\n",
              "\n",
              "    .dataframe thead th {\n",
              "        text-align: right;\n",
              "    }\n",
              "</style>\n",
              "<table border=\"1\" class=\"dataframe\">\n",
              "  <thead>\n",
              "    <tr style=\"text-align: right;\">\n",
              "      <th></th>\n",
              "      <th>year</th>\n",
              "      <th>avg_temp</th>\n",
              "    </tr>\n",
              "  </thead>\n",
              "  <tbody>\n",
              "    <tr>\n",
              "      <th>46</th>\n",
              "      <td>1796</td>\n",
              "      <td>8.27</td>\n",
              "    </tr>\n",
              "    <tr>\n",
              "      <th>47</th>\n",
              "      <td>1797</td>\n",
              "      <td>8.51</td>\n",
              "    </tr>\n",
              "    <tr>\n",
              "      <th>48</th>\n",
              "      <td>1798</td>\n",
              "      <td>8.67</td>\n",
              "    </tr>\n",
              "    <tr>\n",
              "      <th>49</th>\n",
              "      <td>1799</td>\n",
              "      <td>8.51</td>\n",
              "    </tr>\n",
              "    <tr>\n",
              "      <th>50</th>\n",
              "      <td>1800</td>\n",
              "      <td>8.48</td>\n",
              "    </tr>\n",
              "    <tr>\n",
              "      <th>51</th>\n",
              "      <td>1801</td>\n",
              "      <td>8.59</td>\n",
              "    </tr>\n",
              "    <tr>\n",
              "      <th>52</th>\n",
              "      <td>1802</td>\n",
              "      <td>8.58</td>\n",
              "    </tr>\n",
              "    <tr>\n",
              "      <th>53</th>\n",
              "      <td>1803</td>\n",
              "      <td>8.50</td>\n",
              "    </tr>\n",
              "    <tr>\n",
              "      <th>54</th>\n",
              "      <td>1804</td>\n",
              "      <td>8.84</td>\n",
              "    </tr>\n",
              "    <tr>\n",
              "      <th>55</th>\n",
              "      <td>1805</td>\n",
              "      <td>8.56</td>\n",
              "    </tr>\n",
              "  </tbody>\n",
              "</table>\n",
              "</div>"
            ],
            "text/plain": [
              "    year  avg_temp\n",
              "46  1796      8.27\n",
              "47  1797      8.51\n",
              "48  1798      8.67\n",
              "49  1799      8.51\n",
              "50  1800      8.48\n",
              "51  1801      8.59\n",
              "52  1802      8.58\n",
              "53  1803      8.50\n",
              "54  1804      8.84\n",
              "55  1805      8.56"
            ]
          },
          "metadata": {
            "tags": []
          },
          "execution_count": 128
        }
      ]
    },
    {
      "cell_type": "markdown",
      "metadata": {
        "id": "mt-e9YBJzRqK"
      },
      "source": [
        "## Line chart of global avg. temp."
      ]
    },
    {
      "cell_type": "code",
      "metadata": {
        "colab": {
          "base_uri": "https://localhost:8080/",
          "height": 310
        },
        "id": "6my2NG5dzRQS",
        "outputId": "02dba499-9e86-4e35-9eb8-6fccfa26998f"
      },
      "source": [
        "x_data_4 = global_data['year']\n",
        "y_data_4 = global_data['avg_temp']\n",
        "\n",
        "ax = sns.lineplot(x=x_data_4,y=y_data_4,data=global_data)\n",
        "ax.set(xlabel='Years',ylabel='Average Temperature',title='Global Average Temperature')\n",
        "plt.xticks(rotation=45)\n",
        "plt.grid('True')\n",
        "plt.show()"
      ],
      "execution_count": 129,
      "outputs": [
        {
          "output_type": "display_data",
          "data": {
            "image/png": "[encoded data removed]",
            "text/plain": [
              "<Figure size 432x288 with 1 Axes>"
            ]
          },
          "metadata": {
            "tags": [],
            "needs_background": "light"
          }
        }
      ]
    },
    {
      "cell_type": "code",
      "metadata": {
        "colab": {
          "base_uri": "https://localhost:8080/",
          "height": 204
        },
        "id": "RCMz0nU3Wh1R",
        "outputId": "2393238b-e359-42da-b5a3-47614b92831b"
      },
      "source": [
        "global_data.head()"
      ],
      "execution_count": 130,
      "outputs": [
        {
          "output_type": "execute_result",
          "data": {
            "text/html": [
              "<div>\n",
              "<style scoped>\n",
              "    .dataframe tbody tr th:only-of-type {\n",
              "        vertical-align: middle;\n",
              "    }\n",
              "\n",
              "    .dataframe tbody tr th {\n",
              "        vertical-align: top;\n",
              "    }\n",
              "\n",
              "    .dataframe thead th {\n",
              "        text-align: right;\n",
              "    }\n",
              "</style>\n",
              "<table border=\"1\" class=\"dataframe\">\n",
              "  <thead>\n",
              "    <tr style=\"text-align: right;\">\n",
              "      <th></th>\n",
              "      <th>year</th>\n",
              "      <th>avg_temp</th>\n",
              "    </tr>\n",
              "  </thead>\n",
              "  <tbody>\n",
              "    <tr>\n",
              "      <th>0</th>\n",
              "      <td>1750</td>\n",
              "      <td>8.72</td>\n",
              "    </tr>\n",
              "    <tr>\n",
              "      <th>1</th>\n",
              "      <td>1751</td>\n",
              "      <td>7.98</td>\n",
              "    </tr>\n",
              "    <tr>\n",
              "      <th>2</th>\n",
              "      <td>1752</td>\n",
              "      <td>5.78</td>\n",
              "    </tr>\n",
              "    <tr>\n",
              "      <th>3</th>\n",
              "      <td>1753</td>\n",
              "      <td>8.39</td>\n",
              "    </tr>\n",
              "    <tr>\n",
              "      <th>4</th>\n",
              "      <td>1754</td>\n",
              "      <td>8.47</td>\n",
              "    </tr>\n",
              "  </tbody>\n",
              "</table>\n",
              "</div>"
            ],
            "text/plain": [
              "   year  avg_temp\n",
              "0  1750      8.72\n",
              "1  1751      7.98\n",
              "2  1752      5.78\n",
              "3  1753      8.39\n",
              "4  1754      8.47"
            ]
          },
          "metadata": {
            "tags": []
          },
          "execution_count": 130
        }
      ]
    },
    {
      "cell_type": "code",
      "metadata": {
        "colab": {
          "base_uri": "https://localhost:8080/",
          "height": 204
        },
        "id": "uZ-IZPmHWk-4",
        "outputId": "9eb36bda-6664-43ef-d433-65b8a3909238"
      },
      "source": [
        "global_data.tail()"
      ],
      "execution_count": 131,
      "outputs": [
        {
          "output_type": "execute_result",
          "data": {
            "text/html": [
              "<div>\n",
              "<style scoped>\n",
              "    .dataframe tbody tr th:only-of-type {\n",
              "        vertical-align: middle;\n",
              "    }\n",
              "\n",
              "    .dataframe tbody tr th {\n",
              "        vertical-align: top;\n",
              "    }\n",
              "\n",
              "    .dataframe thead th {\n",
              "        text-align: right;\n",
              "    }\n",
              "</style>\n",
              "<table border=\"1\" class=\"dataframe\">\n",
              "  <thead>\n",
              "    <tr style=\"text-align: right;\">\n",
              "      <th></th>\n",
              "      <th>year</th>\n",
              "      <th>avg_temp</th>\n",
              "    </tr>\n",
              "  </thead>\n",
              "  <tbody>\n",
              "    <tr>\n",
              "      <th>261</th>\n",
              "      <td>2011</td>\n",
              "      <td>9.52</td>\n",
              "    </tr>\n",
              "    <tr>\n",
              "      <th>262</th>\n",
              "      <td>2012</td>\n",
              "      <td>9.51</td>\n",
              "    </tr>\n",
              "    <tr>\n",
              "      <th>263</th>\n",
              "      <td>2013</td>\n",
              "      <td>9.61</td>\n",
              "    </tr>\n",
              "    <tr>\n",
              "      <th>264</th>\n",
              "      <td>2014</td>\n",
              "      <td>9.57</td>\n",
              "    </tr>\n",
              "    <tr>\n",
              "      <th>265</th>\n",
              "      <td>2015</td>\n",
              "      <td>9.83</td>\n",
              "    </tr>\n",
              "  </tbody>\n",
              "</table>\n",
              "</div>"
            ],
            "text/plain": [
              "     year  avg_temp\n",
              "261  2011      9.52\n",
              "262  2012      9.51\n",
              "263  2013      9.61\n",
              "264  2014      9.57\n",
              "265  2015      9.83"
            ]
          },
          "metadata": {
            "tags": []
          },
          "execution_count": 131
        }
      ]
    },
    {
      "cell_type": "markdown",
      "metadata": {
        "id": "aD3Hr7cMKNIb"
      },
      "source": [
        "# Comparing Local(Hyderabad) and Global Temperature"
      ]
    },
    {
      "cell_type": "markdown",
      "metadata": {
        "id": "eJCjmIHmn1mK"
      },
      "source": [
        "## Importing local-global data to compare trends"
      ]
    },
    {
      "cell_type": "code",
      "metadata": {
        "colab": {
          "base_uri": "https://localhost:8080/"
        },
        "id": "EwcCzOEmKThb",
        "outputId": "6f1b3eb0-e796-419f-bc4c-0921a3e71d8c"
      },
      "source": [
        "df_trends = pd.read_csv(\"/content/drive/MyDrive/Explore Weather Trends/5. global_city_data.csv\")\n",
        "df_trends.shape"
      ],
      "execution_count": 132,
      "outputs": [
        {
          "output_type": "execute_result",
          "data": {
            "text/plain": [
              "(218, 3)"
            ]
          },
          "metadata": {
            "tags": []
          },
          "execution_count": 132
        }
      ]
    },
    {
      "cell_type": "markdown",
      "metadata": {
        "id": "RY--O6B9n_6K"
      },
      "source": [
        "## Checking for missing values"
      ]
    },
    {
      "cell_type": "code",
      "metadata": {
        "colab": {
          "base_uri": "https://localhost:8080/"
        },
        "id": "ByPF-tI2KzrN",
        "outputId": "257f1b68-c8d7-4b61-8228-8816c719ac88"
      },
      "source": [
        "df_trends.isnull().sum()"
      ],
      "execution_count": 133,
      "outputs": [
        {
          "output_type": "execute_result",
          "data": {
            "text/plain": [
              "year           0\n",
              "city_temp      7\n",
              "global_temp    0\n",
              "dtype: int64"
            ]
          },
          "metadata": {
            "tags": []
          },
          "execution_count": 133
        }
      ]
    },
    {
      "cell_type": "code",
      "metadata": {
        "colab": {
          "base_uri": "https://localhost:8080/",
          "height": 266
        },
        "id": "t2inr_JXLbmE",
        "outputId": "3c330536-f46c-4b24-e352-5db0faa8d952"
      },
      "source": [
        "df_trends[df_trends.isnull().any(axis=1)]"
      ],
      "execution_count": 134,
      "outputs": [
        {
          "output_type": "execute_result",
          "data": {
            "text/html": [
              "<div>\n",
              "<style scoped>\n",
              "    .dataframe tbody tr th:only-of-type {\n",
              "        vertical-align: middle;\n",
              "    }\n",
              "\n",
              "    .dataframe tbody tr th {\n",
              "        vertical-align: top;\n",
              "    }\n",
              "\n",
              "    .dataframe thead th {\n",
              "        text-align: right;\n",
              "    }\n",
              "</style>\n",
              "<table border=\"1\" class=\"dataframe\">\n",
              "  <thead>\n",
              "    <tr style=\"text-align: right;\">\n",
              "      <th></th>\n",
              "      <th>year</th>\n",
              "      <th>city_temp</th>\n",
              "      <th>global_temp</th>\n",
              "    </tr>\n",
              "  </thead>\n",
              "  <tbody>\n",
              "    <tr>\n",
              "      <th>12</th>\n",
              "      <td>1808</td>\n",
              "      <td>NaN</td>\n",
              "      <td>7.63</td>\n",
              "    </tr>\n",
              "    <tr>\n",
              "      <th>13</th>\n",
              "      <td>1809</td>\n",
              "      <td>NaN</td>\n",
              "      <td>7.08</td>\n",
              "    </tr>\n",
              "    <tr>\n",
              "      <th>14</th>\n",
              "      <td>1810</td>\n",
              "      <td>NaN</td>\n",
              "      <td>6.92</td>\n",
              "    </tr>\n",
              "    <tr>\n",
              "      <th>15</th>\n",
              "      <td>1811</td>\n",
              "      <td>NaN</td>\n",
              "      <td>6.86</td>\n",
              "    </tr>\n",
              "    <tr>\n",
              "      <th>16</th>\n",
              "      <td>1812</td>\n",
              "      <td>NaN</td>\n",
              "      <td>7.05</td>\n",
              "    </tr>\n",
              "    <tr>\n",
              "      <th>67</th>\n",
              "      <td>1863</td>\n",
              "      <td>NaN</td>\n",
              "      <td>8.11</td>\n",
              "    </tr>\n",
              "    <tr>\n",
              "      <th>68</th>\n",
              "      <td>1864</td>\n",
              "      <td>NaN</td>\n",
              "      <td>7.98</td>\n",
              "    </tr>\n",
              "  </tbody>\n",
              "</table>\n",
              "</div>"
            ],
            "text/plain": [
              "    year  city_temp  global_temp\n",
              "12  1808        NaN         7.63\n",
              "13  1809        NaN         7.08\n",
              "14  1810        NaN         6.92\n",
              "15  1811        NaN         6.86\n",
              "16  1812        NaN         7.05\n",
              "67  1863        NaN         8.11\n",
              "68  1864        NaN         7.98"
            ]
          },
          "metadata": {
            "tags": []
          },
          "execution_count": 134
        }
      ]
    },
    {
      "cell_type": "markdown",
      "metadata": {
        "id": "zd8UfY3BoIvW"
      },
      "source": [
        "### Index of missing values"
      ]
    },
    {
      "cell_type": "code",
      "metadata": {
        "colab": {
          "base_uri": "https://localhost:8080/"
        },
        "id": "6r1iS0hGRPYn",
        "outputId": "077c4c35-8bfc-48f0-90ed-7cdaf594a517"
      },
      "source": [
        "missing_values = df_trends[df_trends.isnull().any(axis=1)].index.values.tolist()\n",
        "missing_values"
      ],
      "execution_count": 135,
      "outputs": [
        {
          "output_type": "execute_result",
          "data": {
            "text/plain": [
              "[12, 13, 14, 15, 16, 67, 68]"
            ]
          },
          "metadata": {
            "tags": []
          },
          "execution_count": 135
        }
      ]
    },
    {
      "cell_type": "markdown",
      "metadata": {
        "id": "s7A7UIqqoPOB"
      },
      "source": [
        "## Filling missing values"
      ]
    },
    {
      "cell_type": "code",
      "metadata": {
        "id": "j0TP2Z1ANsA3"
      },
      "source": [
        "df_trends.interpolate(inplace=True)"
      ],
      "execution_count": 136,
      "outputs": []
    },
    {
      "cell_type": "code",
      "metadata": {
        "colab": {
          "base_uri": "https://localhost:8080/"
        },
        "id": "sg9ffxRPK4k2",
        "outputId": "aa12547b-4ef9-4a57-de70-6b422aa69ad3"
      },
      "source": [
        "for i in missing_values:\n",
        "  print(df_trends.iloc[i],\"\\n\")"
      ],
      "execution_count": 137,
      "outputs": [
        {
          "output_type": "stream",
          "text": [
            "year           1808.000000\n",
            "city_temp        26.166667\n",
            "global_temp       7.630000\n",
            "Name: 12, dtype: float64 \n",
            "\n",
            "year           1809.000000\n",
            "city_temp        26.183333\n",
            "global_temp       7.080000\n",
            "Name: 13, dtype: float64 \n",
            "\n",
            "year           1810.00\n",
            "city_temp        26.20\n",
            "global_temp       6.92\n",
            "Name: 14, dtype: float64 \n",
            "\n",
            "year           1811.000000\n",
            "city_temp        26.216667\n",
            "global_temp       6.860000\n",
            "Name: 15, dtype: float64 \n",
            "\n",
            "year           1812.000000\n",
            "city_temp        26.233333\n",
            "global_temp       7.050000\n",
            "Name: 16, dtype: float64 \n",
            "\n",
            "year           1863.00\n",
            "city_temp        25.24\n",
            "global_temp       8.11\n",
            "Name: 67, dtype: float64 \n",
            "\n",
            "year           1864.00\n",
            "city_temp        26.10\n",
            "global_temp       7.98\n",
            "Name: 68, dtype: float64 \n",
            "\n"
          ],
          "name": "stdout"
        }
      ]
    },
    {
      "cell_type": "markdown",
      "metadata": {
        "id": "V1IUZYR1osOD"
      },
      "source": [
        "## Finding Moving Averages of local(Hyderabad) and global data"
      ]
    },
    {
      "cell_type": "code",
      "metadata": {
        "colab": {
          "base_uri": "https://localhost:8080/",
          "height": 359
        },
        "id": "OTBxWdyrSi4o",
        "outputId": "480de511-93a2-48fe-cb59-64a5568d5f1a"
      },
      "source": [
        "window_size = 8\n",
        "df_trends['MA_city_temp'] = df_trends['city_temp'].rolling(window=window_size).mean()\n",
        "df_trends['MA_global_temp'] = df_trends['global_temp'].rolling(window=window_size).mean()\n",
        "\n",
        "df_trends.head(10)"
      ],
      "execution_count": 138,
      "outputs": [
        {
          "output_type": "execute_result",
          "data": {
            "text/html": [
              "<div>\n",
              "<style scoped>\n",
              "    .dataframe tbody tr th:only-of-type {\n",
              "        vertical-align: middle;\n",
              "    }\n",
              "\n",
              "    .dataframe tbody tr th {\n",
              "        vertical-align: top;\n",
              "    }\n",
              "\n",
              "    .dataframe thead th {\n",
              "        text-align: right;\n",
              "    }\n",
              "</style>\n",
              "<table border=\"1\" class=\"dataframe\">\n",
              "  <thead>\n",
              "    <tr style=\"text-align: right;\">\n",
              "      <th></th>\n",
              "      <th>year</th>\n",
              "      <th>city_temp</th>\n",
              "      <th>global_temp</th>\n",
              "      <th>MA_city_temp</th>\n",
              "      <th>MA_global_temp</th>\n",
              "    </tr>\n",
              "  </thead>\n",
              "  <tbody>\n",
              "    <tr>\n",
              "      <th>0</th>\n",
              "      <td>1796</td>\n",
              "      <td>26.53</td>\n",
              "      <td>8.27</td>\n",
              "      <td>NaN</td>\n",
              "      <td>NaN</td>\n",
              "    </tr>\n",
              "    <tr>\n",
              "      <th>1</th>\n",
              "      <td>1797</td>\n",
              "      <td>27.48</td>\n",
              "      <td>8.51</td>\n",
              "      <td>NaN</td>\n",
              "      <td>NaN</td>\n",
              "    </tr>\n",
              "    <tr>\n",
              "      <th>2</th>\n",
              "      <td>1798</td>\n",
              "      <td>26.20</td>\n",
              "      <td>8.67</td>\n",
              "      <td>NaN</td>\n",
              "      <td>NaN</td>\n",
              "    </tr>\n",
              "    <tr>\n",
              "      <th>3</th>\n",
              "      <td>1799</td>\n",
              "      <td>26.84</td>\n",
              "      <td>8.51</td>\n",
              "      <td>NaN</td>\n",
              "      <td>NaN</td>\n",
              "    </tr>\n",
              "    <tr>\n",
              "      <th>4</th>\n",
              "      <td>1800</td>\n",
              "      <td>26.88</td>\n",
              "      <td>8.48</td>\n",
              "      <td>NaN</td>\n",
              "      <td>NaN</td>\n",
              "    </tr>\n",
              "    <tr>\n",
              "      <th>5</th>\n",
              "      <td>1801</td>\n",
              "      <td>26.05</td>\n",
              "      <td>8.59</td>\n",
              "      <td>NaN</td>\n",
              "      <td>NaN</td>\n",
              "    </tr>\n",
              "    <tr>\n",
              "      <th>6</th>\n",
              "      <td>1802</td>\n",
              "      <td>27.44</td>\n",
              "      <td>8.58</td>\n",
              "      <td>NaN</td>\n",
              "      <td>NaN</td>\n",
              "    </tr>\n",
              "    <tr>\n",
              "      <th>7</th>\n",
              "      <td>1803</td>\n",
              "      <td>27.22</td>\n",
              "      <td>8.50</td>\n",
              "      <td>26.8300</td>\n",
              "      <td>8.51375</td>\n",
              "    </tr>\n",
              "    <tr>\n",
              "      <th>8</th>\n",
              "      <td>1804</td>\n",
              "      <td>27.65</td>\n",
              "      <td>8.84</td>\n",
              "      <td>26.9700</td>\n",
              "      <td>8.58500</td>\n",
              "    </tr>\n",
              "    <tr>\n",
              "      <th>9</th>\n",
              "      <td>1805</td>\n",
              "      <td>27.02</td>\n",
              "      <td>8.56</td>\n",
              "      <td>26.9125</td>\n",
              "      <td>8.59125</td>\n",
              "    </tr>\n",
              "  </tbody>\n",
              "</table>\n",
              "</div>"
            ],
            "text/plain": [
              "   year  city_temp  global_temp  MA_city_temp  MA_global_temp\n",
              "0  1796      26.53         8.27           NaN             NaN\n",
              "1  1797      27.48         8.51           NaN             NaN\n",
              "2  1798      26.20         8.67           NaN             NaN\n",
              "3  1799      26.84         8.51           NaN             NaN\n",
              "4  1800      26.88         8.48           NaN             NaN\n",
              "5  1801      26.05         8.59           NaN             NaN\n",
              "6  1802      27.44         8.58           NaN             NaN\n",
              "7  1803      27.22         8.50       26.8300         8.51375\n",
              "8  1804      27.65         8.84       26.9700         8.58500\n",
              "9  1805      27.02         8.56       26.9125         8.59125"
            ]
          },
          "metadata": {
            "tags": []
          },
          "execution_count": 138
        }
      ]
    },
    {
      "cell_type": "markdown",
      "metadata": {
        "id": "0hEVnqKMS_hT"
      },
      "source": [
        "# Hyderabad vs Global Temperature"
      ]
    },
    {
      "cell_type": "code",
      "metadata": {
        "colab": {
          "base_uri": "https://localhost:8080/",
          "height": 348
        },
        "id": "WgKNiE5lSC56",
        "outputId": "1aac5b30-a317-48f5-a2be-1f6afbda2529"
      },
      "source": [
        "plt.plot(df_trends['year'],df_trends['city_temp'],color='red')\n",
        "plt.plot(df_trends['year'],df_trends['global_temp'],color='green')\n",
        "\n",
        "plt.title('Hyderabad vs Global Temperature')\n",
        "plt.xlabel('Years',size=14)\n",
        "plt.ylabel('Temperature in Celcius',size=14)\n",
        "plt.xticks(rotation=45)\n",
        "\n",
        "red_patch = mpatches.Patch(color='red',label='Hyderabad')\n",
        "green_patch = mpatches.Patch(color='green',label='World')\n",
        "plt.legend(handles=[red_patch,green_patch],bbox_to_anchor =(0.75, 1.25), ncol = 2)\n",
        "plt.grid(True)\n",
        "plt.show()"
      ],
      "execution_count": 139,
      "outputs": [
        {
          "output_type": "display_data",
          "data": {
            "image/png": "[encoded data removed]",
            "text/plain": [
              "<Figure size 432x288 with 1 Axes>"
            ]
          },
          "metadata": {
            "tags": [],
            "needs_background": "light"
          }
        }
      ]
    },
    {
      "cell_type": "code",
      "metadata": {
        "colab": {
          "base_uri": "https://localhost:8080/",
          "height": 359
        },
        "id": "M3kpYkilZ_19",
        "outputId": "7f7f31b4-5a0c-4790-fc3c-20c608c0b202"
      },
      "source": [
        "df_trends[df_trends['year'] > 1803 ].head(10)"
      ],
      "execution_count": 140,
      "outputs": [
        {
          "output_type": "execute_result",
          "data": {
            "text/html": [
              "<div>\n",
              "<style scoped>\n",
              "    .dataframe tbody tr th:only-of-type {\n",
              "        vertical-align: middle;\n",
              "    }\n",
              "\n",
              "    .dataframe tbody tr th {\n",
              "        vertical-align: top;\n",
              "    }\n",
              "\n",
              "    .dataframe thead th {\n",
              "        text-align: right;\n",
              "    }\n",
              "</style>\n",
              "<table border=\"1\" class=\"dataframe\">\n",
              "  <thead>\n",
              "    <tr style=\"text-align: right;\">\n",
              "      <th></th>\n",
              "      <th>year</th>\n",
              "      <th>city_temp</th>\n",
              "      <th>global_temp</th>\n",
              "      <th>MA_city_temp</th>\n",
              "      <th>MA_global_temp</th>\n",
              "    </tr>\n",
              "  </thead>\n",
              "  <tbody>\n",
              "    <tr>\n",
              "      <th>8</th>\n",
              "      <td>1804</td>\n",
              "      <td>27.650000</td>\n",
              "      <td>8.84</td>\n",
              "      <td>26.970000</td>\n",
              "      <td>8.58500</td>\n",
              "    </tr>\n",
              "    <tr>\n",
              "      <th>9</th>\n",
              "      <td>1805</td>\n",
              "      <td>27.020000</td>\n",
              "      <td>8.56</td>\n",
              "      <td>26.912500</td>\n",
              "      <td>8.59125</td>\n",
              "    </tr>\n",
              "    <tr>\n",
              "      <th>10</th>\n",
              "      <td>1806</td>\n",
              "      <td>26.890000</td>\n",
              "      <td>8.43</td>\n",
              "      <td>26.998750</td>\n",
              "      <td>8.56125</td>\n",
              "    </tr>\n",
              "    <tr>\n",
              "      <th>11</th>\n",
              "      <td>1807</td>\n",
              "      <td>26.150000</td>\n",
              "      <td>8.28</td>\n",
              "      <td>26.912500</td>\n",
              "      <td>8.53250</td>\n",
              "    </tr>\n",
              "    <tr>\n",
              "      <th>12</th>\n",
              "      <td>1808</td>\n",
              "      <td>26.166667</td>\n",
              "      <td>7.63</td>\n",
              "      <td>26.823333</td>\n",
              "      <td>8.42625</td>\n",
              "    </tr>\n",
              "    <tr>\n",
              "      <th>13</th>\n",
              "      <td>1809</td>\n",
              "      <td>26.183333</td>\n",
              "      <td>7.08</td>\n",
              "      <td>26.840000</td>\n",
              "      <td>8.23750</td>\n",
              "    </tr>\n",
              "    <tr>\n",
              "      <th>14</th>\n",
              "      <td>1810</td>\n",
              "      <td>26.200000</td>\n",
              "      <td>6.92</td>\n",
              "      <td>26.685000</td>\n",
              "      <td>8.03000</td>\n",
              "    </tr>\n",
              "    <tr>\n",
              "      <th>15</th>\n",
              "      <td>1811</td>\n",
              "      <td>26.216667</td>\n",
              "      <td>6.86</td>\n",
              "      <td>26.559583</td>\n",
              "      <td>7.82500</td>\n",
              "    </tr>\n",
              "    <tr>\n",
              "      <th>16</th>\n",
              "      <td>1812</td>\n",
              "      <td>26.233333</td>\n",
              "      <td>7.05</td>\n",
              "      <td>26.382500</td>\n",
              "      <td>7.60125</td>\n",
              "    </tr>\n",
              "    <tr>\n",
              "      <th>17</th>\n",
              "      <td>1813</td>\n",
              "      <td>26.250000</td>\n",
              "      <td>7.74</td>\n",
              "      <td>26.286250</td>\n",
              "      <td>7.49875</td>\n",
              "    </tr>\n",
              "  </tbody>\n",
              "</table>\n",
              "</div>"
            ],
            "text/plain": [
              "    year  city_temp  global_temp  MA_city_temp  MA_global_temp\n",
              "8   1804  27.650000         8.84     26.970000         8.58500\n",
              "9   1805  27.020000         8.56     26.912500         8.59125\n",
              "10  1806  26.890000         8.43     26.998750         8.56125\n",
              "11  1807  26.150000         8.28     26.912500         8.53250\n",
              "12  1808  26.166667         7.63     26.823333         8.42625\n",
              "13  1809  26.183333         7.08     26.840000         8.23750\n",
              "14  1810  26.200000         6.92     26.685000         8.03000\n",
              "15  1811  26.216667         6.86     26.559583         7.82500\n",
              "16  1812  26.233333         7.05     26.382500         7.60125\n",
              "17  1813  26.250000         7.74     26.286250         7.49875"
            ]
          },
          "metadata": {
            "tags": []
          },
          "execution_count": 140
        }
      ]
    },
    {
      "cell_type": "markdown",
      "metadata": {
        "id": "NLAdUTlhTFtK"
      },
      "source": [
        "# 8 years MA Temperature comparison between Hyderabad and World"
      ]
    },
    {
      "cell_type": "code",
      "metadata": {
        "colab": {
          "base_uri": "https://localhost:8080/",
          "height": 348
        },
        "id": "JHurZuW3pnQK",
        "outputId": "2866e0f8-7cdf-4465-830d-da5793fc0ac6"
      },
      "source": [
        "plt.plot(df_trends['year'],df_trends['MA_city_temp'],color='red')\n",
        "plt.plot(df_trends['year'],df_trends['MA_global_temp'],color='green')\n",
        "\n",
        "plt.title('8 years Moving Average Temperature comparison between Hyderabad and World')\n",
        "plt.xlabel('Years',size=14)\n",
        "plt.ylabel('Temperature in Celcius',size=14)\n",
        "plt.xticks(rotation=45)\n",
        "\n",
        "red_patch = mpatches.Patch(color='red',label='Hyderabad')\n",
        "green_patch = mpatches.Patch(color='green',label='World')\n",
        "plt.legend(handles=[red_patch,green_patch],bbox_to_anchor =(0.79, 1.25), ncol = 2)\n",
        "plt.grid(True)\n",
        "plt.show()"
      ],
      "execution_count": 141,
      "outputs": [
        {
          "output_type": "display_data",
          "data": {
            "image/png": "[encoded data removed]",
            "text/plain": [
              "<Figure size 432x288 with 1 Axes>"
            ]
          },
          "metadata": {
            "tags": [],
            "needs_background": "light"
          }
        }
      ]
    },
    {
      "cell_type": "code",
      "metadata": {
        "colab": {
          "base_uri": "https://localhost:8080/",
          "height": 204
        },
        "id": "yUtO-OAUhldg",
        "outputId": "d781a06c-9d83-4c0b-f247-03241b1635f5"
      },
      "source": [
        "df_trends.corr(method ='pearson')"
      ],
      "execution_count": 142,
      "outputs": [
        {
          "output_type": "execute_result",
          "data": {
            "text/html": [
              "<div>\n",
              "<style scoped>\n",
              "    .dataframe tbody tr th:only-of-type {\n",
              "        vertical-align: middle;\n",
              "    }\n",
              "\n",
              "    .dataframe tbody tr th {\n",
              "        vertical-align: top;\n",
              "    }\n",
              "\n",
              "    .dataframe thead th {\n",
              "        text-align: right;\n",
              "    }\n",
              "</style>\n",
              "<table border=\"1\" class=\"dataframe\">\n",
              "  <thead>\n",
              "    <tr style=\"text-align: right;\">\n",
              "      <th></th>\n",
              "      <th>year</th>\n",
              "      <th>city_temp</th>\n",
              "      <th>global_temp</th>\n",
              "      <th>MA_city_temp</th>\n",
              "      <th>MA_global_temp</th>\n",
              "    </tr>\n",
              "  </thead>\n",
              "  <tbody>\n",
              "    <tr>\n",
              "      <th>year</th>\n",
              "      <td>1.000000</td>\n",
              "      <td>0.665212</td>\n",
              "      <td>0.765267</td>\n",
              "      <td>0.848356</td>\n",
              "      <td>0.859065</td>\n",
              "    </tr>\n",
              "    <tr>\n",
              "      <th>city_temp</th>\n",
              "      <td>0.665212</td>\n",
              "      <td>1.000000</td>\n",
              "      <td>0.771909</td>\n",
              "      <td>0.771301</td>\n",
              "      <td>0.745213</td>\n",
              "    </tr>\n",
              "    <tr>\n",
              "      <th>global_temp</th>\n",
              "      <td>0.765267</td>\n",
              "      <td>0.771909</td>\n",
              "      <td>1.000000</td>\n",
              "      <td>0.779534</td>\n",
              "      <td>0.881786</td>\n",
              "    </tr>\n",
              "    <tr>\n",
              "      <th>MA_city_temp</th>\n",
              "      <td>0.848356</td>\n",
              "      <td>0.771301</td>\n",
              "      <td>0.779534</td>\n",
              "      <td>1.000000</td>\n",
              "      <td>0.920007</td>\n",
              "    </tr>\n",
              "    <tr>\n",
              "      <th>MA_global_temp</th>\n",
              "      <td>0.859065</td>\n",
              "      <td>0.745213</td>\n",
              "      <td>0.881786</td>\n",
              "      <td>0.920007</td>\n",
              "      <td>1.000000</td>\n",
              "    </tr>\n",
              "  </tbody>\n",
              "</table>\n",
              "</div>"
            ],
            "text/plain": [
              "                    year  city_temp  global_temp  MA_city_temp  MA_global_temp\n",
              "year            1.000000   0.665212     0.765267      0.848356        0.859065\n",
              "city_temp       0.665212   1.000000     0.771909      0.771301        0.745213\n",
              "global_temp     0.765267   0.771909     1.000000      0.779534        0.881786\n",
              "MA_city_temp    0.848356   0.771301     0.779534      1.000000        0.920007\n",
              "MA_global_temp  0.859065   0.745213     0.881786      0.920007        1.000000"
            ]
          },
          "metadata": {
            "tags": []
          },
          "execution_count": 142
        }
      ]
    }
  ]
}