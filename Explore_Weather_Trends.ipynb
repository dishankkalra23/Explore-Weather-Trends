{
  "nbformat": 4,
  "nbformat_minor": 0,
  "metadata": {
    "colab": {
      "name": "Explore Weather Trends.ipynb",
      "provenance": [],
      "collapsed_sections": [],
      "toc_visible": true,
      "mount_file_id": "1rcMPu3GJSANGPH8jB8Kr19pZPRZcamiR",
      "authorship_tag": "ABX9TyO0o9yF1rPsQMa/OxGXRx7G",
      "include_colab_link": true
    },
    "kernelspec": {
      "name": "python3",
      "display_name": "Python 3"
    },
    "language_info": {
      "name": "python"
    }
  },
  "cells": [
    {
      "cell_type": "markdown",
      "metadata": {
        "id": "view-in-github",
        "colab_type": "text"
      },
      "source": [
        "<a href=\"https://colab.research.google.com/github/dishankkalra23/Explore-Weather-Trends/blob/main/Explore_Weather_Trends.ipynb\" target=\"_parent\"><img src=\"https://colab.research.google.com/assets/colab-badge.svg\" alt=\"Open In Colab\"/></a>"
      ]
    },
    {
      "cell_type": "code",
      "metadata": {
        "id": "uR2qhjptgfnr"
      },
      "source": [
        "import pandas as pd\n",
        "import numpy as np\n",
        "import seaborn as sns\n",
        "import matplotlib.pyplot as plt"
      ],
      "execution_count": 69,
      "outputs": []
    },
    {
      "cell_type": "code",
      "metadata": {
        "colab": {
          "base_uri": "https://localhost:8080/"
        },
        "id": "V2L5akR4I8uA",
        "outputId": "16dc30e6-bd08-4ac7-f77f-fdf569606d9e"
      },
      "source": [
        "city_data = pd.read_csv(\"/content/drive/MyDrive/Explore Weather Trends/city_data.csv\")\n",
        "city_data.shape"
      ],
      "execution_count": 2,
      "outputs": [
        {
          "output_type": "execute_result",
          "data": {
            "text/plain": [
              "(70792, 4)"
            ]
          },
          "metadata": {
            "tags": []
          },
          "execution_count": 2
        }
      ]
    },
    {
      "cell_type": "markdown",
      "metadata": {
        "id": "zwwEMFGQwOj_"
      },
      "source": [
        "# List of Cities in India"
      ]
    },
    {
      "cell_type": "code",
      "metadata": {
        "colab": {
          "base_uri": "https://localhost:8080/"
        },
        "id": "XS8GaFr9vXIH",
        "outputId": "3dfde86f-e30c-4ad5-8282-ad4cf642f3fb"
      },
      "source": [
        "Indian_cities = city_data[city_data['country']=='India']['city'].unique()\n",
        "Indian_cities"
      ],
      "execution_count": 3,
      "outputs": [
        {
          "output_type": "execute_result",
          "data": {
            "text/plain": [
              "array(['Agra', 'Ahmadabad', 'Allahabad', 'Amritsar', 'Bangalore',\n",
              "       'Bhopal', 'Delhi', 'Haora', 'Hyderabad', 'Indore', 'Jaipur',\n",
              "       'Kanpur', 'Ludhiana', 'Nagpur', 'New Delhi', 'Patna', 'Pune',\n",
              "       'Rajkot', 'Ranchi', 'Surat', 'Vadodara', 'Varanasi'], dtype=object)"
            ]
          },
          "metadata": {
            "tags": []
          },
          "execution_count": 3
        }
      ]
    },
    {
      "cell_type": "markdown",
      "metadata": {
        "id": "EmjuDPsbwuBp"
      },
      "source": [
        "## Number of Indian Cities"
      ]
    },
    {
      "cell_type": "code",
      "metadata": {
        "colab": {
          "base_uri": "https://localhost:8080/"
        },
        "id": "-Dx6hy8mwqWL",
        "outputId": "58fa36aa-e4ab-46e0-fb81-61d22576d00b"
      },
      "source": [
        "len(Indian_cities)"
      ],
      "execution_count": 4,
      "outputs": [
        {
          "output_type": "execute_result",
          "data": {
            "text/plain": [
              "22"
            ]
          },
          "metadata": {
            "tags": []
          },
          "execution_count": 4
        }
      ]
    },
    {
      "cell_type": "markdown",
      "metadata": {
        "id": "M13jX2fiw0xJ"
      },
      "source": [
        "# Indian city choosen: Hyderabad\n",
        "\n"
      ]
    },
    {
      "cell_type": "markdown",
      "metadata": {
        "id": "4yHW-SVsxBQf"
      },
      "source": [
        "## Number of rows in Hyderabad's data\n",
        "Note - There are two cities with name as Hyderabad, one in India and other in Pakistan "
      ]
    },
    {
      "cell_type": "code",
      "metadata": {
        "colab": {
          "base_uri": "https://localhost:8080/"
        },
        "id": "7sEHBaufvxc-",
        "outputId": "2033fa72-2132-49f7-d88f-0a3b46e5c5db"
      },
      "source": [
        "data_hyderabad = city_data[(city_data['country']=='India') & (city_data['city']=='Hyderabad')]\n",
        "data_hyderabad.shape[0]"
      ],
      "execution_count": 5,
      "outputs": [
        {
          "output_type": "execute_result",
          "data": {
            "text/plain": [
              "218"
            ]
          },
          "metadata": {
            "tags": []
          },
          "execution_count": 5
        }
      ]
    },
    {
      "cell_type": "markdown",
      "metadata": {
        "id": "FMrPHYbvLlaf"
      },
      "source": [
        "# Handling Missing values"
      ]
    },
    {
      "cell_type": "code",
      "metadata": {
        "id": "wW0LLsHvxc97",
        "colab": {
          "base_uri": "https://localhost:8080/",
          "height": 419
        },
        "outputId": "1acb0e13-9cdf-48b7-952d-8ff8eb61bd37"
      },
      "source": [
        "data_hyderabad"
      ],
      "execution_count": 6,
      "outputs": [
        {
          "output_type": "execute_result",
          "data": {
            "text/html": [
              "<div>\n",
              "<style scoped>\n",
              "    .dataframe tbody tr th:only-of-type {\n",
              "        vertical-align: middle;\n",
              "    }\n",
              "\n",
              "    .dataframe tbody tr th {\n",
              "        vertical-align: top;\n",
              "    }\n",
              "\n",
              "    .dataframe thead th {\n",
              "        text-align: right;\n",
              "    }\n",
              "</style>\n",
              "<table border=\"1\" class=\"dataframe\">\n",
              "  <thead>\n",
              "    <tr style=\"text-align: right;\">\n",
              "      <th></th>\n",
              "      <th>year</th>\n",
              "      <th>city</th>\n",
              "      <th>country</th>\n",
              "      <th>avg_temp</th>\n",
              "    </tr>\n",
              "  </thead>\n",
              "  <tbody>\n",
              "    <tr>\n",
              "      <th>26146</th>\n",
              "      <td>1796</td>\n",
              "      <td>Hyderabad</td>\n",
              "      <td>India</td>\n",
              "      <td>26.53</td>\n",
              "    </tr>\n",
              "    <tr>\n",
              "      <th>26147</th>\n",
              "      <td>1797</td>\n",
              "      <td>Hyderabad</td>\n",
              "      <td>India</td>\n",
              "      <td>27.48</td>\n",
              "    </tr>\n",
              "    <tr>\n",
              "      <th>26148</th>\n",
              "      <td>1798</td>\n",
              "      <td>Hyderabad</td>\n",
              "      <td>India</td>\n",
              "      <td>26.20</td>\n",
              "    </tr>\n",
              "    <tr>\n",
              "      <th>26149</th>\n",
              "      <td>1799</td>\n",
              "      <td>Hyderabad</td>\n",
              "      <td>India</td>\n",
              "      <td>26.84</td>\n",
              "    </tr>\n",
              "    <tr>\n",
              "      <th>26150</th>\n",
              "      <td>1800</td>\n",
              "      <td>Hyderabad</td>\n",
              "      <td>India</td>\n",
              "      <td>26.88</td>\n",
              "    </tr>\n",
              "    <tr>\n",
              "      <th>...</th>\n",
              "      <td>...</td>\n",
              "      <td>...</td>\n",
              "      <td>...</td>\n",
              "      <td>...</td>\n",
              "    </tr>\n",
              "    <tr>\n",
              "      <th>26359</th>\n",
              "      <td>2009</td>\n",
              "      <td>Hyderabad</td>\n",
              "      <td>India</td>\n",
              "      <td>28.03</td>\n",
              "    </tr>\n",
              "    <tr>\n",
              "      <th>26360</th>\n",
              "      <td>2010</td>\n",
              "      <td>Hyderabad</td>\n",
              "      <td>India</td>\n",
              "      <td>27.69</td>\n",
              "    </tr>\n",
              "    <tr>\n",
              "      <th>26361</th>\n",
              "      <td>2011</td>\n",
              "      <td>Hyderabad</td>\n",
              "      <td>India</td>\n",
              "      <td>27.41</td>\n",
              "    </tr>\n",
              "    <tr>\n",
              "      <th>26362</th>\n",
              "      <td>2012</td>\n",
              "      <td>Hyderabad</td>\n",
              "      <td>India</td>\n",
              "      <td>28.02</td>\n",
              "    </tr>\n",
              "    <tr>\n",
              "      <th>26363</th>\n",
              "      <td>2013</td>\n",
              "      <td>Hyderabad</td>\n",
              "      <td>India</td>\n",
              "      <td>28.85</td>\n",
              "    </tr>\n",
              "  </tbody>\n",
              "</table>\n",
              "<p>218 rows × 4 columns</p>\n",
              "</div>"
            ],
            "text/plain": [
              "       year       city country  avg_temp\n",
              "26146  1796  Hyderabad   India     26.53\n",
              "26147  1797  Hyderabad   India     27.48\n",
              "26148  1798  Hyderabad   India     26.20\n",
              "26149  1799  Hyderabad   India     26.84\n",
              "26150  1800  Hyderabad   India     26.88\n",
              "...     ...        ...     ...       ...\n",
              "26359  2009  Hyderabad   India     28.03\n",
              "26360  2010  Hyderabad   India     27.69\n",
              "26361  2011  Hyderabad   India     27.41\n",
              "26362  2012  Hyderabad   India     28.02\n",
              "26363  2013  Hyderabad   India     28.85\n",
              "\n",
              "[218 rows x 4 columns]"
            ]
          },
          "metadata": {
            "tags": []
          },
          "execution_count": 6
        }
      ]
    },
    {
      "cell_type": "markdown",
      "metadata": {
        "id": "0I1y-aDuW9Vr"
      },
      "source": [
        "## Note: Only column-4(avg_temp) has null values"
      ]
    },
    {
      "cell_type": "code",
      "metadata": {
        "colab": {
          "base_uri": "https://localhost:8080/"
        },
        "id": "vr5AE9aTWzg4",
        "outputId": "e4568836-478e-4c7b-d070-336c549e373f"
      },
      "source": [
        "data_hyderabad.isnull().sum()"
      ],
      "execution_count": 7,
      "outputs": [
        {
          "output_type": "execute_result",
          "data": {
            "text/plain": [
              "year        0\n",
              "city        0\n",
              "country     0\n",
              "avg_temp    7\n",
              "dtype: int64"
            ]
          },
          "metadata": {
            "tags": []
          },
          "execution_count": 7
        }
      ]
    },
    {
      "cell_type": "code",
      "metadata": {
        "colab": {
          "base_uri": "https://localhost:8080/",
          "height": 297
        },
        "id": "NLwrPGNRHMg4",
        "outputId": "e786adbf-bd61-4bc2-d693-dd37c87c38f8"
      },
      "source": [
        "x_data = data_hyderabad['year']\n",
        "y_data = data_hyderabad['avg_temp']\n",
        "\n",
        "sns.lineplot(x=x_data,y=y_data,data=data_hyderabad)"
      ],
      "execution_count": 8,
      "outputs": [
        {
          "output_type": "execute_result",
          "data": {
            "text/plain": [
              "<matplotlib.axes._subplots.AxesSubplot at 0x7f2526237390>"
            ]
          },
          "metadata": {
            "tags": []
          },
          "execution_count": 8
        },
        {
          "output_type": "display_data",
          "data": {
            "image/png": "[encoded data removed]",
            "text/plain": [
              "<Figure size 432x288 with 1 Axes>"
            ]
          },
          "metadata": {
            "tags": [],
            "needs_background": "light"
          }
        }
      ]
    },
    {
      "cell_type": "markdown",
      "metadata": {
        "id": "dOTvlgsUUtEM"
      },
      "source": [
        "## Filling missing values with mean value of column(avg_temp)"
      ]
    },
    {
      "cell_type": "code",
      "metadata": {
        "colab": {
          "base_uri": "https://localhost:8080/"
        },
        "id": "nVK7tKBxSNii",
        "outputId": "e63a5902-039e-4ade-bbaf-0f02b1d6651e"
      },
      "source": [
        "mean_val = data_hyderabad['avg_temp'].mean(axis=0,skipna=True)\n",
        "mean_val"
      ],
      "execution_count": 9,
      "outputs": [
        {
          "output_type": "execute_result",
          "data": {
            "text/plain": [
              "26.861563981042668"
            ]
          },
          "metadata": {
            "tags": []
          },
          "execution_count": 9
        }
      ]
    },
    {
      "cell_type": "code",
      "metadata": {
        "id": "UVF54LFMSaDJ"
      },
      "source": [
        "data_hyderabad_with_mean = data_hyderabad.fillna(mean_val)"
      ],
      "execution_count": 10,
      "outputs": []
    },
    {
      "cell_type": "code",
      "metadata": {
        "colab": {
          "base_uri": "https://localhost:8080/",
          "height": 280
        },
        "id": "uYTHJffiUeyT",
        "outputId": "f44fa6d6-9fc8-44c3-d312-d670cb46d156"
      },
      "source": [
        "x_data_2 = data_hyderabad_with_mean['year']\n",
        "y_data_2 = data_hyderabad_with_mean['avg_temp']\n",
        "\n",
        "sns.lineplot(x=x_data_2,y=y_data_2,data=data_hyderabad_with_mean)\n",
        "plt.show()"
      ],
      "execution_count": 13,
      "outputs": [
        {
          "output_type": "display_data",
          "data": {
            "image/png": "[encoded data removed]",
            "text/plain": [
              "<Figure size 432x288 with 1 Axes>"
            ]
          },
          "metadata": {
            "tags": [],
            "needs_background": "light"
          }
        }
      ]
    },
    {
      "cell_type": "markdown",
      "metadata": {
        "id": "LYaA_9i3U7fq"
      },
      "source": [
        "## Filling missing values with interpolation method"
      ]
    },
    {
      "cell_type": "code",
      "metadata": {
        "colab": {
          "base_uri": "https://localhost:8080/",
          "height": 385
        },
        "id": "jzHCzZ_mUpR9",
        "outputId": "6167710c-f8a2-4ab3-8597-07359d47a9c7"
      },
      "source": [
        "sns.lineplot(x=x_data,y=y_data,data=data_hyderabad.interpolate(inplace=True))\n",
        "plt.show()"
      ],
      "execution_count": 18,
      "outputs": [
        {
          "output_type": "stream",
          "text": [
            "/usr/local/lib/python3.7/dist-packages/ipykernel_launcher.py:1: SettingWithCopyWarning: \n",
            "A value is trying to be set on a copy of a slice from a DataFrame\n",
            "\n",
            "See the caveats in the documentation: https://pandas.pydata.org/pandas-docs/stable/user_guide/indexing.html#returning-a-view-versus-a-copy\n",
            "  \"\"\"Entry point for launching an IPython kernel.\n"
          ],
          "name": "stderr"
        },
        {
          "output_type": "display_data",
          "data": {
            "image/png": "[encoded data removed]",
            "text/plain": [
              "<Figure size 432x288 with 1 Axes>"
            ]
          },
          "metadata": {
            "tags": [],
            "needs_background": "light"
          }
        }
      ]
    },
    {
      "cell_type": "markdown",
      "metadata": {
        "id": "mkcObSpmaldU"
      },
      "source": [
        "## TODO: Finding Moving averages\n"
      ]
    },
    {
      "cell_type": "markdown",
      "metadata": {
        "id": "bw7AIPlkdljw"
      },
      "source": [
        "## Filled missing values using interpolate and checking if there is any missing values"
      ]
    },
    {
      "cell_type": "code",
      "metadata": {
        "id": "E7heesLjaq8B",
        "colab": {
          "base_uri": "https://localhost:8080/"
        },
        "outputId": "87d9217a-d8e7-4a55-ef84-ded6b1fc32da"
      },
      "source": [
        "data_hyderabad.isnull().sum()"
      ],
      "execution_count": 20,
      "outputs": [
        {
          "output_type": "execute_result",
          "data": {
            "text/plain": [
              "year        0\n",
              "city        0\n",
              "country     0\n",
              "avg_temp    0\n",
              "dtype: int64"
            ]
          },
          "metadata": {
            "tags": []
          },
          "execution_count": 20
        }
      ]
    },
    {
      "cell_type": "code",
      "metadata": {
        "colab": {
          "base_uri": "https://localhost:8080/",
          "height": 419
        },
        "id": "TU-OHG1Pdum0",
        "outputId": "fefdfa91-e57f-4083-aaa2-15b65dd5b6a0"
      },
      "source": [
        "check_data = data_hyderabad.copy()\n",
        "check_data['moving_avg'] = np.nan\n",
        "check_data"
      ],
      "execution_count": 99,
      "outputs": [
        {
          "output_type": "execute_result",
          "data": {
            "text/html": [
              "<div>\n",
              "<style scoped>\n",
              "    .dataframe tbody tr th:only-of-type {\n",
              "        vertical-align: middle;\n",
              "    }\n",
              "\n",
              "    .dataframe tbody tr th {\n",
              "        vertical-align: top;\n",
              "    }\n",
              "\n",
              "    .dataframe thead th {\n",
              "        text-align: right;\n",
              "    }\n",
              "</style>\n",
              "<table border=\"1\" class=\"dataframe\">\n",
              "  <thead>\n",
              "    <tr style=\"text-align: right;\">\n",
              "      <th></th>\n",
              "      <th>year</th>\n",
              "      <th>city</th>\n",
              "      <th>country</th>\n",
              "      <th>avg_temp</th>\n",
              "      <th>moving_avg</th>\n",
              "    </tr>\n",
              "  </thead>\n",
              "  <tbody>\n",
              "    <tr>\n",
              "      <th>26146</th>\n",
              "      <td>1796</td>\n",
              "      <td>Hyderabad</td>\n",
              "      <td>India</td>\n",
              "      <td>26.53</td>\n",
              "      <td>NaN</td>\n",
              "    </tr>\n",
              "    <tr>\n",
              "      <th>26147</th>\n",
              "      <td>1797</td>\n",
              "      <td>Hyderabad</td>\n",
              "      <td>India</td>\n",
              "      <td>27.48</td>\n",
              "      <td>NaN</td>\n",
              "    </tr>\n",
              "    <tr>\n",
              "      <th>26148</th>\n",
              "      <td>1798</td>\n",
              "      <td>Hyderabad</td>\n",
              "      <td>India</td>\n",
              "      <td>26.20</td>\n",
              "      <td>NaN</td>\n",
              "    </tr>\n",
              "    <tr>\n",
              "      <th>26149</th>\n",
              "      <td>1799</td>\n",
              "      <td>Hyderabad</td>\n",
              "      <td>India</td>\n",
              "      <td>26.84</td>\n",
              "      <td>NaN</td>\n",
              "    </tr>\n",
              "    <tr>\n",
              "      <th>26150</th>\n",
              "      <td>1800</td>\n",
              "      <td>Hyderabad</td>\n",
              "      <td>India</td>\n",
              "      <td>26.88</td>\n",
              "      <td>NaN</td>\n",
              "    </tr>\n",
              "    <tr>\n",
              "      <th>...</th>\n",
              "      <td>...</td>\n",
              "      <td>...</td>\n",
              "      <td>...</td>\n",
              "      <td>...</td>\n",
              "      <td>...</td>\n",
              "    </tr>\n",
              "    <tr>\n",
              "      <th>26359</th>\n",
              "      <td>2009</td>\n",
              "      <td>Hyderabad</td>\n",
              "      <td>India</td>\n",
              "      <td>28.03</td>\n",
              "      <td>NaN</td>\n",
              "    </tr>\n",
              "    <tr>\n",
              "      <th>26360</th>\n",
              "      <td>2010</td>\n",
              "      <td>Hyderabad</td>\n",
              "      <td>India</td>\n",
              "      <td>27.69</td>\n",
              "      <td>NaN</td>\n",
              "    </tr>\n",
              "    <tr>\n",
              "      <th>26361</th>\n",
              "      <td>2011</td>\n",
              "      <td>Hyderabad</td>\n",
              "      <td>India</td>\n",
              "      <td>27.41</td>\n",
              "      <td>NaN</td>\n",
              "    </tr>\n",
              "    <tr>\n",
              "      <th>26362</th>\n",
              "      <td>2012</td>\n",
              "      <td>Hyderabad</td>\n",
              "      <td>India</td>\n",
              "      <td>28.02</td>\n",
              "      <td>NaN</td>\n",
              "    </tr>\n",
              "    <tr>\n",
              "      <th>26363</th>\n",
              "      <td>2013</td>\n",
              "      <td>Hyderabad</td>\n",
              "      <td>India</td>\n",
              "      <td>28.85</td>\n",
              "      <td>NaN</td>\n",
              "    </tr>\n",
              "  </tbody>\n",
              "</table>\n",
              "<p>218 rows × 5 columns</p>\n",
              "</div>"
            ],
            "text/plain": [
              "       year       city country  avg_temp  moving_avg\n",
              "26146  1796  Hyderabad   India     26.53         NaN\n",
              "26147  1797  Hyderabad   India     27.48         NaN\n",
              "26148  1798  Hyderabad   India     26.20         NaN\n",
              "26149  1799  Hyderabad   India     26.84         NaN\n",
              "26150  1800  Hyderabad   India     26.88         NaN\n",
              "...     ...        ...     ...       ...         ...\n",
              "26359  2009  Hyderabad   India     28.03         NaN\n",
              "26360  2010  Hyderabad   India     27.69         NaN\n",
              "26361  2011  Hyderabad   India     27.41         NaN\n",
              "26362  2012  Hyderabad   India     28.02         NaN\n",
              "26363  2013  Hyderabad   India     28.85         NaN\n",
              "\n",
              "[218 rows x 5 columns]"
            ]
          },
          "metadata": {
            "tags": []
          },
          "execution_count": 99
        }
      ]
    },
    {
      "cell_type": "code",
      "metadata": {
        "colab": {
          "base_uri": "https://localhost:8080/",
          "height": 524
        },
        "id": "EYHi6e5ZjiZB",
        "outputId": "a0519432-98c0-4674-efbb-32e95f2864ad"
      },
      "source": [
        "new = check_data['moving_avg']\n",
        "prev = check_data['avg_temp']\n",
        "rows = check_data.shape[0]\n",
        "\n",
        "window_size = 25\n",
        "for i in range(rows - window_size + 1):\n",
        "  calc_running_avg = 0\n",
        "  for j in range(i, i + window_size):\n",
        "    calc_running_avg += prev.iloc[j]\n",
        "  new.iloc[i + window_size - 1] = calc_running_avg/window_size\n",
        "check_data"
      ],
      "execution_count": 100,
      "outputs": [
        {
          "output_type": "stream",
          "text": [
            "/usr/local/lib/python3.7/dist-packages/pandas/core/indexing.py:670: SettingWithCopyWarning: \n",
            "A value is trying to be set on a copy of a slice from a DataFrame\n",
            "\n",
            "See the caveats in the documentation: https://pandas.pydata.org/pandas-docs/stable/user_guide/indexing.html#returning-a-view-versus-a-copy\n",
            "  iloc._setitem_with_indexer(indexer, value)\n"
          ],
          "name": "stderr"
        },
        {
          "output_type": "execute_result",
          "data": {
            "text/html": [
              "<div>\n",
              "<style scoped>\n",
              "    .dataframe tbody tr th:only-of-type {\n",
              "        vertical-align: middle;\n",
              "    }\n",
              "\n",
              "    .dataframe tbody tr th {\n",
              "        vertical-align: top;\n",
              "    }\n",
              "\n",
              "    .dataframe thead th {\n",
              "        text-align: right;\n",
              "    }\n",
              "</style>\n",
              "<table border=\"1\" class=\"dataframe\">\n",
              "  <thead>\n",
              "    <tr style=\"text-align: right;\">\n",
              "      <th></th>\n",
              "      <th>year</th>\n",
              "      <th>city</th>\n",
              "      <th>country</th>\n",
              "      <th>avg_temp</th>\n",
              "      <th>moving_avg</th>\n",
              "    </tr>\n",
              "  </thead>\n",
              "  <tbody>\n",
              "    <tr>\n",
              "      <th>26146</th>\n",
              "      <td>1796</td>\n",
              "      <td>Hyderabad</td>\n",
              "      <td>India</td>\n",
              "      <td>26.53</td>\n",
              "      <td>NaN</td>\n",
              "    </tr>\n",
              "    <tr>\n",
              "      <th>26147</th>\n",
              "      <td>1797</td>\n",
              "      <td>Hyderabad</td>\n",
              "      <td>India</td>\n",
              "      <td>27.48</td>\n",
              "      <td>NaN</td>\n",
              "    </tr>\n",
              "    <tr>\n",
              "      <th>26148</th>\n",
              "      <td>1798</td>\n",
              "      <td>Hyderabad</td>\n",
              "      <td>India</td>\n",
              "      <td>26.20</td>\n",
              "      <td>NaN</td>\n",
              "    </tr>\n",
              "    <tr>\n",
              "      <th>26149</th>\n",
              "      <td>1799</td>\n",
              "      <td>Hyderabad</td>\n",
              "      <td>India</td>\n",
              "      <td>26.84</td>\n",
              "      <td>NaN</td>\n",
              "    </tr>\n",
              "    <tr>\n",
              "      <th>26150</th>\n",
              "      <td>1800</td>\n",
              "      <td>Hyderabad</td>\n",
              "      <td>India</td>\n",
              "      <td>26.88</td>\n",
              "      <td>NaN</td>\n",
              "    </tr>\n",
              "    <tr>\n",
              "      <th>...</th>\n",
              "      <td>...</td>\n",
              "      <td>...</td>\n",
              "      <td>...</td>\n",
              "      <td>...</td>\n",
              "      <td>...</td>\n",
              "    </tr>\n",
              "    <tr>\n",
              "      <th>26359</th>\n",
              "      <td>2009</td>\n",
              "      <td>Hyderabad</td>\n",
              "      <td>India</td>\n",
              "      <td>28.03</td>\n",
              "      <td>27.4312</td>\n",
              "    </tr>\n",
              "    <tr>\n",
              "      <th>26360</th>\n",
              "      <td>2010</td>\n",
              "      <td>Hyderabad</td>\n",
              "      <td>India</td>\n",
              "      <td>27.69</td>\n",
              "      <td>27.4384</td>\n",
              "    </tr>\n",
              "    <tr>\n",
              "      <th>26361</th>\n",
              "      <td>2011</td>\n",
              "      <td>Hyderabad</td>\n",
              "      <td>India</td>\n",
              "      <td>27.41</td>\n",
              "      <td>27.4264</td>\n",
              "    </tr>\n",
              "    <tr>\n",
              "      <th>26362</th>\n",
              "      <td>2012</td>\n",
              "      <td>Hyderabad</td>\n",
              "      <td>India</td>\n",
              "      <td>28.02</td>\n",
              "      <td>27.4456</td>\n",
              "    </tr>\n",
              "    <tr>\n",
              "      <th>26363</th>\n",
              "      <td>2013</td>\n",
              "      <td>Hyderabad</td>\n",
              "      <td>India</td>\n",
              "      <td>28.85</td>\n",
              "      <td>27.5020</td>\n",
              "    </tr>\n",
              "  </tbody>\n",
              "</table>\n",
              "<p>218 rows × 5 columns</p>\n",
              "</div>"
            ],
            "text/plain": [
              "       year       city country  avg_temp  moving_avg\n",
              "26146  1796  Hyderabad   India     26.53         NaN\n",
              "26147  1797  Hyderabad   India     27.48         NaN\n",
              "26148  1798  Hyderabad   India     26.20         NaN\n",
              "26149  1799  Hyderabad   India     26.84         NaN\n",
              "26150  1800  Hyderabad   India     26.88         NaN\n",
              "...     ...        ...     ...       ...         ...\n",
              "26359  2009  Hyderabad   India     28.03     27.4312\n",
              "26360  2010  Hyderabad   India     27.69     27.4384\n",
              "26361  2011  Hyderabad   India     27.41     27.4264\n",
              "26362  2012  Hyderabad   India     28.02     27.4456\n",
              "26363  2013  Hyderabad   India     28.85     27.5020\n",
              "\n",
              "[218 rows x 5 columns]"
            ]
          },
          "metadata": {
            "tags": []
          },
          "execution_count": 100
        }
      ]
    },
    {
      "cell_type": "code",
      "metadata": {
        "colab": {
          "base_uri": "https://localhost:8080/",
          "height": 279
        },
        "id": "vJjq-sgeuKc8",
        "outputId": "6256da08-8d10-4085-9cd3-e0c648a7995a"
      },
      "source": [
        "x_data_3 = check_data['year']\n",
        "y_data_3 = check_data['moving_avg']\n",
        "\n",
        "sns.lineplot(x=x_data_3,y=y_data_3,data=check_data)\n",
        "plt.show()"
      ],
      "execution_count": 101,
      "outputs": [
        {
          "output_type": "display_data",
          "data": {
            "image/png": "[encoded data removed]",
            "text/plain": [
              "<Figure size 432x288 with 1 Axes>"
            ]
          },
          "metadata": {
            "tags": [],
            "needs_background": "light"
          }
        }
      ]
    },
    {
      "cell_type": "code",
      "metadata": {
        "colab": {
          "base_uri": "https://localhost:8080/",
          "height": 1000
        },
        "id": "J9xsGXAUwKSL",
        "outputId": "5ee08e70-5ada-425b-ab6b-76707e17674c"
      },
      "source": [
        "check_data['MA_window_size'] = check_data['avg_temp'].rolling(window=50).mean()\n",
        "check_data.head(40)"
      ],
      "execution_count": 107,
      "outputs": [
        {
          "output_type": "execute_result",
          "data": {
            "text/html": [
              "<div>\n",
              "<style scoped>\n",
              "    .dataframe tbody tr th:only-of-type {\n",
              "        vertical-align: middle;\n",
              "    }\n",
              "\n",
              "    .dataframe tbody tr th {\n",
              "        vertical-align: top;\n",
              "    }\n",
              "\n",
              "    .dataframe thead th {\n",
              "        text-align: right;\n",
              "    }\n",
              "</style>\n",
              "<table border=\"1\" class=\"dataframe\">\n",
              "  <thead>\n",
              "    <tr style=\"text-align: right;\">\n",
              "      <th></th>\n",
              "      <th>year</th>\n",
              "      <th>city</th>\n",
              "      <th>country</th>\n",
              "      <th>avg_temp</th>\n",
              "      <th>moving_avg</th>\n",
              "      <th>MA_window_size</th>\n",
              "    </tr>\n",
              "  </thead>\n",
              "  <tbody>\n",
              "    <tr>\n",
              "      <th>26146</th>\n",
              "      <td>1796</td>\n",
              "      <td>Hyderabad</td>\n",
              "      <td>India</td>\n",
              "      <td>26.530000</td>\n",
              "      <td>NaN</td>\n",
              "      <td>NaN</td>\n",
              "    </tr>\n",
              "    <tr>\n",
              "      <th>26147</th>\n",
              "      <td>1797</td>\n",
              "      <td>Hyderabad</td>\n",
              "      <td>India</td>\n",
              "      <td>27.480000</td>\n",
              "      <td>NaN</td>\n",
              "      <td>NaN</td>\n",
              "    </tr>\n",
              "    <tr>\n",
              "      <th>26148</th>\n",
              "      <td>1798</td>\n",
              "      <td>Hyderabad</td>\n",
              "      <td>India</td>\n",
              "      <td>26.200000</td>\n",
              "      <td>NaN</td>\n",
              "      <td>NaN</td>\n",
              "    </tr>\n",
              "    <tr>\n",
              "      <th>26149</th>\n",
              "      <td>1799</td>\n",
              "      <td>Hyderabad</td>\n",
              "      <td>India</td>\n",
              "      <td>26.840000</td>\n",
              "      <td>NaN</td>\n",
              "      <td>NaN</td>\n",
              "    </tr>\n",
              "    <tr>\n",
              "      <th>26150</th>\n",
              "      <td>1800</td>\n",
              "      <td>Hyderabad</td>\n",
              "      <td>India</td>\n",
              "      <td>26.880000</td>\n",
              "      <td>NaN</td>\n",
              "      <td>NaN</td>\n",
              "    </tr>\n",
              "    <tr>\n",
              "      <th>26151</th>\n",
              "      <td>1801</td>\n",
              "      <td>Hyderabad</td>\n",
              "      <td>India</td>\n",
              "      <td>26.050000</td>\n",
              "      <td>NaN</td>\n",
              "      <td>NaN</td>\n",
              "    </tr>\n",
              "    <tr>\n",
              "      <th>26152</th>\n",
              "      <td>1802</td>\n",
              "      <td>Hyderabad</td>\n",
              "      <td>India</td>\n",
              "      <td>27.440000</td>\n",
              "      <td>NaN</td>\n",
              "      <td>NaN</td>\n",
              "    </tr>\n",
              "    <tr>\n",
              "      <th>26153</th>\n",
              "      <td>1803</td>\n",
              "      <td>Hyderabad</td>\n",
              "      <td>India</td>\n",
              "      <td>27.220000</td>\n",
              "      <td>NaN</td>\n",
              "      <td>NaN</td>\n",
              "    </tr>\n",
              "    <tr>\n",
              "      <th>26154</th>\n",
              "      <td>1804</td>\n",
              "      <td>Hyderabad</td>\n",
              "      <td>India</td>\n",
              "      <td>27.650000</td>\n",
              "      <td>NaN</td>\n",
              "      <td>NaN</td>\n",
              "    </tr>\n",
              "    <tr>\n",
              "      <th>26155</th>\n",
              "      <td>1805</td>\n",
              "      <td>Hyderabad</td>\n",
              "      <td>India</td>\n",
              "      <td>27.020000</td>\n",
              "      <td>NaN</td>\n",
              "      <td>NaN</td>\n",
              "    </tr>\n",
              "    <tr>\n",
              "      <th>26156</th>\n",
              "      <td>1806</td>\n",
              "      <td>Hyderabad</td>\n",
              "      <td>India</td>\n",
              "      <td>26.890000</td>\n",
              "      <td>NaN</td>\n",
              "      <td>NaN</td>\n",
              "    </tr>\n",
              "    <tr>\n",
              "      <th>26157</th>\n",
              "      <td>1807</td>\n",
              "      <td>Hyderabad</td>\n",
              "      <td>India</td>\n",
              "      <td>26.150000</td>\n",
              "      <td>NaN</td>\n",
              "      <td>NaN</td>\n",
              "    </tr>\n",
              "    <tr>\n",
              "      <th>26158</th>\n",
              "      <td>1808</td>\n",
              "      <td>Hyderabad</td>\n",
              "      <td>India</td>\n",
              "      <td>26.166667</td>\n",
              "      <td>NaN</td>\n",
              "      <td>NaN</td>\n",
              "    </tr>\n",
              "    <tr>\n",
              "      <th>26159</th>\n",
              "      <td>1809</td>\n",
              "      <td>Hyderabad</td>\n",
              "      <td>India</td>\n",
              "      <td>26.183333</td>\n",
              "      <td>NaN</td>\n",
              "      <td>NaN</td>\n",
              "    </tr>\n",
              "    <tr>\n",
              "      <th>26160</th>\n",
              "      <td>1810</td>\n",
              "      <td>Hyderabad</td>\n",
              "      <td>India</td>\n",
              "      <td>26.200000</td>\n",
              "      <td>NaN</td>\n",
              "      <td>NaN</td>\n",
              "    </tr>\n",
              "    <tr>\n",
              "      <th>26161</th>\n",
              "      <td>1811</td>\n",
              "      <td>Hyderabad</td>\n",
              "      <td>India</td>\n",
              "      <td>26.216667</td>\n",
              "      <td>NaN</td>\n",
              "      <td>NaN</td>\n",
              "    </tr>\n",
              "    <tr>\n",
              "      <th>26162</th>\n",
              "      <td>1812</td>\n",
              "      <td>Hyderabad</td>\n",
              "      <td>India</td>\n",
              "      <td>26.233333</td>\n",
              "      <td>NaN</td>\n",
              "      <td>NaN</td>\n",
              "    </tr>\n",
              "    <tr>\n",
              "      <th>26163</th>\n",
              "      <td>1813</td>\n",
              "      <td>Hyderabad</td>\n",
              "      <td>India</td>\n",
              "      <td>26.250000</td>\n",
              "      <td>NaN</td>\n",
              "      <td>NaN</td>\n",
              "    </tr>\n",
              "    <tr>\n",
              "      <th>26164</th>\n",
              "      <td>1814</td>\n",
              "      <td>Hyderabad</td>\n",
              "      <td>India</td>\n",
              "      <td>25.650000</td>\n",
              "      <td>NaN</td>\n",
              "      <td>NaN</td>\n",
              "    </tr>\n",
              "    <tr>\n",
              "      <th>26165</th>\n",
              "      <td>1815</td>\n",
              "      <td>Hyderabad</td>\n",
              "      <td>India</td>\n",
              "      <td>25.800000</td>\n",
              "      <td>NaN</td>\n",
              "      <td>NaN</td>\n",
              "    </tr>\n",
              "    <tr>\n",
              "      <th>26166</th>\n",
              "      <td>1816</td>\n",
              "      <td>Hyderabad</td>\n",
              "      <td>India</td>\n",
              "      <td>25.380000</td>\n",
              "      <td>NaN</td>\n",
              "      <td>NaN</td>\n",
              "    </tr>\n",
              "    <tr>\n",
              "      <th>26167</th>\n",
              "      <td>1817</td>\n",
              "      <td>Hyderabad</td>\n",
              "      <td>India</td>\n",
              "      <td>25.610000</td>\n",
              "      <td>NaN</td>\n",
              "      <td>NaN</td>\n",
              "    </tr>\n",
              "    <tr>\n",
              "      <th>26168</th>\n",
              "      <td>1818</td>\n",
              "      <td>Hyderabad</td>\n",
              "      <td>India</td>\n",
              "      <td>25.830000</td>\n",
              "      <td>NaN</td>\n",
              "      <td>NaN</td>\n",
              "    </tr>\n",
              "    <tr>\n",
              "      <th>26169</th>\n",
              "      <td>1819</td>\n",
              "      <td>Hyderabad</td>\n",
              "      <td>India</td>\n",
              "      <td>25.780000</td>\n",
              "      <td>NaN</td>\n",
              "      <td>NaN</td>\n",
              "    </tr>\n",
              "    <tr>\n",
              "      <th>26170</th>\n",
              "      <td>1820</td>\n",
              "      <td>Hyderabad</td>\n",
              "      <td>India</td>\n",
              "      <td>25.880000</td>\n",
              "      <td>26.381200</td>\n",
              "      <td>NaN</td>\n",
              "    </tr>\n",
              "    <tr>\n",
              "      <th>26171</th>\n",
              "      <td>1821</td>\n",
              "      <td>Hyderabad</td>\n",
              "      <td>India</td>\n",
              "      <td>26.450000</td>\n",
              "      <td>26.378000</td>\n",
              "      <td>NaN</td>\n",
              "    </tr>\n",
              "    <tr>\n",
              "      <th>26172</th>\n",
              "      <td>1822</td>\n",
              "      <td>Hyderabad</td>\n",
              "      <td>India</td>\n",
              "      <td>26.430000</td>\n",
              "      <td>26.336000</td>\n",
              "      <td>NaN</td>\n",
              "    </tr>\n",
              "    <tr>\n",
              "      <th>26173</th>\n",
              "      <td>1823</td>\n",
              "      <td>Hyderabad</td>\n",
              "      <td>India</td>\n",
              "      <td>26.650000</td>\n",
              "      <td>26.354000</td>\n",
              "      <td>NaN</td>\n",
              "    </tr>\n",
              "    <tr>\n",
              "      <th>26174</th>\n",
              "      <td>1824</td>\n",
              "      <td>Hyderabad</td>\n",
              "      <td>India</td>\n",
              "      <td>27.100000</td>\n",
              "      <td>26.364400</td>\n",
              "      <td>NaN</td>\n",
              "    </tr>\n",
              "    <tr>\n",
              "      <th>26175</th>\n",
              "      <td>1825</td>\n",
              "      <td>Hyderabad</td>\n",
              "      <td>India</td>\n",
              "      <td>26.720000</td>\n",
              "      <td>26.358000</td>\n",
              "      <td>NaN</td>\n",
              "    </tr>\n",
              "    <tr>\n",
              "      <th>26176</th>\n",
              "      <td>1826</td>\n",
              "      <td>Hyderabad</td>\n",
              "      <td>India</td>\n",
              "      <td>26.890000</td>\n",
              "      <td>26.391600</td>\n",
              "      <td>NaN</td>\n",
              "    </tr>\n",
              "    <tr>\n",
              "      <th>26177</th>\n",
              "      <td>1827</td>\n",
              "      <td>Hyderabad</td>\n",
              "      <td>India</td>\n",
              "      <td>26.730000</td>\n",
              "      <td>26.363200</td>\n",
              "      <td>NaN</td>\n",
              "    </tr>\n",
              "    <tr>\n",
              "      <th>26178</th>\n",
              "      <td>1828</td>\n",
              "      <td>Hyderabad</td>\n",
              "      <td>India</td>\n",
              "      <td>26.630000</td>\n",
              "      <td>26.339600</td>\n",
              "      <td>NaN</td>\n",
              "    </tr>\n",
              "    <tr>\n",
              "      <th>26179</th>\n",
              "      <td>1829</td>\n",
              "      <td>Hyderabad</td>\n",
              "      <td>India</td>\n",
              "      <td>26.470000</td>\n",
              "      <td>26.292400</td>\n",
              "      <td>NaN</td>\n",
              "    </tr>\n",
              "    <tr>\n",
              "      <th>26180</th>\n",
              "      <td>1830</td>\n",
              "      <td>Hyderabad</td>\n",
              "      <td>India</td>\n",
              "      <td>26.450000</td>\n",
              "      <td>26.269600</td>\n",
              "      <td>NaN</td>\n",
              "    </tr>\n",
              "    <tr>\n",
              "      <th>26181</th>\n",
              "      <td>1831</td>\n",
              "      <td>Hyderabad</td>\n",
              "      <td>India</td>\n",
              "      <td>26.410000</td>\n",
              "      <td>26.250400</td>\n",
              "      <td>NaN</td>\n",
              "    </tr>\n",
              "    <tr>\n",
              "      <th>26182</th>\n",
              "      <td>1832</td>\n",
              "      <td>Hyderabad</td>\n",
              "      <td>India</td>\n",
              "      <td>26.630000</td>\n",
              "      <td>26.269600</td>\n",
              "      <td>NaN</td>\n",
              "    </tr>\n",
              "    <tr>\n",
              "      <th>26183</th>\n",
              "      <td>1833</td>\n",
              "      <td>Hyderabad</td>\n",
              "      <td>India</td>\n",
              "      <td>26.500000</td>\n",
              "      <td>26.282933</td>\n",
              "      <td>NaN</td>\n",
              "    </tr>\n",
              "    <tr>\n",
              "      <th>26184</th>\n",
              "      <td>1834</td>\n",
              "      <td>Hyderabad</td>\n",
              "      <td>India</td>\n",
              "      <td>26.560000</td>\n",
              "      <td>26.298000</td>\n",
              "      <td>NaN</td>\n",
              "    </tr>\n",
              "    <tr>\n",
              "      <th>26185</th>\n",
              "      <td>1835</td>\n",
              "      <td>Hyderabad</td>\n",
              "      <td>India</td>\n",
              "      <td>25.800000</td>\n",
              "      <td>26.282000</td>\n",
              "      <td>NaN</td>\n",
              "    </tr>\n",
              "  </tbody>\n",
              "</table>\n",
              "</div>"
            ],
            "text/plain": [
              "       year       city country   avg_temp  moving_avg  MA_window_size\n",
              "26146  1796  Hyderabad   India  26.530000         NaN             NaN\n",
              "26147  1797  Hyderabad   India  27.480000         NaN             NaN\n",
              "26148  1798  Hyderabad   India  26.200000         NaN             NaN\n",
              "26149  1799  Hyderabad   India  26.840000         NaN             NaN\n",
              "26150  1800  Hyderabad   India  26.880000         NaN             NaN\n",
              "26151  1801  Hyderabad   India  26.050000         NaN             NaN\n",
              "26152  1802  Hyderabad   India  27.440000         NaN             NaN\n",
              "26153  1803  Hyderabad   India  27.220000         NaN             NaN\n",
              "26154  1804  Hyderabad   India  27.650000         NaN             NaN\n",
              "26155  1805  Hyderabad   India  27.020000         NaN             NaN\n",
              "26156  1806  Hyderabad   India  26.890000         NaN             NaN\n",
              "26157  1807  Hyderabad   India  26.150000         NaN             NaN\n",
              "26158  1808  Hyderabad   India  26.166667         NaN             NaN\n",
              "26159  1809  Hyderabad   India  26.183333         NaN             NaN\n",
              "26160  1810  Hyderabad   India  26.200000         NaN             NaN\n",
              "26161  1811  Hyderabad   India  26.216667         NaN             NaN\n",
              "26162  1812  Hyderabad   India  26.233333         NaN             NaN\n",
              "26163  1813  Hyderabad   India  26.250000         NaN             NaN\n",
              "26164  1814  Hyderabad   India  25.650000         NaN             NaN\n",
              "26165  1815  Hyderabad   India  25.800000         NaN             NaN\n",
              "26166  1816  Hyderabad   India  25.380000         NaN             NaN\n",
              "26167  1817  Hyderabad   India  25.610000         NaN             NaN\n",
              "26168  1818  Hyderabad   India  25.830000         NaN             NaN\n",
              "26169  1819  Hyderabad   India  25.780000         NaN             NaN\n",
              "26170  1820  Hyderabad   India  25.880000   26.381200             NaN\n",
              "26171  1821  Hyderabad   India  26.450000   26.378000             NaN\n",
              "26172  1822  Hyderabad   India  26.430000   26.336000             NaN\n",
              "26173  1823  Hyderabad   India  26.650000   26.354000             NaN\n",
              "26174  1824  Hyderabad   India  27.100000   26.364400             NaN\n",
              "26175  1825  Hyderabad   India  26.720000   26.358000             NaN\n",
              "26176  1826  Hyderabad   India  26.890000   26.391600             NaN\n",
              "26177  1827  Hyderabad   India  26.730000   26.363200             NaN\n",
              "26178  1828  Hyderabad   India  26.630000   26.339600             NaN\n",
              "26179  1829  Hyderabad   India  26.470000   26.292400             NaN\n",
              "26180  1830  Hyderabad   India  26.450000   26.269600             NaN\n",
              "26181  1831  Hyderabad   India  26.410000   26.250400             NaN\n",
              "26182  1832  Hyderabad   India  26.630000   26.269600             NaN\n",
              "26183  1833  Hyderabad   India  26.500000   26.282933             NaN\n",
              "26184  1834  Hyderabad   India  26.560000   26.298000             NaN\n",
              "26185  1835  Hyderabad   India  25.800000   26.282000             NaN"
            ]
          },
          "metadata": {
            "tags": []
          },
          "execution_count": 107
        }
      ]
    },
    {
      "cell_type": "code",
      "metadata": {
        "colab": {
          "base_uri": "https://localhost:8080/",
          "height": 279
        },
        "id": "1s1Nw6GT1s-L",
        "outputId": "df0ce1c9-5b72-45e4-eb7c-f33aa25abb8d"
      },
      "source": [
        "x_data_3 = check_data['year']\n",
        "y_data_3 = check_data['MA_window_size']\n",
        "\n",
        "sns.lineplot(x=x_data_3,y=y_data_3,data=check_data)\n",
        "plt.show()"
      ],
      "execution_count": 108,
      "outputs": [
        {
          "output_type": "display_data",
          "data": {
            "image/png": "[encoded data removed]",
            "text/plain": [
              "<Figure size 432x288 with 1 Axes>"
            ]
          },
          "metadata": {
            "tags": [],
            "needs_background": "light"
          }
        }
      ]
    }
  ]
}