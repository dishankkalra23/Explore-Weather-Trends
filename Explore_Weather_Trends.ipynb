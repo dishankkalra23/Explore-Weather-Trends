{
  "nbformat": 4,
  "nbformat_minor": 0,
  "metadata": {
    "colab": {
      "name": "Explore Weather Trends.ipynb",
      "provenance": [],
      "mount_file_id": "1rcMPu3GJSANGPH8jB8Kr19pZPRZcamiR",
      "authorship_tag": "ABX9TyM+ZfrIuDO+Jz9j29aCtN+n",
      "include_colab_link": true
    },
    "kernelspec": {
      "name": "python3",
      "display_name": "Python 3"
    },
    "language_info": {
      "name": "python"
    }
  },
  "cells": [
    {
      "cell_type": "markdown",
      "metadata": {
        "id": "view-in-github",
        "colab_type": "text"
      },
      "source": [
        "<a href=\"https://colab.research.google.com/github/dishankkalra23/Explore-Weather-Trends/blob/main/Explore_Weather_Trends.ipynb\" target=\"_parent\"><img src=\"https://colab.research.google.com/assets/colab-badge.svg\" alt=\"Open In Colab\"/></a>"
      ]
    },
    {
      "cell_type": "code",
      "metadata": {
        "id": "uR2qhjptgfnr"
      },
      "source": [
        "import pandas as pd\n",
        "import seaborn as sns\n",
        "import matplotlib.pyplot as plt"
      ],
      "execution_count": 39,
      "outputs": []
    },
    {
      "cell_type": "code",
      "metadata": {
        "colab": {
          "base_uri": "https://localhost:8080/"
        },
        "id": "V2L5akR4I8uA",
        "outputId": "5e61f115-e8e6-4495-944e-77ad80189908"
      },
      "source": [
        "city_data = pd.read_csv(\"/content/drive/MyDrive/Explore Weather Trends/city_data.csv\")\n",
        "city_data.shape"
      ],
      "execution_count": 40,
      "outputs": [
        {
          "output_type": "execute_result",
          "data": {
            "text/plain": [
              "(70792, 4)"
            ]
          },
          "metadata": {
            "tags": []
          },
          "execution_count": 40
        }
      ]
    },
    {
      "cell_type": "markdown",
      "metadata": {
        "id": "zwwEMFGQwOj_"
      },
      "source": [
        "# List of Cities in India"
      ]
    },
    {
      "cell_type": "code",
      "metadata": {
        "colab": {
          "base_uri": "https://localhost:8080/"
        },
        "id": "XS8GaFr9vXIH",
        "outputId": "3651df34-d90c-4238-e9b5-5b95d7e46a5f"
      },
      "source": [
        "Indian_cities = city_data[city_data['country']=='India']['city'].unique()\n",
        "Indian_cities"
      ],
      "execution_count": 41,
      "outputs": [
        {
          "output_type": "execute_result",
          "data": {
            "text/plain": [
              "array(['Agra', 'Ahmadabad', 'Allahabad', 'Amritsar', 'Bangalore',\n",
              "       'Bhopal', 'Delhi', 'Haora', 'Hyderabad', 'Indore', 'Jaipur',\n",
              "       'Kanpur', 'Ludhiana', 'Nagpur', 'New Delhi', 'Patna', 'Pune',\n",
              "       'Rajkot', 'Ranchi', 'Surat', 'Vadodara', 'Varanasi'], dtype=object)"
            ]
          },
          "metadata": {
            "tags": []
          },
          "execution_count": 41
        }
      ]
    },
    {
      "cell_type": "markdown",
      "metadata": {
        "id": "EmjuDPsbwuBp"
      },
      "source": [
        "## Number of Indian Cities"
      ]
    },
    {
      "cell_type": "code",
      "metadata": {
        "colab": {
          "base_uri": "https://localhost:8080/"
        },
        "id": "-Dx6hy8mwqWL",
        "outputId": "d5361661-1a81-4419-c79a-51a33f9c4ac6"
      },
      "source": [
        "len(Indian_cities)"
      ],
      "execution_count": 42,
      "outputs": [
        {
          "output_type": "execute_result",
          "data": {
            "text/plain": [
              "22"
            ]
          },
          "metadata": {
            "tags": []
          },
          "execution_count": 42
        }
      ]
    },
    {
      "cell_type": "markdown",
      "metadata": {
        "id": "M13jX2fiw0xJ"
      },
      "source": [
        "# Indian city choosen: Hyderabad\n",
        "\n"
      ]
    },
    {
      "cell_type": "markdown",
      "metadata": {
        "id": "4yHW-SVsxBQf"
      },
      "source": [
        "## Number of rows in Hyderabad's data\n",
        "Note - There are two cities with name as Hyderabad, one in India and other in Pakistan "
      ]
    },
    {
      "cell_type": "code",
      "metadata": {
        "colab": {
          "base_uri": "https://localhost:8080/"
        },
        "id": "7sEHBaufvxc-",
        "outputId": "b5bcd38f-391b-4829-d37c-a8a4e2afce84"
      },
      "source": [
        "data_hyderabad = city_data[(city_data['country']=='India') & (city_data['city']=='Hyderabad')]\n",
        "data_hyderabad.shape[0]"
      ],
      "execution_count": 43,
      "outputs": [
        {
          "output_type": "execute_result",
          "data": {
            "text/plain": [
              "218"
            ]
          },
          "metadata": {
            "tags": []
          },
          "execution_count": 43
        }
      ]
    },
    {
      "cell_type": "markdown",
      "metadata": {
        "id": "FMrPHYbvLlaf"
      },
      "source": [
        "# Handling Missing values"
      ]
    },
    {
      "cell_type": "code",
      "metadata": {
        "id": "wW0LLsHvxc97",
        "colab": {
          "base_uri": "https://localhost:8080/",
          "height": 419
        },
        "outputId": "1d167695-7077-425a-bd1e-a8bdebbba11c"
      },
      "source": [
        "data_hyderabad"
      ],
      "execution_count": 56,
      "outputs": [
        {
          "output_type": "execute_result",
          "data": {
            "text/html": [
              "<div>\n",
              "<style scoped>\n",
              "    .dataframe tbody tr th:only-of-type {\n",
              "        vertical-align: middle;\n",
              "    }\n",
              "\n",
              "    .dataframe tbody tr th {\n",
              "        vertical-align: top;\n",
              "    }\n",
              "\n",
              "    .dataframe thead th {\n",
              "        text-align: right;\n",
              "    }\n",
              "</style>\n",
              "<table border=\"1\" class=\"dataframe\">\n",
              "  <thead>\n",
              "    <tr style=\"text-align: right;\">\n",
              "      <th></th>\n",
              "      <th>year</th>\n",
              "      <th>city</th>\n",
              "      <th>country</th>\n",
              "      <th>avg_temp</th>\n",
              "    </tr>\n",
              "  </thead>\n",
              "  <tbody>\n",
              "    <tr>\n",
              "      <th>26146</th>\n",
              "      <td>1796</td>\n",
              "      <td>Hyderabad</td>\n",
              "      <td>India</td>\n",
              "      <td>26.53</td>\n",
              "    </tr>\n",
              "    <tr>\n",
              "      <th>26147</th>\n",
              "      <td>1797</td>\n",
              "      <td>Hyderabad</td>\n",
              "      <td>India</td>\n",
              "      <td>27.48</td>\n",
              "    </tr>\n",
              "    <tr>\n",
              "      <th>26148</th>\n",
              "      <td>1798</td>\n",
              "      <td>Hyderabad</td>\n",
              "      <td>India</td>\n",
              "      <td>26.20</td>\n",
              "    </tr>\n",
              "    <tr>\n",
              "      <th>26149</th>\n",
              "      <td>1799</td>\n",
              "      <td>Hyderabad</td>\n",
              "      <td>India</td>\n",
              "      <td>26.84</td>\n",
              "    </tr>\n",
              "    <tr>\n",
              "      <th>26150</th>\n",
              "      <td>1800</td>\n",
              "      <td>Hyderabad</td>\n",
              "      <td>India</td>\n",
              "      <td>26.88</td>\n",
              "    </tr>\n",
              "    <tr>\n",
              "      <th>...</th>\n",
              "      <td>...</td>\n",
              "      <td>...</td>\n",
              "      <td>...</td>\n",
              "      <td>...</td>\n",
              "    </tr>\n",
              "    <tr>\n",
              "      <th>26359</th>\n",
              "      <td>2009</td>\n",
              "      <td>Hyderabad</td>\n",
              "      <td>India</td>\n",
              "      <td>28.03</td>\n",
              "    </tr>\n",
              "    <tr>\n",
              "      <th>26360</th>\n",
              "      <td>2010</td>\n",
              "      <td>Hyderabad</td>\n",
              "      <td>India</td>\n",
              "      <td>27.69</td>\n",
              "    </tr>\n",
              "    <tr>\n",
              "      <th>26361</th>\n",
              "      <td>2011</td>\n",
              "      <td>Hyderabad</td>\n",
              "      <td>India</td>\n",
              "      <td>27.41</td>\n",
              "    </tr>\n",
              "    <tr>\n",
              "      <th>26362</th>\n",
              "      <td>2012</td>\n",
              "      <td>Hyderabad</td>\n",
              "      <td>India</td>\n",
              "      <td>28.02</td>\n",
              "    </tr>\n",
              "    <tr>\n",
              "      <th>26363</th>\n",
              "      <td>2013</td>\n",
              "      <td>Hyderabad</td>\n",
              "      <td>India</td>\n",
              "      <td>28.85</td>\n",
              "    </tr>\n",
              "  </tbody>\n",
              "</table>\n",
              "<p>218 rows × 4 columns</p>\n",
              "</div>"
            ],
            "text/plain": [
              "       year       city country  avg_temp\n",
              "26146  1796  Hyderabad   India     26.53\n",
              "26147  1797  Hyderabad   India     27.48\n",
              "26148  1798  Hyderabad   India     26.20\n",
              "26149  1799  Hyderabad   India     26.84\n",
              "26150  1800  Hyderabad   India     26.88\n",
              "...     ...        ...     ...       ...\n",
              "26359  2009  Hyderabad   India     28.03\n",
              "26360  2010  Hyderabad   India     27.69\n",
              "26361  2011  Hyderabad   India     27.41\n",
              "26362  2012  Hyderabad   India     28.02\n",
              "26363  2013  Hyderabad   India     28.85\n",
              "\n",
              "[218 rows x 4 columns]"
            ]
          },
          "metadata": {
            "tags": []
          },
          "execution_count": 56
        }
      ]
    },
    {
      "cell_type": "markdown",
      "metadata": {
        "id": "0I1y-aDuW9Vr"
      },
      "source": [
        "## Note: Only column-4(avg_temp) has null values"
      ]
    },
    {
      "cell_type": "code",
      "metadata": {
        "colab": {
          "base_uri": "https://localhost:8080/"
        },
        "id": "vr5AE9aTWzg4",
        "outputId": "c69a7bbe-b0f2-4931-b360-96b7d3d35cf3"
      },
      "source": [
        "data_hyderabad.isnull().sum()"
      ],
      "execution_count": 64,
      "outputs": [
        {
          "output_type": "execute_result",
          "data": {
            "text/plain": [
              "year        0\n",
              "city        0\n",
              "country     0\n",
              "avg_temp    7\n",
              "dtype: int64"
            ]
          },
          "metadata": {
            "tags": []
          },
          "execution_count": 64
        }
      ]
    },
    {
      "cell_type": "code",
      "metadata": {
        "colab": {
          "base_uri": "https://localhost:8080/",
          "height": 297
        },
        "id": "NLwrPGNRHMg4",
        "outputId": "6b8d724b-94fe-4517-f148-46512e4ce7e8"
      },
      "source": [
        "x_data = data_hyderabad['year']\n",
        "y_data = data_hyderabad['avg_temp']\n",
        "\n",
        "sns.lineplot(x=x_data,y=y_data,data=data_hyderabad)"
      ],
      "execution_count": 67,
      "outputs": [
        {
          "output_type": "execute_result",
          "data": {
            "text/plain": [
              "<matplotlib.axes._subplots.AxesSubplot at 0x7f40aae229d0>"
            ]
          },
          "metadata": {
            "tags": []
          },
          "execution_count": 67
        },
        {
          "output_type": "display_data",
          "data": {
            "image/png": "[encoded data removed]",
            "text/plain": [
              "<Figure size 432x288 with 1 Axes>"
            ]
          },
          "metadata": {
            "tags": [],
            "needs_background": "light"
          }
        }
      ]
    },
    {
      "cell_type": "markdown",
      "metadata": {
        "id": "dOTvlgsUUtEM"
      },
      "source": [
        "## Filling missing values with mean value of column(avg_temp)"
      ]
    },
    {
      "cell_type": "code",
      "metadata": {
        "colab": {
          "base_uri": "https://localhost:8080/"
        },
        "id": "nVK7tKBxSNii",
        "outputId": "4ecca007-11da-4acd-8965-c122890161f7"
      },
      "source": [
        "mean_val = data_hyderabad['avg_temp'].mean(axis=0,skipna=True)\n",
        "mean_val"
      ],
      "execution_count": 57,
      "outputs": [
        {
          "output_type": "execute_result",
          "data": {
            "text/plain": [
              "26.861563981042668"
            ]
          },
          "metadata": {
            "tags": []
          },
          "execution_count": 57
        }
      ]
    },
    {
      "cell_type": "code",
      "metadata": {
        "id": "UVF54LFMSaDJ"
      },
      "source": [
        "data_hyderabad_with_mean = data_hyderabad.fillna(mean_val)"
      ],
      "execution_count": 60,
      "outputs": []
    },
    {
      "cell_type": "code",
      "metadata": {
        "colab": {
          "base_uri": "https://localhost:8080/",
          "height": 297
        },
        "id": "uYTHJffiUeyT",
        "outputId": "e719ba22-d488-42d9-f02a-5110ebd9ac35"
      },
      "source": [
        "x_data_2 = data_hyderabad_with_mean['year']\n",
        "y_data_2 = data_hyderabad_with_mean['avg_temp']\n",
        "\n",
        "sns.lineplot(x=x_data_2,y=y_data_2,data=data_hyderabad_with_mean)"
      ],
      "execution_count": 66,
      "outputs": [
        {
          "output_type": "execute_result",
          "data": {
            "text/plain": [
              "<matplotlib.axes._subplots.AxesSubplot at 0x7f40ab151710>"
            ]
          },
          "metadata": {
            "tags": []
          },
          "execution_count": 66
        },
        {
          "output_type": "display_data",
          "data": {
            "image/png": "[encoded data removed]",
            "text/plain": [
              "<Figure size 432x288 with 1 Axes>"
            ]
          },
          "metadata": {
            "tags": [],
            "needs_background": "light"
          }
        }
      ]
    },
    {
      "cell_type": "markdown",
      "metadata": {
        "id": "LYaA_9i3U7fq"
      },
      "source": [
        "## Filling missing values with interpolation method"
      ]
    },
    {
      "cell_type": "code",
      "metadata": {
        "colab": {
          "base_uri": "https://localhost:8080/",
          "height": 297
        },
        "id": "jzHCzZ_mUpR9",
        "outputId": "281480e3-8b97-42b3-9641-07622235e54a"
      },
      "source": [
        "sns.lineplot(x=x_data,y=y_data,data=data_hyderabad.interpolate())"
      ],
      "execution_count": 68,
      "outputs": [
        {
          "output_type": "execute_result",
          "data": {
            "text/plain": [
              "<matplotlib.axes._subplots.AxesSubplot at 0x7f40aae08c90>"
            ]
          },
          "metadata": {
            "tags": []
          },
          "execution_count": 68
        },
        {
          "output_type": "display_data",
          "data": {
            "image/png": "[encoded data removed]",
            "text/plain": [
              "<Figure size 432x288 with 1 Axes>"
            ]
          },
          "metadata": {
            "tags": [],
            "needs_background": "light"
          }
        }
      ]
    },
    {
      "cell_type": "markdown",
      "metadata": {
        "id": "mkcObSpmaldU"
      },
      "source": [
        "## TODO: Finding Moving averages\n"
      ]
    },
    {
      "cell_type": "code",
      "metadata": {
        "id": "E7heesLjaq8B"
      },
      "source": [
        ""
      ],
      "execution_count": null,
      "outputs": []
    }
  ]
}